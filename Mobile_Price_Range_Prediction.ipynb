{
  "cells": [
    {
      "cell_type": "markdown",
      "metadata": {
        "id": "view-in-github",
        "colab_type": "text"
      },
      "source": [
        "<a href=\"https://colab.research.google.com/github/tawadesharad/Mobile-Price-Range-Prediction-Capstone-project-3/blob/main/Mobile_Price_Range_Prediction.ipynb\" target=\"_parent\"><img src=\"https://colab.research.google.com/assets/colab-badge.svg\" alt=\"Open In Colab\"/></a>"
      ]
    },
    {
      "cell_type": "markdown",
      "metadata": {
        "id": "tPCoWNA7rmXq"
      },
      "source": [
        "# **Mobile Phone Price Prediction Classification Project** "
      ]
    },
    {
      "cell_type": "markdown",
      "metadata": {
        "id": "S9zGFbZeGdNr"
      },
      "source": [
        "###In the competitive mobile phone market companies want to understand sales data of mobile phones and factors which drive the prices.\n",
        "\n",
        "###The objective is to find out some relation between features of a mobile phone(eg:- RAM,Internal Memory, etc) and its selling price. In this problem, we do not have to predict the actual price but a price range indicating how high the price is."
      ]
    },
    {
      "cell_type": "markdown",
      "metadata": {
        "id": "gIn4EWuEGatK"
      },
      "source": [
        "##Data Description -\n",
        "\n",
        "Battery_power - Total energy a battery can store in one time measured in mAh\n",
        "\n",
        "\n",
        "Blue - Has bluetooth or not\n",
        "\n",
        "\n",
        "Clock_speed - speed at which microprocessor executes instructions\n",
        "\n",
        "\n",
        "Dual_sim - Has dual sim support or not\n",
        "\n",
        "\n",
        "Fc - Front Camera mega pixels\n",
        "\n",
        "\n",
        "Four_g - Has 4G or not\n",
        "\n",
        "\n",
        "Int_memory - Internal Memory in Gigabytes\n",
        "\n",
        "\n",
        "M_dep - Mobile Depth in cm\n",
        "\n",
        "\n",
        "Mobile_wt - Weight of mobile phone\n",
        "\n",
        "\n",
        "N_cores - Number of cores of processor\n",
        "\n",
        "\n",
        "Pc - Primary Camera mega pixels\n",
        "\n",
        "\n",
        "Px_height - Pixel Resolution Height\n",
        "\n",
        "\n",
        "Px_width - Pixel Resolution Width\n",
        "\n",
        "\n",
        "Ram - Random Access Memory in Mega Bytes\n",
        "\n",
        "\n",
        "Sc_h - Screen Height of mobile in cm\n",
        "\n",
        "\n",
        "Sc_w - Screen Width of mobile in cm\n",
        "\n",
        "\n",
        "Talk_time - longest time that a single battery charge will last when you are\n",
        "\n",
        "\n",
        "Three_g - Has 3G or not\n",
        "\n",
        "\n",
        "Touch_screen - Has touch screen or not\n",
        "\n",
        "\n",
        "Wifi - Has wifi or not\n",
        "\n",
        "\n",
        "Price_range - This is the target variable with value of 0(low cost), 1(medium cost),\n",
        "\n",
        "\n",
        "2(high cost) and 3(very high cost)."
      ]
    },
    {
      "cell_type": "code",
      "execution_count": 213,
      "metadata": {
        "id": "P4hg7LHaLKGQ"
      },
      "outputs": [],
      "source": [
        "# Importing Basic Libraries\n",
        "\n",
        "\n",
        "import numpy as np\n",
        "import pandas as pd\n",
        "import matplotlib.pyplot as plt\n",
        "import seaborn as sns\n",
        "from sklearn.metrics import roc_curve, roc_auc_score\n",
        "from sklearn import datasets, metrics, model_selection, svm"
      ]
    },
    {
      "cell_type": "code",
      "execution_count": 214,
      "metadata": {
        "id": "6Wv3EHEErwDI"
      },
      "outputs": [],
      "source": [
        "# Importing drive\n",
        "\n",
        "\n",
        "# from google.colab import drive\n",
        "# drive.mount('/content/drive')"
      ]
    },
    {
      "cell_type": "code",
      "execution_count": 215,
      "metadata": {
        "id": "5xWLK4tzFR8y"
      },
      "outputs": [],
      "source": [
        "# Importing dataset\n",
        "\n",
        "\n",
        "# df = pd.read_csv('/content/drive/My Drive/Colab Notebooks/Capstone - 3 Classification Project/data_mobile_price_range.csv')\n",
        "df = pd.read_csv('https://raw.githubusercontent.com/tawadesharad/Mobile-Price-Range-Prediction-Capstone-project-3/main/data_mobile_price_range.csv')"
      ]
    },
    {
      "cell_type": "code",
      "execution_count": 216,
      "metadata": {
        "id": "aa2mxcWHUpUM",
        "colab": {
          "base_uri": "https://localhost:8080/",
          "height": 270
        },
        "outputId": "e8a83706-80e5-46ee-d0ac-bbfaf9d9831c"
      },
      "outputs": [
        {
          "output_type": "execute_result",
          "data": {
            "text/html": [
              "\n",
              "  <div id=\"df-daf83da5-b446-4cd8-8474-747c23c4567f\">\n",
              "    <div class=\"colab-df-container\">\n",
              "      <div>\n",
              "<style scoped>\n",
              "    .dataframe tbody tr th:only-of-type {\n",
              "        vertical-align: middle;\n",
              "    }\n",
              "\n",
              "    .dataframe tbody tr th {\n",
              "        vertical-align: top;\n",
              "    }\n",
              "\n",
              "    .dataframe thead th {\n",
              "        text-align: right;\n",
              "    }\n",
              "</style>\n",
              "<table border=\"1\" class=\"dataframe\">\n",
              "  <thead>\n",
              "    <tr style=\"text-align: right;\">\n",
              "      <th></th>\n",
              "      <th>battery_power</th>\n",
              "      <th>blue</th>\n",
              "      <th>clock_speed</th>\n",
              "      <th>dual_sim</th>\n",
              "      <th>fc</th>\n",
              "      <th>four_g</th>\n",
              "      <th>int_memory</th>\n",
              "      <th>m_dep</th>\n",
              "      <th>mobile_wt</th>\n",
              "      <th>n_cores</th>\n",
              "      <th>pc</th>\n",
              "      <th>px_height</th>\n",
              "      <th>px_width</th>\n",
              "      <th>ram</th>\n",
              "      <th>sc_h</th>\n",
              "      <th>sc_w</th>\n",
              "      <th>talk_time</th>\n",
              "      <th>three_g</th>\n",
              "      <th>touch_screen</th>\n",
              "      <th>wifi</th>\n",
              "      <th>price_range</th>\n",
              "    </tr>\n",
              "  </thead>\n",
              "  <tbody>\n",
              "    <tr>\n",
              "      <th>0</th>\n",
              "      <td>842</td>\n",
              "      <td>0</td>\n",
              "      <td>2.2</td>\n",
              "      <td>0</td>\n",
              "      <td>1</td>\n",
              "      <td>0</td>\n",
              "      <td>7</td>\n",
              "      <td>0.6</td>\n",
              "      <td>188</td>\n",
              "      <td>2</td>\n",
              "      <td>2</td>\n",
              "      <td>20</td>\n",
              "      <td>756</td>\n",
              "      <td>2549</td>\n",
              "      <td>9</td>\n",
              "      <td>7</td>\n",
              "      <td>19</td>\n",
              "      <td>0</td>\n",
              "      <td>0</td>\n",
              "      <td>1</td>\n",
              "      <td>1</td>\n",
              "    </tr>\n",
              "    <tr>\n",
              "      <th>1</th>\n",
              "      <td>1021</td>\n",
              "      <td>1</td>\n",
              "      <td>0.5</td>\n",
              "      <td>1</td>\n",
              "      <td>0</td>\n",
              "      <td>1</td>\n",
              "      <td>53</td>\n",
              "      <td>0.7</td>\n",
              "      <td>136</td>\n",
              "      <td>3</td>\n",
              "      <td>6</td>\n",
              "      <td>905</td>\n",
              "      <td>1988</td>\n",
              "      <td>2631</td>\n",
              "      <td>17</td>\n",
              "      <td>3</td>\n",
              "      <td>7</td>\n",
              "      <td>1</td>\n",
              "      <td>1</td>\n",
              "      <td>0</td>\n",
              "      <td>2</td>\n",
              "    </tr>\n",
              "    <tr>\n",
              "      <th>2</th>\n",
              "      <td>563</td>\n",
              "      <td>1</td>\n",
              "      <td>0.5</td>\n",
              "      <td>1</td>\n",
              "      <td>2</td>\n",
              "      <td>1</td>\n",
              "      <td>41</td>\n",
              "      <td>0.9</td>\n",
              "      <td>145</td>\n",
              "      <td>5</td>\n",
              "      <td>6</td>\n",
              "      <td>1263</td>\n",
              "      <td>1716</td>\n",
              "      <td>2603</td>\n",
              "      <td>11</td>\n",
              "      <td>2</td>\n",
              "      <td>9</td>\n",
              "      <td>1</td>\n",
              "      <td>1</td>\n",
              "      <td>0</td>\n",
              "      <td>2</td>\n",
              "    </tr>\n",
              "    <tr>\n",
              "      <th>3</th>\n",
              "      <td>615</td>\n",
              "      <td>1</td>\n",
              "      <td>2.5</td>\n",
              "      <td>0</td>\n",
              "      <td>0</td>\n",
              "      <td>0</td>\n",
              "      <td>10</td>\n",
              "      <td>0.8</td>\n",
              "      <td>131</td>\n",
              "      <td>6</td>\n",
              "      <td>9</td>\n",
              "      <td>1216</td>\n",
              "      <td>1786</td>\n",
              "      <td>2769</td>\n",
              "      <td>16</td>\n",
              "      <td>8</td>\n",
              "      <td>11</td>\n",
              "      <td>1</td>\n",
              "      <td>0</td>\n",
              "      <td>0</td>\n",
              "      <td>2</td>\n",
              "    </tr>\n",
              "    <tr>\n",
              "      <th>4</th>\n",
              "      <td>1821</td>\n",
              "      <td>1</td>\n",
              "      <td>1.2</td>\n",
              "      <td>0</td>\n",
              "      <td>13</td>\n",
              "      <td>1</td>\n",
              "      <td>44</td>\n",
              "      <td>0.6</td>\n",
              "      <td>141</td>\n",
              "      <td>2</td>\n",
              "      <td>14</td>\n",
              "      <td>1208</td>\n",
              "      <td>1212</td>\n",
              "      <td>1411</td>\n",
              "      <td>8</td>\n",
              "      <td>2</td>\n",
              "      <td>15</td>\n",
              "      <td>1</td>\n",
              "      <td>1</td>\n",
              "      <td>0</td>\n",
              "      <td>1</td>\n",
              "    </tr>\n",
              "  </tbody>\n",
              "</table>\n",
              "</div>\n",
              "      <button class=\"colab-df-convert\" onclick=\"convertToInteractive('df-daf83da5-b446-4cd8-8474-747c23c4567f')\"\n",
              "              title=\"Convert this dataframe to an interactive table.\"\n",
              "              style=\"display:none;\">\n",
              "        \n",
              "  <svg xmlns=\"http://www.w3.org/2000/svg\" height=\"24px\"viewBox=\"0 0 24 24\"\n",
              "       width=\"24px\">\n",
              "    <path d=\"M0 0h24v24H0V0z\" fill=\"none\"/>\n",
              "    <path d=\"M18.56 5.44l.94 2.06.94-2.06 2.06-.94-2.06-.94-.94-2.06-.94 2.06-2.06.94zm-11 1L8.5 8.5l.94-2.06 2.06-.94-2.06-.94L8.5 2.5l-.94 2.06-2.06.94zm10 10l.94 2.06.94-2.06 2.06-.94-2.06-.94-.94-2.06-.94 2.06-2.06.94z\"/><path d=\"M17.41 7.96l-1.37-1.37c-.4-.4-.92-.59-1.43-.59-.52 0-1.04.2-1.43.59L10.3 9.45l-7.72 7.72c-.78.78-.78 2.05 0 2.83L4 21.41c.39.39.9.59 1.41.59.51 0 1.02-.2 1.41-.59l7.78-7.78 2.81-2.81c.8-.78.8-2.07 0-2.86zM5.41 20L4 18.59l7.72-7.72 1.47 1.35L5.41 20z\"/>\n",
              "  </svg>\n",
              "      </button>\n",
              "      \n",
              "  <style>\n",
              "    .colab-df-container {\n",
              "      display:flex;\n",
              "      flex-wrap:wrap;\n",
              "      gap: 12px;\n",
              "    }\n",
              "\n",
              "    .colab-df-convert {\n",
              "      background-color: #E8F0FE;\n",
              "      border: none;\n",
              "      border-radius: 50%;\n",
              "      cursor: pointer;\n",
              "      display: none;\n",
              "      fill: #1967D2;\n",
              "      height: 32px;\n",
              "      padding: 0 0 0 0;\n",
              "      width: 32px;\n",
              "    }\n",
              "\n",
              "    .colab-df-convert:hover {\n",
              "      background-color: #E2EBFA;\n",
              "      box-shadow: 0px 1px 2px rgba(60, 64, 67, 0.3), 0px 1px 3px 1px rgba(60, 64, 67, 0.15);\n",
              "      fill: #174EA6;\n",
              "    }\n",
              "\n",
              "    [theme=dark] .colab-df-convert {\n",
              "      background-color: #3B4455;\n",
              "      fill: #D2E3FC;\n",
              "    }\n",
              "\n",
              "    [theme=dark] .colab-df-convert:hover {\n",
              "      background-color: #434B5C;\n",
              "      box-shadow: 0px 1px 3px 1px rgba(0, 0, 0, 0.15);\n",
              "      filter: drop-shadow(0px 1px 2px rgba(0, 0, 0, 0.3));\n",
              "      fill: #FFFFFF;\n",
              "    }\n",
              "  </style>\n",
              "\n",
              "      <script>\n",
              "        const buttonEl =\n",
              "          document.querySelector('#df-daf83da5-b446-4cd8-8474-747c23c4567f button.colab-df-convert');\n",
              "        buttonEl.style.display =\n",
              "          google.colab.kernel.accessAllowed ? 'block' : 'none';\n",
              "\n",
              "        async function convertToInteractive(key) {\n",
              "          const element = document.querySelector('#df-daf83da5-b446-4cd8-8474-747c23c4567f');\n",
              "          const dataTable =\n",
              "            await google.colab.kernel.invokeFunction('convertToInteractive',\n",
              "                                                     [key], {});\n",
              "          if (!dataTable) return;\n",
              "\n",
              "          const docLinkHtml = 'Like what you see? Visit the ' +\n",
              "            '<a target=\"_blank\" href=https://colab.research.google.com/notebooks/data_table.ipynb>data table notebook</a>'\n",
              "            + ' to learn more about interactive tables.';\n",
              "          element.innerHTML = '';\n",
              "          dataTable['output_type'] = 'display_data';\n",
              "          await google.colab.output.renderOutput(dataTable, element);\n",
              "          const docLink = document.createElement('div');\n",
              "          docLink.innerHTML = docLinkHtml;\n",
              "          element.appendChild(docLink);\n",
              "        }\n",
              "      </script>\n",
              "    </div>\n",
              "  </div>\n",
              "  "
            ],
            "text/plain": [
              "   battery_power  blue  clock_speed  ...  touch_screen  wifi  price_range\n",
              "0            842     0          2.2  ...             0     1            1\n",
              "1           1021     1          0.5  ...             1     0            2\n",
              "2            563     1          0.5  ...             1     0            2\n",
              "3            615     1          2.5  ...             0     0            2\n",
              "4           1821     1          1.2  ...             1     0            1\n",
              "\n",
              "[5 rows x 21 columns]"
            ]
          },
          "metadata": {},
          "execution_count": 216
        }
      ],
      "source": [
        "# First Look\n",
        "df.head()"
      ]
    },
    {
      "cell_type": "code",
      "execution_count": 217,
      "metadata": {
        "id": "-YcONNpNUvhF",
        "colab": {
          "base_uri": "https://localhost:8080/",
          "height": 270
        },
        "outputId": "2d3308c2-9a0e-4b80-8df4-f5fe491387d0"
      },
      "outputs": [
        {
          "output_type": "execute_result",
          "data": {
            "text/html": [
              "\n",
              "  <div id=\"df-9ee57de1-bcc3-4152-ac21-8bc943863032\">\n",
              "    <div class=\"colab-df-container\">\n",
              "      <div>\n",
              "<style scoped>\n",
              "    .dataframe tbody tr th:only-of-type {\n",
              "        vertical-align: middle;\n",
              "    }\n",
              "\n",
              "    .dataframe tbody tr th {\n",
              "        vertical-align: top;\n",
              "    }\n",
              "\n",
              "    .dataframe thead th {\n",
              "        text-align: right;\n",
              "    }\n",
              "</style>\n",
              "<table border=\"1\" class=\"dataframe\">\n",
              "  <thead>\n",
              "    <tr style=\"text-align: right;\">\n",
              "      <th></th>\n",
              "      <th>battery_power</th>\n",
              "      <th>blue</th>\n",
              "      <th>clock_speed</th>\n",
              "      <th>dual_sim</th>\n",
              "      <th>fc</th>\n",
              "      <th>four_g</th>\n",
              "      <th>int_memory</th>\n",
              "      <th>m_dep</th>\n",
              "      <th>mobile_wt</th>\n",
              "      <th>n_cores</th>\n",
              "      <th>pc</th>\n",
              "      <th>px_height</th>\n",
              "      <th>px_width</th>\n",
              "      <th>ram</th>\n",
              "      <th>sc_h</th>\n",
              "      <th>sc_w</th>\n",
              "      <th>talk_time</th>\n",
              "      <th>three_g</th>\n",
              "      <th>touch_screen</th>\n",
              "      <th>wifi</th>\n",
              "      <th>price_range</th>\n",
              "    </tr>\n",
              "  </thead>\n",
              "  <tbody>\n",
              "    <tr>\n",
              "      <th>1995</th>\n",
              "      <td>794</td>\n",
              "      <td>1</td>\n",
              "      <td>0.5</td>\n",
              "      <td>1</td>\n",
              "      <td>0</td>\n",
              "      <td>1</td>\n",
              "      <td>2</td>\n",
              "      <td>0.8</td>\n",
              "      <td>106</td>\n",
              "      <td>6</td>\n",
              "      <td>14</td>\n",
              "      <td>1222</td>\n",
              "      <td>1890</td>\n",
              "      <td>668</td>\n",
              "      <td>13</td>\n",
              "      <td>4</td>\n",
              "      <td>19</td>\n",
              "      <td>1</td>\n",
              "      <td>1</td>\n",
              "      <td>0</td>\n",
              "      <td>0</td>\n",
              "    </tr>\n",
              "    <tr>\n",
              "      <th>1996</th>\n",
              "      <td>1965</td>\n",
              "      <td>1</td>\n",
              "      <td>2.6</td>\n",
              "      <td>1</td>\n",
              "      <td>0</td>\n",
              "      <td>0</td>\n",
              "      <td>39</td>\n",
              "      <td>0.2</td>\n",
              "      <td>187</td>\n",
              "      <td>4</td>\n",
              "      <td>3</td>\n",
              "      <td>915</td>\n",
              "      <td>1965</td>\n",
              "      <td>2032</td>\n",
              "      <td>11</td>\n",
              "      <td>10</td>\n",
              "      <td>16</td>\n",
              "      <td>1</td>\n",
              "      <td>1</td>\n",
              "      <td>1</td>\n",
              "      <td>2</td>\n",
              "    </tr>\n",
              "    <tr>\n",
              "      <th>1997</th>\n",
              "      <td>1911</td>\n",
              "      <td>0</td>\n",
              "      <td>0.9</td>\n",
              "      <td>1</td>\n",
              "      <td>1</td>\n",
              "      <td>1</td>\n",
              "      <td>36</td>\n",
              "      <td>0.7</td>\n",
              "      <td>108</td>\n",
              "      <td>8</td>\n",
              "      <td>3</td>\n",
              "      <td>868</td>\n",
              "      <td>1632</td>\n",
              "      <td>3057</td>\n",
              "      <td>9</td>\n",
              "      <td>1</td>\n",
              "      <td>5</td>\n",
              "      <td>1</td>\n",
              "      <td>1</td>\n",
              "      <td>0</td>\n",
              "      <td>3</td>\n",
              "    </tr>\n",
              "    <tr>\n",
              "      <th>1998</th>\n",
              "      <td>1512</td>\n",
              "      <td>0</td>\n",
              "      <td>0.9</td>\n",
              "      <td>0</td>\n",
              "      <td>4</td>\n",
              "      <td>1</td>\n",
              "      <td>46</td>\n",
              "      <td>0.1</td>\n",
              "      <td>145</td>\n",
              "      <td>5</td>\n",
              "      <td>5</td>\n",
              "      <td>336</td>\n",
              "      <td>670</td>\n",
              "      <td>869</td>\n",
              "      <td>18</td>\n",
              "      <td>10</td>\n",
              "      <td>19</td>\n",
              "      <td>1</td>\n",
              "      <td>1</td>\n",
              "      <td>1</td>\n",
              "      <td>0</td>\n",
              "    </tr>\n",
              "    <tr>\n",
              "      <th>1999</th>\n",
              "      <td>510</td>\n",
              "      <td>1</td>\n",
              "      <td>2.0</td>\n",
              "      <td>1</td>\n",
              "      <td>5</td>\n",
              "      <td>1</td>\n",
              "      <td>45</td>\n",
              "      <td>0.9</td>\n",
              "      <td>168</td>\n",
              "      <td>6</td>\n",
              "      <td>16</td>\n",
              "      <td>483</td>\n",
              "      <td>754</td>\n",
              "      <td>3919</td>\n",
              "      <td>19</td>\n",
              "      <td>4</td>\n",
              "      <td>2</td>\n",
              "      <td>1</td>\n",
              "      <td>1</td>\n",
              "      <td>1</td>\n",
              "      <td>3</td>\n",
              "    </tr>\n",
              "  </tbody>\n",
              "</table>\n",
              "</div>\n",
              "      <button class=\"colab-df-convert\" onclick=\"convertToInteractive('df-9ee57de1-bcc3-4152-ac21-8bc943863032')\"\n",
              "              title=\"Convert this dataframe to an interactive table.\"\n",
              "              style=\"display:none;\">\n",
              "        \n",
              "  <svg xmlns=\"http://www.w3.org/2000/svg\" height=\"24px\"viewBox=\"0 0 24 24\"\n",
              "       width=\"24px\">\n",
              "    <path d=\"M0 0h24v24H0V0z\" fill=\"none\"/>\n",
              "    <path d=\"M18.56 5.44l.94 2.06.94-2.06 2.06-.94-2.06-.94-.94-2.06-.94 2.06-2.06.94zm-11 1L8.5 8.5l.94-2.06 2.06-.94-2.06-.94L8.5 2.5l-.94 2.06-2.06.94zm10 10l.94 2.06.94-2.06 2.06-.94-2.06-.94-.94-2.06-.94 2.06-2.06.94z\"/><path d=\"M17.41 7.96l-1.37-1.37c-.4-.4-.92-.59-1.43-.59-.52 0-1.04.2-1.43.59L10.3 9.45l-7.72 7.72c-.78.78-.78 2.05 0 2.83L4 21.41c.39.39.9.59 1.41.59.51 0 1.02-.2 1.41-.59l7.78-7.78 2.81-2.81c.8-.78.8-2.07 0-2.86zM5.41 20L4 18.59l7.72-7.72 1.47 1.35L5.41 20z\"/>\n",
              "  </svg>\n",
              "      </button>\n",
              "      \n",
              "  <style>\n",
              "    .colab-df-container {\n",
              "      display:flex;\n",
              "      flex-wrap:wrap;\n",
              "      gap: 12px;\n",
              "    }\n",
              "\n",
              "    .colab-df-convert {\n",
              "      background-color: #E8F0FE;\n",
              "      border: none;\n",
              "      border-radius: 50%;\n",
              "      cursor: pointer;\n",
              "      display: none;\n",
              "      fill: #1967D2;\n",
              "      height: 32px;\n",
              "      padding: 0 0 0 0;\n",
              "      width: 32px;\n",
              "    }\n",
              "\n",
              "    .colab-df-convert:hover {\n",
              "      background-color: #E2EBFA;\n",
              "      box-shadow: 0px 1px 2px rgba(60, 64, 67, 0.3), 0px 1px 3px 1px rgba(60, 64, 67, 0.15);\n",
              "      fill: #174EA6;\n",
              "    }\n",
              "\n",
              "    [theme=dark] .colab-df-convert {\n",
              "      background-color: #3B4455;\n",
              "      fill: #D2E3FC;\n",
              "    }\n",
              "\n",
              "    [theme=dark] .colab-df-convert:hover {\n",
              "      background-color: #434B5C;\n",
              "      box-shadow: 0px 1px 3px 1px rgba(0, 0, 0, 0.15);\n",
              "      filter: drop-shadow(0px 1px 2px rgba(0, 0, 0, 0.3));\n",
              "      fill: #FFFFFF;\n",
              "    }\n",
              "  </style>\n",
              "\n",
              "      <script>\n",
              "        const buttonEl =\n",
              "          document.querySelector('#df-9ee57de1-bcc3-4152-ac21-8bc943863032 button.colab-df-convert');\n",
              "        buttonEl.style.display =\n",
              "          google.colab.kernel.accessAllowed ? 'block' : 'none';\n",
              "\n",
              "        async function convertToInteractive(key) {\n",
              "          const element = document.querySelector('#df-9ee57de1-bcc3-4152-ac21-8bc943863032');\n",
              "          const dataTable =\n",
              "            await google.colab.kernel.invokeFunction('convertToInteractive',\n",
              "                                                     [key], {});\n",
              "          if (!dataTable) return;\n",
              "\n",
              "          const docLinkHtml = 'Like what you see? Visit the ' +\n",
              "            '<a target=\"_blank\" href=https://colab.research.google.com/notebooks/data_table.ipynb>data table notebook</a>'\n",
              "            + ' to learn more about interactive tables.';\n",
              "          element.innerHTML = '';\n",
              "          dataTable['output_type'] = 'display_data';\n",
              "          await google.colab.output.renderOutput(dataTable, element);\n",
              "          const docLink = document.createElement('div');\n",
              "          docLink.innerHTML = docLinkHtml;\n",
              "          element.appendChild(docLink);\n",
              "        }\n",
              "      </script>\n",
              "    </div>\n",
              "  </div>\n",
              "  "
            ],
            "text/plain": [
              "      battery_power  blue  clock_speed  ...  touch_screen  wifi  price_range\n",
              "1995            794     1          0.5  ...             1     0            0\n",
              "1996           1965     1          2.6  ...             1     1            2\n",
              "1997           1911     0          0.9  ...             1     0            3\n",
              "1998           1512     0          0.9  ...             1     1            0\n",
              "1999            510     1          2.0  ...             1     1            3\n",
              "\n",
              "[5 rows x 21 columns]"
            ]
          },
          "metadata": {},
          "execution_count": 217
        }
      ],
      "source": [
        "df.tail()"
      ]
    },
    {
      "cell_type": "code",
      "execution_count": 218,
      "metadata": {
        "id": "KkDdy_otUwn_",
        "colab": {
          "base_uri": "https://localhost:8080/"
        },
        "outputId": "33187972-5d68-437d-c8da-4c5a4b7fb2df"
      },
      "outputs": [
        {
          "output_type": "stream",
          "name": "stdout",
          "text": [
            "The shape of our dataset is :  (2000, 21)\n"
          ]
        }
      ],
      "source": [
        "print(\"The shape of our dataset is : \", df.shape)"
      ]
    },
    {
      "cell_type": "code",
      "execution_count": 219,
      "metadata": {
        "id": "lJuqgmkzU3ku",
        "colab": {
          "base_uri": "https://localhost:8080/"
        },
        "outputId": "1de8da7f-6b77-404a-a8e5-64bf43ede38c"
      },
      "outputs": [
        {
          "output_type": "stream",
          "name": "stdout",
          "text": [
            "Our dataset has 2000 and 21 columns\n"
          ]
        }
      ],
      "source": [
        "rows = df.shape[0]\n",
        "columns = df.shape[1]\n",
        "\n",
        "print(f\"Our dataset has {rows} and {columns} columns\")"
      ]
    },
    {
      "cell_type": "code",
      "execution_count": 220,
      "metadata": {
        "id": "_vMYdBXRWsxU",
        "colab": {
          "base_uri": "https://localhost:8080/"
        },
        "outputId": "5e69a4db-dbd1-4bd2-ee66-907a9e48106f"
      },
      "outputs": [
        {
          "output_type": "execute_result",
          "data": {
            "text/plain": [
              "battery_power    0\n",
              "px_height        0\n",
              "wifi             0\n",
              "touch_screen     0\n",
              "three_g          0\n",
              "talk_time        0\n",
              "sc_w             0\n",
              "sc_h             0\n",
              "ram              0\n",
              "px_width         0\n",
              "pc               0\n",
              "blue             0\n",
              "n_cores          0\n",
              "mobile_wt        0\n",
              "m_dep            0\n",
              "int_memory       0\n",
              "four_g           0\n",
              "fc               0\n",
              "dual_sim         0\n",
              "clock_speed      0\n",
              "price_range      0\n",
              "dtype: int64"
            ]
          },
          "metadata": {},
          "execution_count": 220
        }
      ],
      "source": [
        "# Check for Null values\n",
        "\n",
        "df.isnull().sum().sort_values(ascending = False)"
      ]
    },
    {
      "cell_type": "markdown",
      "metadata": {
        "id": "UT9Pu_NMWx1i"
      },
      "source": [
        "### We have 0 Null values hence saves our time, moving forward"
      ]
    },
    {
      "cell_type": "code",
      "execution_count": 221,
      "metadata": {
        "id": "gYkTCOTWWvHt",
        "colab": {
          "base_uri": "https://localhost:8080/"
        },
        "outputId": "cf9239f5-2137-434a-9fe1-cbb76d8d57c7"
      },
      "outputs": [
        {
          "output_type": "stream",
          "name": "stdout",
          "text": [
            "<class 'pandas.core.frame.DataFrame'>\n",
            "RangeIndex: 2000 entries, 0 to 1999\n",
            "Data columns (total 21 columns):\n",
            " #   Column         Non-Null Count  Dtype  \n",
            "---  ------         --------------  -----  \n",
            " 0   battery_power  2000 non-null   int64  \n",
            " 1   blue           2000 non-null   int64  \n",
            " 2   clock_speed    2000 non-null   float64\n",
            " 3   dual_sim       2000 non-null   int64  \n",
            " 4   fc             2000 non-null   int64  \n",
            " 5   four_g         2000 non-null   int64  \n",
            " 6   int_memory     2000 non-null   int64  \n",
            " 7   m_dep          2000 non-null   float64\n",
            " 8   mobile_wt      2000 non-null   int64  \n",
            " 9   n_cores        2000 non-null   int64  \n",
            " 10  pc             2000 non-null   int64  \n",
            " 11  px_height      2000 non-null   int64  \n",
            " 12  px_width       2000 non-null   int64  \n",
            " 13  ram            2000 non-null   int64  \n",
            " 14  sc_h           2000 non-null   int64  \n",
            " 15  sc_w           2000 non-null   int64  \n",
            " 16  talk_time      2000 non-null   int64  \n",
            " 17  three_g        2000 non-null   int64  \n",
            " 18  touch_screen   2000 non-null   int64  \n",
            " 19  wifi           2000 non-null   int64  \n",
            " 20  price_range    2000 non-null   int64  \n",
            "dtypes: float64(2), int64(19)\n",
            "memory usage: 328.2 KB\n"
          ]
        }
      ],
      "source": [
        "df.info()"
      ]
    },
    {
      "cell_type": "code",
      "execution_count": 222,
      "metadata": {
        "id": "fC45lx6YWxID",
        "colab": {
          "base_uri": "https://localhost:8080/"
        },
        "outputId": "5746f6e9-88f0-4fb8-c083-cfd5b9d9aa88"
      },
      "outputs": [
        {
          "output_type": "execute_result",
          "data": {
            "text/plain": [
              "0"
            ]
          },
          "metadata": {},
          "execution_count": 222
        }
      ],
      "source": [
        "# Check for duplicate values\n",
        "\n",
        "len(df[df.duplicated()])"
      ]
    },
    {
      "cell_type": "code",
      "execution_count": 223,
      "metadata": {
        "id": "UOjRYKdxW7Qm",
        "colab": {
          "base_uri": "https://localhost:8080/",
          "height": 364
        },
        "outputId": "edb8e028-a1ae-4a58-efcf-e1420d97af28"
      },
      "outputs": [
        {
          "output_type": "execute_result",
          "data": {
            "text/html": [
              "\n",
              "  <div id=\"df-0b041c5c-fb9f-4085-a640-7874f70d9413\">\n",
              "    <div class=\"colab-df-container\">\n",
              "      <div>\n",
              "<style scoped>\n",
              "    .dataframe tbody tr th:only-of-type {\n",
              "        vertical-align: middle;\n",
              "    }\n",
              "\n",
              "    .dataframe tbody tr th {\n",
              "        vertical-align: top;\n",
              "    }\n",
              "\n",
              "    .dataframe thead th {\n",
              "        text-align: right;\n",
              "    }\n",
              "</style>\n",
              "<table border=\"1\" class=\"dataframe\">\n",
              "  <thead>\n",
              "    <tr style=\"text-align: right;\">\n",
              "      <th></th>\n",
              "      <th>battery_power</th>\n",
              "      <th>blue</th>\n",
              "      <th>clock_speed</th>\n",
              "      <th>dual_sim</th>\n",
              "      <th>fc</th>\n",
              "      <th>four_g</th>\n",
              "      <th>int_memory</th>\n",
              "      <th>m_dep</th>\n",
              "      <th>mobile_wt</th>\n",
              "      <th>n_cores</th>\n",
              "      <th>pc</th>\n",
              "      <th>px_height</th>\n",
              "      <th>px_width</th>\n",
              "      <th>ram</th>\n",
              "      <th>sc_h</th>\n",
              "      <th>sc_w</th>\n",
              "      <th>talk_time</th>\n",
              "      <th>three_g</th>\n",
              "      <th>touch_screen</th>\n",
              "      <th>wifi</th>\n",
              "      <th>price_range</th>\n",
              "    </tr>\n",
              "  </thead>\n",
              "  <tbody>\n",
              "    <tr>\n",
              "      <th>count</th>\n",
              "      <td>2000.000000</td>\n",
              "      <td>2000.0000</td>\n",
              "      <td>2000.000000</td>\n",
              "      <td>2000.000000</td>\n",
              "      <td>2000.000000</td>\n",
              "      <td>2000.000000</td>\n",
              "      <td>2000.000000</td>\n",
              "      <td>2000.000000</td>\n",
              "      <td>2000.000000</td>\n",
              "      <td>2000.000000</td>\n",
              "      <td>2000.000000</td>\n",
              "      <td>2000.000000</td>\n",
              "      <td>2000.000000</td>\n",
              "      <td>2000.000000</td>\n",
              "      <td>2000.000000</td>\n",
              "      <td>2000.000000</td>\n",
              "      <td>2000.000000</td>\n",
              "      <td>2000.000000</td>\n",
              "      <td>2000.000000</td>\n",
              "      <td>2000.000000</td>\n",
              "      <td>2000.000000</td>\n",
              "    </tr>\n",
              "    <tr>\n",
              "      <th>mean</th>\n",
              "      <td>1238.518500</td>\n",
              "      <td>0.4950</td>\n",
              "      <td>1.522250</td>\n",
              "      <td>0.509500</td>\n",
              "      <td>4.309500</td>\n",
              "      <td>0.521500</td>\n",
              "      <td>32.046500</td>\n",
              "      <td>0.501750</td>\n",
              "      <td>140.249000</td>\n",
              "      <td>4.520500</td>\n",
              "      <td>9.916500</td>\n",
              "      <td>645.108000</td>\n",
              "      <td>1251.515500</td>\n",
              "      <td>2124.213000</td>\n",
              "      <td>12.306500</td>\n",
              "      <td>5.767000</td>\n",
              "      <td>11.011000</td>\n",
              "      <td>0.761500</td>\n",
              "      <td>0.503000</td>\n",
              "      <td>0.507000</td>\n",
              "      <td>1.500000</td>\n",
              "    </tr>\n",
              "    <tr>\n",
              "      <th>std</th>\n",
              "      <td>439.418206</td>\n",
              "      <td>0.5001</td>\n",
              "      <td>0.816004</td>\n",
              "      <td>0.500035</td>\n",
              "      <td>4.341444</td>\n",
              "      <td>0.499662</td>\n",
              "      <td>18.145715</td>\n",
              "      <td>0.288416</td>\n",
              "      <td>35.399655</td>\n",
              "      <td>2.287837</td>\n",
              "      <td>6.064315</td>\n",
              "      <td>443.780811</td>\n",
              "      <td>432.199447</td>\n",
              "      <td>1084.732044</td>\n",
              "      <td>4.213245</td>\n",
              "      <td>4.356398</td>\n",
              "      <td>5.463955</td>\n",
              "      <td>0.426273</td>\n",
              "      <td>0.500116</td>\n",
              "      <td>0.500076</td>\n",
              "      <td>1.118314</td>\n",
              "    </tr>\n",
              "    <tr>\n",
              "      <th>min</th>\n",
              "      <td>501.000000</td>\n",
              "      <td>0.0000</td>\n",
              "      <td>0.500000</td>\n",
              "      <td>0.000000</td>\n",
              "      <td>0.000000</td>\n",
              "      <td>0.000000</td>\n",
              "      <td>2.000000</td>\n",
              "      <td>0.100000</td>\n",
              "      <td>80.000000</td>\n",
              "      <td>1.000000</td>\n",
              "      <td>0.000000</td>\n",
              "      <td>0.000000</td>\n",
              "      <td>500.000000</td>\n",
              "      <td>256.000000</td>\n",
              "      <td>5.000000</td>\n",
              "      <td>0.000000</td>\n",
              "      <td>2.000000</td>\n",
              "      <td>0.000000</td>\n",
              "      <td>0.000000</td>\n",
              "      <td>0.000000</td>\n",
              "      <td>0.000000</td>\n",
              "    </tr>\n",
              "    <tr>\n",
              "      <th>25%</th>\n",
              "      <td>851.750000</td>\n",
              "      <td>0.0000</td>\n",
              "      <td>0.700000</td>\n",
              "      <td>0.000000</td>\n",
              "      <td>1.000000</td>\n",
              "      <td>0.000000</td>\n",
              "      <td>16.000000</td>\n",
              "      <td>0.200000</td>\n",
              "      <td>109.000000</td>\n",
              "      <td>3.000000</td>\n",
              "      <td>5.000000</td>\n",
              "      <td>282.750000</td>\n",
              "      <td>874.750000</td>\n",
              "      <td>1207.500000</td>\n",
              "      <td>9.000000</td>\n",
              "      <td>2.000000</td>\n",
              "      <td>6.000000</td>\n",
              "      <td>1.000000</td>\n",
              "      <td>0.000000</td>\n",
              "      <td>0.000000</td>\n",
              "      <td>0.750000</td>\n",
              "    </tr>\n",
              "    <tr>\n",
              "      <th>50%</th>\n",
              "      <td>1226.000000</td>\n",
              "      <td>0.0000</td>\n",
              "      <td>1.500000</td>\n",
              "      <td>1.000000</td>\n",
              "      <td>3.000000</td>\n",
              "      <td>1.000000</td>\n",
              "      <td>32.000000</td>\n",
              "      <td>0.500000</td>\n",
              "      <td>141.000000</td>\n",
              "      <td>4.000000</td>\n",
              "      <td>10.000000</td>\n",
              "      <td>564.000000</td>\n",
              "      <td>1247.000000</td>\n",
              "      <td>2146.500000</td>\n",
              "      <td>12.000000</td>\n",
              "      <td>5.000000</td>\n",
              "      <td>11.000000</td>\n",
              "      <td>1.000000</td>\n",
              "      <td>1.000000</td>\n",
              "      <td>1.000000</td>\n",
              "      <td>1.500000</td>\n",
              "    </tr>\n",
              "    <tr>\n",
              "      <th>75%</th>\n",
              "      <td>1615.250000</td>\n",
              "      <td>1.0000</td>\n",
              "      <td>2.200000</td>\n",
              "      <td>1.000000</td>\n",
              "      <td>7.000000</td>\n",
              "      <td>1.000000</td>\n",
              "      <td>48.000000</td>\n",
              "      <td>0.800000</td>\n",
              "      <td>170.000000</td>\n",
              "      <td>7.000000</td>\n",
              "      <td>15.000000</td>\n",
              "      <td>947.250000</td>\n",
              "      <td>1633.000000</td>\n",
              "      <td>3064.500000</td>\n",
              "      <td>16.000000</td>\n",
              "      <td>9.000000</td>\n",
              "      <td>16.000000</td>\n",
              "      <td>1.000000</td>\n",
              "      <td>1.000000</td>\n",
              "      <td>1.000000</td>\n",
              "      <td>2.250000</td>\n",
              "    </tr>\n",
              "    <tr>\n",
              "      <th>max</th>\n",
              "      <td>1998.000000</td>\n",
              "      <td>1.0000</td>\n",
              "      <td>3.000000</td>\n",
              "      <td>1.000000</td>\n",
              "      <td>19.000000</td>\n",
              "      <td>1.000000</td>\n",
              "      <td>64.000000</td>\n",
              "      <td>1.000000</td>\n",
              "      <td>200.000000</td>\n",
              "      <td>8.000000</td>\n",
              "      <td>20.000000</td>\n",
              "      <td>1960.000000</td>\n",
              "      <td>1998.000000</td>\n",
              "      <td>3998.000000</td>\n",
              "      <td>19.000000</td>\n",
              "      <td>18.000000</td>\n",
              "      <td>20.000000</td>\n",
              "      <td>1.000000</td>\n",
              "      <td>1.000000</td>\n",
              "      <td>1.000000</td>\n",
              "      <td>3.000000</td>\n",
              "    </tr>\n",
              "  </tbody>\n",
              "</table>\n",
              "</div>\n",
              "      <button class=\"colab-df-convert\" onclick=\"convertToInteractive('df-0b041c5c-fb9f-4085-a640-7874f70d9413')\"\n",
              "              title=\"Convert this dataframe to an interactive table.\"\n",
              "              style=\"display:none;\">\n",
              "        \n",
              "  <svg xmlns=\"http://www.w3.org/2000/svg\" height=\"24px\"viewBox=\"0 0 24 24\"\n",
              "       width=\"24px\">\n",
              "    <path d=\"M0 0h24v24H0V0z\" fill=\"none\"/>\n",
              "    <path d=\"M18.56 5.44l.94 2.06.94-2.06 2.06-.94-2.06-.94-.94-2.06-.94 2.06-2.06.94zm-11 1L8.5 8.5l.94-2.06 2.06-.94-2.06-.94L8.5 2.5l-.94 2.06-2.06.94zm10 10l.94 2.06.94-2.06 2.06-.94-2.06-.94-.94-2.06-.94 2.06-2.06.94z\"/><path d=\"M17.41 7.96l-1.37-1.37c-.4-.4-.92-.59-1.43-.59-.52 0-1.04.2-1.43.59L10.3 9.45l-7.72 7.72c-.78.78-.78 2.05 0 2.83L4 21.41c.39.39.9.59 1.41.59.51 0 1.02-.2 1.41-.59l7.78-7.78 2.81-2.81c.8-.78.8-2.07 0-2.86zM5.41 20L4 18.59l7.72-7.72 1.47 1.35L5.41 20z\"/>\n",
              "  </svg>\n",
              "      </button>\n",
              "      \n",
              "  <style>\n",
              "    .colab-df-container {\n",
              "      display:flex;\n",
              "      flex-wrap:wrap;\n",
              "      gap: 12px;\n",
              "    }\n",
              "\n",
              "    .colab-df-convert {\n",
              "      background-color: #E8F0FE;\n",
              "      border: none;\n",
              "      border-radius: 50%;\n",
              "      cursor: pointer;\n",
              "      display: none;\n",
              "      fill: #1967D2;\n",
              "      height: 32px;\n",
              "      padding: 0 0 0 0;\n",
              "      width: 32px;\n",
              "    }\n",
              "\n",
              "    .colab-df-convert:hover {\n",
              "      background-color: #E2EBFA;\n",
              "      box-shadow: 0px 1px 2px rgba(60, 64, 67, 0.3), 0px 1px 3px 1px rgba(60, 64, 67, 0.15);\n",
              "      fill: #174EA6;\n",
              "    }\n",
              "\n",
              "    [theme=dark] .colab-df-convert {\n",
              "      background-color: #3B4455;\n",
              "      fill: #D2E3FC;\n",
              "    }\n",
              "\n",
              "    [theme=dark] .colab-df-convert:hover {\n",
              "      background-color: #434B5C;\n",
              "      box-shadow: 0px 1px 3px 1px rgba(0, 0, 0, 0.15);\n",
              "      filter: drop-shadow(0px 1px 2px rgba(0, 0, 0, 0.3));\n",
              "      fill: #FFFFFF;\n",
              "    }\n",
              "  </style>\n",
              "\n",
              "      <script>\n",
              "        const buttonEl =\n",
              "          document.querySelector('#df-0b041c5c-fb9f-4085-a640-7874f70d9413 button.colab-df-convert');\n",
              "        buttonEl.style.display =\n",
              "          google.colab.kernel.accessAllowed ? 'block' : 'none';\n",
              "\n",
              "        async function convertToInteractive(key) {\n",
              "          const element = document.querySelector('#df-0b041c5c-fb9f-4085-a640-7874f70d9413');\n",
              "          const dataTable =\n",
              "            await google.colab.kernel.invokeFunction('convertToInteractive',\n",
              "                                                     [key], {});\n",
              "          if (!dataTable) return;\n",
              "\n",
              "          const docLinkHtml = 'Like what you see? Visit the ' +\n",
              "            '<a target=\"_blank\" href=https://colab.research.google.com/notebooks/data_table.ipynb>data table notebook</a>'\n",
              "            + ' to learn more about interactive tables.';\n",
              "          element.innerHTML = '';\n",
              "          dataTable['output_type'] = 'display_data';\n",
              "          await google.colab.output.renderOutput(dataTable, element);\n",
              "          const docLink = document.createElement('div');\n",
              "          docLink.innerHTML = docLinkHtml;\n",
              "          element.appendChild(docLink);\n",
              "        }\n",
              "      </script>\n",
              "    </div>\n",
              "  </div>\n",
              "  "
            ],
            "text/plain": [
              "       battery_power       blue  ...         wifi  price_range\n",
              "count    2000.000000  2000.0000  ...  2000.000000  2000.000000\n",
              "mean     1238.518500     0.4950  ...     0.507000     1.500000\n",
              "std       439.418206     0.5001  ...     0.500076     1.118314\n",
              "min       501.000000     0.0000  ...     0.000000     0.000000\n",
              "25%       851.750000     0.0000  ...     0.000000     0.750000\n",
              "50%      1226.000000     0.0000  ...     1.000000     1.500000\n",
              "75%      1615.250000     1.0000  ...     1.000000     2.250000\n",
              "max      1998.000000     1.0000  ...     1.000000     3.000000\n",
              "\n",
              "[8 rows x 21 columns]"
            ]
          },
          "metadata": {},
          "execution_count": 223
        }
      ],
      "source": [
        "df.describe()"
      ]
    },
    {
      "cell_type": "code",
      "execution_count": 224,
      "metadata": {
        "id": "9F9wMj74_YHD",
        "colab": {
          "base_uri": "https://localhost:8080/"
        },
        "outputId": "33ea0e67-aab1-4929-c33b-1e895a78a21d"
      },
      "outputs": [
        {
          "output_type": "execute_result",
          "data": {
            "text/plain": [
              "array([1, 2, 3, 0])"
            ]
          },
          "metadata": {},
          "execution_count": 224
        }
      ],
      "source": [
        "df.price_range.unique()"
      ]
    },
    {
      "cell_type": "code",
      "execution_count": 225,
      "metadata": {
        "id": "yJEqpmpg_DuL",
        "colab": {
          "base_uri": "https://localhost:8080/"
        },
        "outputId": "9dcd9695-4433-4b57-93f0-0bec3a5a5c44"
      },
      "outputs": [
        {
          "output_type": "execute_result",
          "data": {
            "text/plain": [
              "1    500\n",
              "2    500\n",
              "3    500\n",
              "0    500\n",
              "Name: price_range, dtype: int64"
            ]
          },
          "metadata": {},
          "execution_count": 225
        }
      ],
      "source": [
        "df['price_range'].value_counts()"
      ]
    },
    {
      "cell_type": "markdown",
      "metadata": {
        "id": "RWak8v4E9FFN"
      },
      "source": [
        "## From the above Data Inspection we gathered some insights:\n",
        "\n",
        "###1) Our dependent variable is price_range and we have four price ranges as target our values.\n",
        "\n",
        "###2) This dataset is a balanced dataset, i.e., each class has 500 mobile phone (0 -> low cost, 1 -> medium cost, 2 -> high cost, 3 -> very high cost).\n",
        "\n",
        "###3)In this dataset (df), we have zero NULL/Duplicate values"
      ]
    },
    {
      "cell_type": "markdown",
      "metadata": {
        "id": "gNdKwbtXEdxB"
      },
      "source": [
        "# Exploratory Data Analysis\n",
        "\n",
        "### Let's visulaize the dataset for beter understanding "
      ]
    },
    {
      "cell_type": "code",
      "execution_count": 226,
      "metadata": {
        "id": "8EsrcXq7EdOL",
        "colab": {
          "base_uri": "https://localhost:8080/",
          "height": 335
        },
        "outputId": "5138b8ab-377c-4f86-9b34-2821859e8061"
      },
      "outputs": [
        {
          "output_type": "display_data",
          "data": {
            "image/png": "[encoded data removed]",
            "text/plain": [
              "<Figure size 504x360 with 1 Axes>"
            ]
          },
          "metadata": {
            "needs_background": "light"
          }
        }
      ],
      "source": [
        "# Plotting a countplot\n",
        "\n",
        "plt.figure(figsize=(7,5))\n",
        "sns.countplot(x = df['price_range'])\n",
        "plt.title('')\n",
        "plt.show()"
      ]
    },
    {
      "cell_type": "code",
      "execution_count": 227,
      "metadata": {
        "id": "TASz6VRwXRS9",
        "colab": {
          "base_uri": "https://localhost:8080/",
          "height": 303
        },
        "outputId": "4ca4be49-3a59-41fb-be72-3a995c984fb0"
      },
      "outputs": [
        {
          "output_type": "display_data",
          "data": {
            "image/png": "[encoded data removed]",
            "text/plain": [
              "<Figure size 504x360 with 1 Axes>"
            ]
          },
          "metadata": {}
        }
      ],
      "source": [
        "# Plotting a pie chart\n",
        "\n",
        "price_labels = ['Low-Cost', 'Medium-Cost', 'High-Cost', 'VeryHigh-Cost']\n",
        "data = df['price_range'].value_counts()\n",
        "\n",
        "# Creating the plot\n",
        "fig = plt.figure(figsize=(7,5))\n",
        "plt.pie(data, labels = price_labels, autopct='%1.1f%%',explode = (0.0,0.2,0.0,0.2), shadow=True, startangle=90)\n",
        "plt.show()"
      ]
    },
    {
      "cell_type": "markdown",
      "metadata": {
        "id": "FgXQ9PdsOrHC"
      },
      "source": [
        "### Since we do not have any label-indexing/preprocessing to do here, we will explore the correlations between the various features provided."
      ]
    },
    {
      "cell_type": "code",
      "execution_count": 228,
      "metadata": {
        "id": "gSG1YG7IN5aJ",
        "colab": {
          "base_uri": "https://localhost:8080/",
          "height": 657
        },
        "outputId": "8920bef3-770f-49ab-fd93-a99c505f8e2c"
      },
      "outputs": [
        {
          "output_type": "display_data",
          "data": {
            "image/png": "[encoded data removed]",
            "text/plain": [
              "<Figure size 1440x720 with 2 Axes>"
            ]
          },
          "metadata": {
            "needs_background": "light"
          }
        }
      ],
      "source": [
        "# Plotting a heatmap\n",
        "\n",
        "fig = plt.figure(figsize=(20,10))\n",
        "correlation = df.corr()\n",
        "sns.heatmap(correlation, annot = True, cmap = \"YlGnBu\")\n",
        "plt.show()"
      ]
    },
    {
      "cell_type": "markdown",
      "metadata": {
        "id": "K1HoT_h9XiXp"
      },
      "source": [
        "## The above plot showed the correlation among the below features:\n",
        "\n",
        "\n",
        "###fc(Front Camera mega pixels) - pc(Primary Camera mega pixels)\n",
        "Ofcourse, if a phone has a great rear camera, it has to match great standards for the front camera as well. \n",
        "\n",
        "###four_g(4G) - three_g(3G)\n",
        "If a mobile phone supports 4G, it has to be compatible with 3G as well because 4G is the latest gen that came after 3G. Thus a phone with 4G feature should support 3G as well.\n",
        "\n",
        "###ram(Random Access Memory) - price_range \n",
        "Since our dataset has no feature showcasing the processor, that makes RAM the most important and most expensive feature among all, hence it is highly related to the price.\n",
        "\n",
        "###sc_h(Screen Height of mobile in cm) - sc_w(Screen Width of mobile in cm)\n",
        "It is obvious if we need a large screen phone, it's dimensions cannot only be increased by height or width, both are altered together. "
      ]
    },
    {
      "cell_type": "code",
      "execution_count": 229,
      "metadata": {
        "id": "shNCXhkkXOxh",
        "colab": {
          "base_uri": "https://localhost:8080/"
        },
        "outputId": "cda3c387-4b76-427f-e681-efa645e50a9b"
      },
      "outputs": [
        {
          "output_type": "execute_result",
          "data": {
            "text/plain": [
              "21"
            ]
          },
          "metadata": {},
          "execution_count": 229
        }
      ],
      "source": [
        "# Total number of columns in our dataset.\n",
        "\n",
        "len(df.columns)"
      ]
    },
    {
      "cell_type": "markdown",
      "metadata": {
        "id": "WKa_Z7PxdN8Q"
      },
      "source": [
        "# Feature Selection\n",
        "###We do not need extra features, as they don't contribute much in the results but do make our algorithms computationally expensive. Hence we will be selecting only the important features."
      ]
    },
    {
      "cell_type": "code",
      "execution_count": 230,
      "metadata": {
        "id": "t9BmHsrwd_IR"
      },
      "outputs": [],
      "source": [
        "# Importing the feature selection library from sklearn\n",
        "# It takes two arrays x and y, and returns a pair of arrays (scores, pvalues)\n",
        "\n",
        "from sklearn.feature_selection import SelectKBest,chi2\n",
        "# Select features according to 'K' highest scores."
      ]
    },
    {
      "cell_type": "code",
      "execution_count": 231,
      "metadata": {
        "id": "Ok-24Jx0dQow"
      },
      "outputs": [],
      "source": [
        "# Before going any further let's first create a copy of our main dataset\n",
        "\n",
        "df_copy = df.copy()\n",
        "# Making two arrays 'x' & 'y' and assigning them independent and dependent variables\n",
        "\n",
        "x = df_copy.iloc[:, :20]\n",
        "y = df_copy.iloc[:, 20:]"
      ]
    },
    {
      "cell_type": "code",
      "execution_count": 232,
      "metadata": {
        "id": "SsY-DFOFjVe2",
        "colab": {
          "base_uri": "https://localhost:8080/"
        },
        "outputId": "66e7f846-1b0e-4081-ba68-ad1079818413"
      },
      "outputs": [
        {
          "output_type": "stream",
          "name": "stdout",
          "text": [
            "(2000, 20)\n",
            "(2000, 1)\n"
          ]
        }
      ],
      "source": [
        "# Checking the dimensions\n",
        "\n",
        "print(x.shape)\n",
        "print(y.shape)"
      ]
    },
    {
      "cell_type": "code",
      "execution_count": 233,
      "metadata": {
        "id": "w4tf0_ObmwMX"
      },
      "outputs": [],
      "source": [
        "# Using SelectKBest - that will help in calculating the scores for the features\n",
        "\n",
        "skb = SelectKBest(chi2)\n",
        "best_scores = skb.fit(x,y)"
      ]
    },
    {
      "cell_type": "code",
      "execution_count": 234,
      "metadata": {
        "id": "ME9fGUJRnqm4",
        "colab": {
          "base_uri": "https://localhost:8080/"
        },
        "outputId": "fc1b9d37-fd74-4156-9532-43d2df8507d9"
      },
      "outputs": [
        {
          "output_type": "execute_result",
          "data": {
            "text/plain": [
              "array([1.41298666e+04, 7.23232323e-01, 6.48365906e-01, 6.31010795e-01,\n",
              "       1.01351665e+01, 1.52157239e+00, 8.98391244e+01, 7.45819631e-01,\n",
              "       9.59728626e+01, 9.09755558e+00, 9.18605355e+00, 1.73635695e+04,\n",
              "       9.81058675e+03, 9.31267519e+05, 9.61487832e+00, 1.64803191e+01,\n",
              "       1.32364000e+01, 3.27642810e-01, 1.92842942e+00, 4.22090730e-01])"
            ]
          },
          "metadata": {},
          "execution_count": 234
        }
      ],
      "source": [
        "best_scores.scores_"
      ]
    },
    {
      "cell_type": "code",
      "execution_count": 235,
      "metadata": {
        "id": "o0CEAgbhnypo",
        "colab": {
          "base_uri": "https://localhost:8080/",
          "height": 676
        },
        "outputId": "12656575-9278-4154-9668-5cd5655f0ca4"
      },
      "outputs": [
        {
          "output_type": "execute_result",
          "data": {
            "text/html": [
              "\n",
              "  <div id=\"df-5ceafd1d-557e-4a23-9dce-9a793c583343\">\n",
              "    <div class=\"colab-df-container\">\n",
              "      <div>\n",
              "<style scoped>\n",
              "    .dataframe tbody tr th:only-of-type {\n",
              "        vertical-align: middle;\n",
              "    }\n",
              "\n",
              "    .dataframe tbody tr th {\n",
              "        vertical-align: top;\n",
              "    }\n",
              "\n",
              "    .dataframe thead th {\n",
              "        text-align: right;\n",
              "    }\n",
              "</style>\n",
              "<table border=\"1\" class=\"dataframe\">\n",
              "  <thead>\n",
              "    <tr style=\"text-align: right;\">\n",
              "      <th></th>\n",
              "      <th>Features</th>\n",
              "      <th>Scores</th>\n",
              "    </tr>\n",
              "  </thead>\n",
              "  <tbody>\n",
              "    <tr>\n",
              "      <th>0</th>\n",
              "      <td>battery_power</td>\n",
              "      <td>14129.866576</td>\n",
              "    </tr>\n",
              "    <tr>\n",
              "      <th>1</th>\n",
              "      <td>blue</td>\n",
              "      <td>0.723232</td>\n",
              "    </tr>\n",
              "    <tr>\n",
              "      <th>2</th>\n",
              "      <td>clock_speed</td>\n",
              "      <td>0.648366</td>\n",
              "    </tr>\n",
              "    <tr>\n",
              "      <th>3</th>\n",
              "      <td>dual_sim</td>\n",
              "      <td>0.631011</td>\n",
              "    </tr>\n",
              "    <tr>\n",
              "      <th>4</th>\n",
              "      <td>fc</td>\n",
              "      <td>10.135166</td>\n",
              "    </tr>\n",
              "    <tr>\n",
              "      <th>5</th>\n",
              "      <td>four_g</td>\n",
              "      <td>1.521572</td>\n",
              "    </tr>\n",
              "    <tr>\n",
              "      <th>6</th>\n",
              "      <td>int_memory</td>\n",
              "      <td>89.839124</td>\n",
              "    </tr>\n",
              "    <tr>\n",
              "      <th>7</th>\n",
              "      <td>m_dep</td>\n",
              "      <td>0.745820</td>\n",
              "    </tr>\n",
              "    <tr>\n",
              "      <th>8</th>\n",
              "      <td>mobile_wt</td>\n",
              "      <td>95.972863</td>\n",
              "    </tr>\n",
              "    <tr>\n",
              "      <th>9</th>\n",
              "      <td>n_cores</td>\n",
              "      <td>9.097556</td>\n",
              "    </tr>\n",
              "    <tr>\n",
              "      <th>10</th>\n",
              "      <td>pc</td>\n",
              "      <td>9.186054</td>\n",
              "    </tr>\n",
              "    <tr>\n",
              "      <th>11</th>\n",
              "      <td>px_height</td>\n",
              "      <td>17363.569536</td>\n",
              "    </tr>\n",
              "    <tr>\n",
              "      <th>12</th>\n",
              "      <td>px_width</td>\n",
              "      <td>9810.586750</td>\n",
              "    </tr>\n",
              "    <tr>\n",
              "      <th>13</th>\n",
              "      <td>ram</td>\n",
              "      <td>931267.519053</td>\n",
              "    </tr>\n",
              "    <tr>\n",
              "      <th>14</th>\n",
              "      <td>sc_h</td>\n",
              "      <td>9.614878</td>\n",
              "    </tr>\n",
              "    <tr>\n",
              "      <th>15</th>\n",
              "      <td>sc_w</td>\n",
              "      <td>16.480319</td>\n",
              "    </tr>\n",
              "    <tr>\n",
              "      <th>16</th>\n",
              "      <td>talk_time</td>\n",
              "      <td>13.236400</td>\n",
              "    </tr>\n",
              "    <tr>\n",
              "      <th>17</th>\n",
              "      <td>three_g</td>\n",
              "      <td>0.327643</td>\n",
              "    </tr>\n",
              "    <tr>\n",
              "      <th>18</th>\n",
              "      <td>touch_screen</td>\n",
              "      <td>1.928429</td>\n",
              "    </tr>\n",
              "    <tr>\n",
              "      <th>19</th>\n",
              "      <td>wifi</td>\n",
              "      <td>0.422091</td>\n",
              "    </tr>\n",
              "  </tbody>\n",
              "</table>\n",
              "</div>\n",
              "      <button class=\"colab-df-convert\" onclick=\"convertToInteractive('df-5ceafd1d-557e-4a23-9dce-9a793c583343')\"\n",
              "              title=\"Convert this dataframe to an interactive table.\"\n",
              "              style=\"display:none;\">\n",
              "        \n",
              "  <svg xmlns=\"http://www.w3.org/2000/svg\" height=\"24px\"viewBox=\"0 0 24 24\"\n",
              "       width=\"24px\">\n",
              "    <path d=\"M0 0h24v24H0V0z\" fill=\"none\"/>\n",
              "    <path d=\"M18.56 5.44l.94 2.06.94-2.06 2.06-.94-2.06-.94-.94-2.06-.94 2.06-2.06.94zm-11 1L8.5 8.5l.94-2.06 2.06-.94-2.06-.94L8.5 2.5l-.94 2.06-2.06.94zm10 10l.94 2.06.94-2.06 2.06-.94-2.06-.94-.94-2.06-.94 2.06-2.06.94z\"/><path d=\"M17.41 7.96l-1.37-1.37c-.4-.4-.92-.59-1.43-.59-.52 0-1.04.2-1.43.59L10.3 9.45l-7.72 7.72c-.78.78-.78 2.05 0 2.83L4 21.41c.39.39.9.59 1.41.59.51 0 1.02-.2 1.41-.59l7.78-7.78 2.81-2.81c.8-.78.8-2.07 0-2.86zM5.41 20L4 18.59l7.72-7.72 1.47 1.35L5.41 20z\"/>\n",
              "  </svg>\n",
              "      </button>\n",
              "      \n",
              "  <style>\n",
              "    .colab-df-container {\n",
              "      display:flex;\n",
              "      flex-wrap:wrap;\n",
              "      gap: 12px;\n",
              "    }\n",
              "\n",
              "    .colab-df-convert {\n",
              "      background-color: #E8F0FE;\n",
              "      border: none;\n",
              "      border-radius: 50%;\n",
              "      cursor: pointer;\n",
              "      display: none;\n",
              "      fill: #1967D2;\n",
              "      height: 32px;\n",
              "      padding: 0 0 0 0;\n",
              "      width: 32px;\n",
              "    }\n",
              "\n",
              "    .colab-df-convert:hover {\n",
              "      background-color: #E2EBFA;\n",
              "      box-shadow: 0px 1px 2px rgba(60, 64, 67, 0.3), 0px 1px 3px 1px rgba(60, 64, 67, 0.15);\n",
              "      fill: #174EA6;\n",
              "    }\n",
              "\n",
              "    [theme=dark] .colab-df-convert {\n",
              "      background-color: #3B4455;\n",
              "      fill: #D2E3FC;\n",
              "    }\n",
              "\n",
              "    [theme=dark] .colab-df-convert:hover {\n",
              "      background-color: #434B5C;\n",
              "      box-shadow: 0px 1px 3px 1px rgba(0, 0, 0, 0.15);\n",
              "      filter: drop-shadow(0px 1px 2px rgba(0, 0, 0, 0.3));\n",
              "      fill: #FFFFFF;\n",
              "    }\n",
              "  </style>\n",
              "\n",
              "      <script>\n",
              "        const buttonEl =\n",
              "          document.querySelector('#df-5ceafd1d-557e-4a23-9dce-9a793c583343 button.colab-df-convert');\n",
              "        buttonEl.style.display =\n",
              "          google.colab.kernel.accessAllowed ? 'block' : 'none';\n",
              "\n",
              "        async function convertToInteractive(key) {\n",
              "          const element = document.querySelector('#df-5ceafd1d-557e-4a23-9dce-9a793c583343');\n",
              "          const dataTable =\n",
              "            await google.colab.kernel.invokeFunction('convertToInteractive',\n",
              "                                                     [key], {});\n",
              "          if (!dataTable) return;\n",
              "\n",
              "          const docLinkHtml = 'Like what you see? Visit the ' +\n",
              "            '<a target=\"_blank\" href=https://colab.research.google.com/notebooks/data_table.ipynb>data table notebook</a>'\n",
              "            + ' to learn more about interactive tables.';\n",
              "          element.innerHTML = '';\n",
              "          dataTable['output_type'] = 'display_data';\n",
              "          await google.colab.output.renderOutput(dataTable, element);\n",
              "          const docLink = document.createElement('div');\n",
              "          docLink.innerHTML = docLinkHtml;\n",
              "          element.appendChild(docLink);\n",
              "        }\n",
              "      </script>\n",
              "    </div>\n",
              "  </div>\n",
              "  "
            ],
            "text/plain": [
              "         Features         Scores\n",
              "0   battery_power   14129.866576\n",
              "1            blue       0.723232\n",
              "2     clock_speed       0.648366\n",
              "3        dual_sim       0.631011\n",
              "4              fc      10.135166\n",
              "5          four_g       1.521572\n",
              "6      int_memory      89.839124\n",
              "7           m_dep       0.745820\n",
              "8       mobile_wt      95.972863\n",
              "9         n_cores       9.097556\n",
              "10             pc       9.186054\n",
              "11      px_height   17363.569536\n",
              "12       px_width    9810.586750\n",
              "13            ram  931267.519053\n",
              "14           sc_h       9.614878\n",
              "15           sc_w      16.480319\n",
              "16      talk_time      13.236400\n",
              "17        three_g       0.327643\n",
              "18   touch_screen       1.928429\n",
              "19           wifi       0.422091"
            ]
          },
          "metadata": {},
          "execution_count": 235
        }
      ],
      "source": [
        "# Making a seperate data frame to analyze the best features with respect to columns  \n",
        "\n",
        "skb_score = pd.DataFrame(best_scores.scores_)\n",
        "skb_columns = pd.DataFrame(x.columns)\n",
        "\n",
        "# Getting the above two columns togethor through concat function\n",
        "\n",
        "list_of_scores = pd.concat([ skb_columns, skb_score], axis = 1)\n",
        "list_of_scores.columns = ['Features', 'Scores']\n",
        "\n",
        "list_of_scores"
      ]
    },
    {
      "cell_type": "code",
      "execution_count": 236,
      "metadata": {
        "id": "SEh0v8fdpqFp",
        "colab": {
          "base_uri": "https://localhost:8080/",
          "height": 645
        },
        "outputId": "7bdf17ea-7771-476c-f4ec-cd8942398148"
      },
      "outputs": [
        {
          "output_type": "execute_result",
          "data": {
            "text/html": [
              "\n",
              "  <div id=\"df-a72210cb-d2c6-4ebc-ad74-667e1ee2a114\">\n",
              "    <div class=\"colab-df-container\">\n",
              "      <div>\n",
              "<style scoped>\n",
              "    .dataframe tbody tr th:only-of-type {\n",
              "        vertical-align: middle;\n",
              "    }\n",
              "\n",
              "    .dataframe tbody tr th {\n",
              "        vertical-align: top;\n",
              "    }\n",
              "\n",
              "    .dataframe thead th {\n",
              "        text-align: right;\n",
              "    }\n",
              "</style>\n",
              "<table border=\"1\" class=\"dataframe\">\n",
              "  <thead>\n",
              "    <tr style=\"text-align: right;\">\n",
              "      <th></th>\n",
              "      <th>Features</th>\n",
              "      <th>Scores</th>\n",
              "    </tr>\n",
              "  </thead>\n",
              "  <tbody>\n",
              "    <tr>\n",
              "      <th>13</th>\n",
              "      <td>ram</td>\n",
              "      <td>931267.519053</td>\n",
              "    </tr>\n",
              "    <tr>\n",
              "      <th>11</th>\n",
              "      <td>px_height</td>\n",
              "      <td>17363.569536</td>\n",
              "    </tr>\n",
              "    <tr>\n",
              "      <th>0</th>\n",
              "      <td>battery_power</td>\n",
              "      <td>14129.866576</td>\n",
              "    </tr>\n",
              "    <tr>\n",
              "      <th>12</th>\n",
              "      <td>px_width</td>\n",
              "      <td>9810.586750</td>\n",
              "    </tr>\n",
              "    <tr>\n",
              "      <th>8</th>\n",
              "      <td>mobile_wt</td>\n",
              "      <td>95.972863</td>\n",
              "    </tr>\n",
              "    <tr>\n",
              "      <th>6</th>\n",
              "      <td>int_memory</td>\n",
              "      <td>89.839124</td>\n",
              "    </tr>\n",
              "    <tr>\n",
              "      <th>15</th>\n",
              "      <td>sc_w</td>\n",
              "      <td>16.480319</td>\n",
              "    </tr>\n",
              "    <tr>\n",
              "      <th>16</th>\n",
              "      <td>talk_time</td>\n",
              "      <td>13.236400</td>\n",
              "    </tr>\n",
              "    <tr>\n",
              "      <th>4</th>\n",
              "      <td>fc</td>\n",
              "      <td>10.135166</td>\n",
              "    </tr>\n",
              "    <tr>\n",
              "      <th>14</th>\n",
              "      <td>sc_h</td>\n",
              "      <td>9.614878</td>\n",
              "    </tr>\n",
              "    <tr>\n",
              "      <th>10</th>\n",
              "      <td>pc</td>\n",
              "      <td>9.186054</td>\n",
              "    </tr>\n",
              "    <tr>\n",
              "      <th>9</th>\n",
              "      <td>n_cores</td>\n",
              "      <td>9.097556</td>\n",
              "    </tr>\n",
              "    <tr>\n",
              "      <th>18</th>\n",
              "      <td>touch_screen</td>\n",
              "      <td>1.928429</td>\n",
              "    </tr>\n",
              "    <tr>\n",
              "      <th>5</th>\n",
              "      <td>four_g</td>\n",
              "      <td>1.521572</td>\n",
              "    </tr>\n",
              "    <tr>\n",
              "      <th>7</th>\n",
              "      <td>m_dep</td>\n",
              "      <td>0.745820</td>\n",
              "    </tr>\n",
              "    <tr>\n",
              "      <th>1</th>\n",
              "      <td>blue</td>\n",
              "      <td>0.723232</td>\n",
              "    </tr>\n",
              "    <tr>\n",
              "      <th>2</th>\n",
              "      <td>clock_speed</td>\n",
              "      <td>0.648366</td>\n",
              "    </tr>\n",
              "    <tr>\n",
              "      <th>3</th>\n",
              "      <td>dual_sim</td>\n",
              "      <td>0.631011</td>\n",
              "    </tr>\n",
              "    <tr>\n",
              "      <th>19</th>\n",
              "      <td>wifi</td>\n",
              "      <td>0.422091</td>\n",
              "    </tr>\n",
              "  </tbody>\n",
              "</table>\n",
              "</div>\n",
              "      <button class=\"colab-df-convert\" onclick=\"convertToInteractive('df-a72210cb-d2c6-4ebc-ad74-667e1ee2a114')\"\n",
              "              title=\"Convert this dataframe to an interactive table.\"\n",
              "              style=\"display:none;\">\n",
              "        \n",
              "  <svg xmlns=\"http://www.w3.org/2000/svg\" height=\"24px\"viewBox=\"0 0 24 24\"\n",
              "       width=\"24px\">\n",
              "    <path d=\"M0 0h24v24H0V0z\" fill=\"none\"/>\n",
              "    <path d=\"M18.56 5.44l.94 2.06.94-2.06 2.06-.94-2.06-.94-.94-2.06-.94 2.06-2.06.94zm-11 1L8.5 8.5l.94-2.06 2.06-.94-2.06-.94L8.5 2.5l-.94 2.06-2.06.94zm10 10l.94 2.06.94-2.06 2.06-.94-2.06-.94-.94-2.06-.94 2.06-2.06.94z\"/><path d=\"M17.41 7.96l-1.37-1.37c-.4-.4-.92-.59-1.43-.59-.52 0-1.04.2-1.43.59L10.3 9.45l-7.72 7.72c-.78.78-.78 2.05 0 2.83L4 21.41c.39.39.9.59 1.41.59.51 0 1.02-.2 1.41-.59l7.78-7.78 2.81-2.81c.8-.78.8-2.07 0-2.86zM5.41 20L4 18.59l7.72-7.72 1.47 1.35L5.41 20z\"/>\n",
              "  </svg>\n",
              "      </button>\n",
              "      \n",
              "  <style>\n",
              "    .colab-df-container {\n",
              "      display:flex;\n",
              "      flex-wrap:wrap;\n",
              "      gap: 12px;\n",
              "    }\n",
              "\n",
              "    .colab-df-convert {\n",
              "      background-color: #E8F0FE;\n",
              "      border: none;\n",
              "      border-radius: 50%;\n",
              "      cursor: pointer;\n",
              "      display: none;\n",
              "      fill: #1967D2;\n",
              "      height: 32px;\n",
              "      padding: 0 0 0 0;\n",
              "      width: 32px;\n",
              "    }\n",
              "\n",
              "    .colab-df-convert:hover {\n",
              "      background-color: #E2EBFA;\n",
              "      box-shadow: 0px 1px 2px rgba(60, 64, 67, 0.3), 0px 1px 3px 1px rgba(60, 64, 67, 0.15);\n",
              "      fill: #174EA6;\n",
              "    }\n",
              "\n",
              "    [theme=dark] .colab-df-convert {\n",
              "      background-color: #3B4455;\n",
              "      fill: #D2E3FC;\n",
              "    }\n",
              "\n",
              "    [theme=dark] .colab-df-convert:hover {\n",
              "      background-color: #434B5C;\n",
              "      box-shadow: 0px 1px 3px 1px rgba(0, 0, 0, 0.15);\n",
              "      filter: drop-shadow(0px 1px 2px rgba(0, 0, 0, 0.3));\n",
              "      fill: #FFFFFF;\n",
              "    }\n",
              "  </style>\n",
              "\n",
              "      <script>\n",
              "        const buttonEl =\n",
              "          document.querySelector('#df-a72210cb-d2c6-4ebc-ad74-667e1ee2a114 button.colab-df-convert');\n",
              "        buttonEl.style.display =\n",
              "          google.colab.kernel.accessAllowed ? 'block' : 'none';\n",
              "\n",
              "        async function convertToInteractive(key) {\n",
              "          const element = document.querySelector('#df-a72210cb-d2c6-4ebc-ad74-667e1ee2a114');\n",
              "          const dataTable =\n",
              "            await google.colab.kernel.invokeFunction('convertToInteractive',\n",
              "                                                     [key], {});\n",
              "          if (!dataTable) return;\n",
              "\n",
              "          const docLinkHtml = 'Like what you see? Visit the ' +\n",
              "            '<a target=\"_blank\" href=https://colab.research.google.com/notebooks/data_table.ipynb>data table notebook</a>'\n",
              "            + ' to learn more about interactive tables.';\n",
              "          element.innerHTML = '';\n",
              "          dataTable['output_type'] = 'display_data';\n",
              "          await google.colab.output.renderOutput(dataTable, element);\n",
              "          const docLink = document.createElement('div');\n",
              "          docLink.innerHTML = docLinkHtml;\n",
              "          element.appendChild(docLink);\n",
              "        }\n",
              "      </script>\n",
              "    </div>\n",
              "  </div>\n",
              "  "
            ],
            "text/plain": [
              "         Features         Scores\n",
              "13            ram  931267.519053\n",
              "11      px_height   17363.569536\n",
              "0   battery_power   14129.866576\n",
              "12       px_width    9810.586750\n",
              "8       mobile_wt      95.972863\n",
              "6      int_memory      89.839124\n",
              "15           sc_w      16.480319\n",
              "16      talk_time      13.236400\n",
              "4              fc      10.135166\n",
              "14           sc_h       9.614878\n",
              "10             pc       9.186054\n",
              "9         n_cores       9.097556\n",
              "18   touch_screen       1.928429\n",
              "5          four_g       1.521572\n",
              "7           m_dep       0.745820\n",
              "1            blue       0.723232\n",
              "2     clock_speed       0.648366\n",
              "3        dual_sim       0.631011\n",
              "19           wifi       0.422091"
            ]
          },
          "metadata": {},
          "execution_count": 236
        }
      ],
      "source": [
        "# Now that we have calculated the scores of each feature, we can find the important features to be included\n",
        "\n",
        "list_of_scores.nlargest(19, 'Scores')"
      ]
    },
    {
      "cell_type": "code",
      "execution_count": 237,
      "metadata": {
        "id": "IKMof_moyhEZ",
        "colab": {
          "base_uri": "https://localhost:8080/",
          "height": 363
        },
        "outputId": "275e0f64-72bf-4ce6-d276-86328b305093"
      },
      "outputs": [
        {
          "output_type": "execute_result",
          "data": {
            "text/html": [
              "\n",
              "  <div id=\"df-e28fe5de-19d1-4905-b5ad-2665af5ca4e9\">\n",
              "    <div class=\"colab-df-container\">\n",
              "      <div>\n",
              "<style scoped>\n",
              "    .dataframe tbody tr th:only-of-type {\n",
              "        vertical-align: middle;\n",
              "    }\n",
              "\n",
              "    .dataframe tbody tr th {\n",
              "        vertical-align: top;\n",
              "    }\n",
              "\n",
              "    .dataframe thead th {\n",
              "        text-align: right;\n",
              "    }\n",
              "</style>\n",
              "<table border=\"1\" class=\"dataframe\">\n",
              "  <thead>\n",
              "    <tr style=\"text-align: right;\">\n",
              "      <th></th>\n",
              "      <th>Features</th>\n",
              "      <th>Scores</th>\n",
              "    </tr>\n",
              "  </thead>\n",
              "  <tbody>\n",
              "    <tr>\n",
              "      <th>13</th>\n",
              "      <td>ram</td>\n",
              "      <td>931267.519053</td>\n",
              "    </tr>\n",
              "    <tr>\n",
              "      <th>11</th>\n",
              "      <td>px_height</td>\n",
              "      <td>17363.569536</td>\n",
              "    </tr>\n",
              "    <tr>\n",
              "      <th>0</th>\n",
              "      <td>battery_power</td>\n",
              "      <td>14129.866576</td>\n",
              "    </tr>\n",
              "    <tr>\n",
              "      <th>12</th>\n",
              "      <td>px_width</td>\n",
              "      <td>9810.586750</td>\n",
              "    </tr>\n",
              "    <tr>\n",
              "      <th>8</th>\n",
              "      <td>mobile_wt</td>\n",
              "      <td>95.972863</td>\n",
              "    </tr>\n",
              "    <tr>\n",
              "      <th>6</th>\n",
              "      <td>int_memory</td>\n",
              "      <td>89.839124</td>\n",
              "    </tr>\n",
              "    <tr>\n",
              "      <th>15</th>\n",
              "      <td>sc_w</td>\n",
              "      <td>16.480319</td>\n",
              "    </tr>\n",
              "    <tr>\n",
              "      <th>16</th>\n",
              "      <td>talk_time</td>\n",
              "      <td>13.236400</td>\n",
              "    </tr>\n",
              "    <tr>\n",
              "      <th>4</th>\n",
              "      <td>fc</td>\n",
              "      <td>10.135166</td>\n",
              "    </tr>\n",
              "    <tr>\n",
              "      <th>14</th>\n",
              "      <td>sc_h</td>\n",
              "      <td>9.614878</td>\n",
              "    </tr>\n",
              "  </tbody>\n",
              "</table>\n",
              "</div>\n",
              "      <button class=\"colab-df-convert\" onclick=\"convertToInteractive('df-e28fe5de-19d1-4905-b5ad-2665af5ca4e9')\"\n",
              "              title=\"Convert this dataframe to an interactive table.\"\n",
              "              style=\"display:none;\">\n",
              "        \n",
              "  <svg xmlns=\"http://www.w3.org/2000/svg\" height=\"24px\"viewBox=\"0 0 24 24\"\n",
              "       width=\"24px\">\n",
              "    <path d=\"M0 0h24v24H0V0z\" fill=\"none\"/>\n",
              "    <path d=\"M18.56 5.44l.94 2.06.94-2.06 2.06-.94-2.06-.94-.94-2.06-.94 2.06-2.06.94zm-11 1L8.5 8.5l.94-2.06 2.06-.94-2.06-.94L8.5 2.5l-.94 2.06-2.06.94zm10 10l.94 2.06.94-2.06 2.06-.94-2.06-.94-.94-2.06-.94 2.06-2.06.94z\"/><path d=\"M17.41 7.96l-1.37-1.37c-.4-.4-.92-.59-1.43-.59-.52 0-1.04.2-1.43.59L10.3 9.45l-7.72 7.72c-.78.78-.78 2.05 0 2.83L4 21.41c.39.39.9.59 1.41.59.51 0 1.02-.2 1.41-.59l7.78-7.78 2.81-2.81c.8-.78.8-2.07 0-2.86zM5.41 20L4 18.59l7.72-7.72 1.47 1.35L5.41 20z\"/>\n",
              "  </svg>\n",
              "      </button>\n",
              "      \n",
              "  <style>\n",
              "    .colab-df-container {\n",
              "      display:flex;\n",
              "      flex-wrap:wrap;\n",
              "      gap: 12px;\n",
              "    }\n",
              "\n",
              "    .colab-df-convert {\n",
              "      background-color: #E8F0FE;\n",
              "      border: none;\n",
              "      border-radius: 50%;\n",
              "      cursor: pointer;\n",
              "      display: none;\n",
              "      fill: #1967D2;\n",
              "      height: 32px;\n",
              "      padding: 0 0 0 0;\n",
              "      width: 32px;\n",
              "    }\n",
              "\n",
              "    .colab-df-convert:hover {\n",
              "      background-color: #E2EBFA;\n",
              "      box-shadow: 0px 1px 2px rgba(60, 64, 67, 0.3), 0px 1px 3px 1px rgba(60, 64, 67, 0.15);\n",
              "      fill: #174EA6;\n",
              "    }\n",
              "\n",
              "    [theme=dark] .colab-df-convert {\n",
              "      background-color: #3B4455;\n",
              "      fill: #D2E3FC;\n",
              "    }\n",
              "\n",
              "    [theme=dark] .colab-df-convert:hover {\n",
              "      background-color: #434B5C;\n",
              "      box-shadow: 0px 1px 3px 1px rgba(0, 0, 0, 0.15);\n",
              "      filter: drop-shadow(0px 1px 2px rgba(0, 0, 0, 0.3));\n",
              "      fill: #FFFFFF;\n",
              "    }\n",
              "  </style>\n",
              "\n",
              "      <script>\n",
              "        const buttonEl =\n",
              "          document.querySelector('#df-e28fe5de-19d1-4905-b5ad-2665af5ca4e9 button.colab-df-convert');\n",
              "        buttonEl.style.display =\n",
              "          google.colab.kernel.accessAllowed ? 'block' : 'none';\n",
              "\n",
              "        async function convertToInteractive(key) {\n",
              "          const element = document.querySelector('#df-e28fe5de-19d1-4905-b5ad-2665af5ca4e9');\n",
              "          const dataTable =\n",
              "            await google.colab.kernel.invokeFunction('convertToInteractive',\n",
              "                                                     [key], {});\n",
              "          if (!dataTable) return;\n",
              "\n",
              "          const docLinkHtml = 'Like what you see? Visit the ' +\n",
              "            '<a target=\"_blank\" href=https://colab.research.google.com/notebooks/data_table.ipynb>data table notebook</a>'\n",
              "            + ' to learn more about interactive tables.';\n",
              "          element.innerHTML = '';\n",
              "          dataTable['output_type'] = 'display_data';\n",
              "          await google.colab.output.renderOutput(dataTable, element);\n",
              "          const docLink = document.createElement('div');\n",
              "          docLink.innerHTML = docLinkHtml;\n",
              "          element.appendChild(docLink);\n",
              "        }\n",
              "      </script>\n",
              "    </div>\n",
              "  </div>\n",
              "  "
            ],
            "text/plain": [
              "         Features         Scores\n",
              "13            ram  931267.519053\n",
              "11      px_height   17363.569536\n",
              "0   battery_power   14129.866576\n",
              "12       px_width    9810.586750\n",
              "8       mobile_wt      95.972863\n",
              "6      int_memory      89.839124\n",
              "15           sc_w      16.480319\n",
              "16      talk_time      13.236400\n",
              "4              fc      10.135166\n",
              "14           sc_h       9.614878"
            ]
          },
          "metadata": {},
          "execution_count": 237
        }
      ],
      "source": [
        "# We will include only the top 10 features, as the scores below those are almost negligible \n",
        "\n",
        "\n",
        "list_of_scores.nlargest(10, 'Scores')"
      ]
    },
    {
      "cell_type": "code",
      "execution_count": 238,
      "metadata": {
        "id": "QtJMcbm61kYe",
        "colab": {
          "base_uri": "https://localhost:8080/",
          "height": 282
        },
        "outputId": "7b9b18e0-be4b-4911-f46a-23b825b734aa"
      },
      "outputs": [
        {
          "output_type": "execute_result",
          "data": {
            "text/plain": [
              "<matplotlib.axes._subplots.AxesSubplot at 0x7fe19642d1d0>"
            ]
          },
          "metadata": {},
          "execution_count": 238
        },
        {
          "output_type": "display_data",
          "data": {
            "image/png": "[encoded data removed]",
            "text/plain": [
              "<Figure size 432x288 with 1 Axes>"
            ]
          },
          "metadata": {
            "needs_background": "light"
          }
        }
      ],
      "source": [
        "list_of_scores.nlargest(10, 'Scores').plot(kind = 'barh')"
      ]
    },
    {
      "cell_type": "markdown",
      "metadata": {
        "id": "o4Iyorcu3264"
      },
      "source": [
        "## We do not have much clear understanding of the important features from this univariate feature selection.\n",
        "\n",
        "## Now we will use ExtraTreesClassifier from the sklearn library for Feature Importance Selection.\n",
        "#### This class implements a meta estimator that fits a number of randomized decision trees on various sub-samples of the dataset and uses averaging to improve the predictive accuracy and control over-fitting."
      ]
    },
    {
      "cell_type": "code",
      "execution_count": 239,
      "metadata": {
        "id": "C6hI39Pv3rFO"
      },
      "outputs": [],
      "source": [
        "# Importing ExtraTreeClassifier library\n",
        "\n",
        "from sklearn.ensemble import ExtraTreesClassifier"
      ]
    },
    {
      "cell_type": "code",
      "execution_count": 240,
      "metadata": {
        "id": "Xfj6oSLOy_hU"
      },
      "outputs": [],
      "source": [
        "# Reshaping 'y' before fitting the data\n",
        "\n",
        "y = y = df_copy['price_range']"
      ]
    },
    {
      "cell_type": "code",
      "execution_count": 241,
      "metadata": {
        "id": "MIXi9p-LzLCV",
        "colab": {
          "base_uri": "https://localhost:8080/"
        },
        "outputId": "296eb00f-b42a-464a-b22d-4915aa724d75"
      },
      "outputs": [
        {
          "output_type": "execute_result",
          "data": {
            "text/plain": [
              "(2000,)"
            ]
          },
          "metadata": {},
          "execution_count": 241
        }
      ],
      "source": [
        "y.shape"
      ]
    },
    {
      "cell_type": "code",
      "execution_count": 242,
      "metadata": {
        "id": "-uglp2Ert8x9",
        "colab": {
          "base_uri": "https://localhost:8080/"
        },
        "outputId": "4d20dda1-b34c-404b-98b2-31a56c5a119d"
      },
      "outputs": [
        {
          "output_type": "execute_result",
          "data": {
            "text/plain": [
              "ExtraTreesClassifier()"
            ]
          },
          "metadata": {},
          "execution_count": 242
        }
      ],
      "source": [
        "# Fitting the data\n",
        "\n",
        "\n",
        "ft_imp = ExtraTreesClassifier()\n",
        "ft_imp.fit(x, y)"
      ]
    },
    {
      "cell_type": "code",
      "execution_count": 243,
      "metadata": {
        "id": "u3FTYYmPy08K",
        "colab": {
          "base_uri": "https://localhost:8080/"
        },
        "outputId": "7e4cc656-243c-41e1-f02d-2bafe5081db5"
      },
      "outputs": [
        {
          "output_type": "execute_result",
          "data": {
            "text/plain": [
              "array([0.06319381, 0.01935831, 0.0326267 , 0.01881565, 0.03142249,\n",
              "       0.01665183, 0.03377778, 0.03324281, 0.03636567, 0.03236062,\n",
              "       0.03246926, 0.0461077 , 0.04849582, 0.40402072, 0.03296653,\n",
              "       0.0327976 , 0.0338114 , 0.01373874, 0.01793921, 0.01983736])"
            ]
          },
          "metadata": {},
          "execution_count": 243
        }
      ],
      "source": [
        "# Below are the Feature importances\n",
        "\n",
        "\n",
        "ft_imp.feature_importances_"
      ]
    },
    {
      "cell_type": "code",
      "execution_count": 244,
      "metadata": {
        "id": "LR62-1Bd0AZj",
        "colab": {
          "base_uri": "https://localhost:8080/",
          "height": 320
        },
        "outputId": "cc2c8727-0ac8-42ff-e70b-802fc5f555ea"
      },
      "outputs": [
        {
          "output_type": "display_data",
          "data": {
            "image/png": "[encoded data removed]",
            "text/plain": [
              "<Figure size 504x360 with 1 Axes>"
            ]
          },
          "metadata": {
            "needs_background": "light"
          }
        }
      ],
      "source": [
        "# Plotting the features Importances\n",
        "\n",
        "\n",
        "plt.figure(figsize=(7,5))\n",
        "feature_importance = pd.Series(ft_imp.feature_importances_, index=x.columns)\n",
        "feature_importance.plot(kind='barh')\n",
        "plt.show()"
      ]
    },
    {
      "cell_type": "markdown",
      "metadata": {
        "id": "OSkdES84B7Pr"
      },
      "source": [
        "### RAM is the most influential"
      ]
    },
    {
      "cell_type": "code",
      "execution_count": 245,
      "metadata": {
        "id": "ojuGkjYvDNda",
        "colab": {
          "base_uri": "https://localhost:8080/",
          "height": 320
        },
        "outputId": "d4ddaebd-faf5-457e-d851-87f8d9fe73ef"
      },
      "outputs": [
        {
          "output_type": "display_data",
          "data": {
            "image/png": "[encoded data removed]",
            "text/plain": [
              "<Figure size 504x360 with 1 Axes>"
            ]
          },
          "metadata": {
            "needs_background": "light"
          }
        }
      ],
      "source": [
        "plt.figure(figsize=(7,5))\n",
        "feature_importance = pd.Series(ft_imp.feature_importances_, index=x.columns)\n",
        "feature_importance.nlargest(20).plot(kind='barh')\n",
        "plt.show()"
      ]
    },
    {
      "cell_type": "code",
      "execution_count": 246,
      "metadata": {
        "id": "xr1xG8Od0klK",
        "colab": {
          "base_uri": "https://localhost:8080/",
          "height": 320
        },
        "outputId": "2c09d8c0-4318-4c57-e1d6-3b450babe1eb"
      },
      "outputs": [
        {
          "output_type": "display_data",
          "data": {
            "image/png": "[encoded data removed]",
            "text/plain": [
              "<Figure size 504x360 with 1 Axes>"
            ]
          },
          "metadata": {
            "needs_background": "light"
          }
        }
      ],
      "source": [
        "\n",
        "# Plotting the top 14 Important features\n",
        "\n",
        "\n",
        "plt.figure(figsize=(7,5))\n",
        "feature_importance = pd.Series(ft_imp.feature_importances_, index=x.columns)\n",
        "feature_importance.nlargest(14).plot(kind='barh')\n",
        "plt.show()"
      ]
    },
    {
      "cell_type": "markdown",
      "metadata": {
        "id": "BtHZzFno1mHV"
      },
      "source": [
        "## After Multiple checks we found that the top 14 will be the only features useful to us, we don't need the rest 6 columns and hence will be dropping them from our dataset before applying any model"
      ]
    },
    {
      "cell_type": "code",
      "execution_count": 247,
      "metadata": {
        "id": "YVuDKWpg-9F1",
        "colab": {
          "base_uri": "https://localhost:8080/"
        },
        "outputId": "85694a16-d444-4e06-87b0-ea4f08904f97"
      },
      "outputs": [
        {
          "output_type": "execute_result",
          "data": {
            "text/plain": [
              "Index(['battery_power', 'blue', 'clock_speed', 'dual_sim', 'fc', 'four_g',\n",
              "       'int_memory', 'm_dep', 'mobile_wt', 'n_cores', 'pc', 'px_height',\n",
              "       'px_width', 'ram', 'sc_h', 'sc_w', 'talk_time', 'three_g',\n",
              "       'touch_screen', 'wifi', 'price_range'],\n",
              "      dtype='object')"
            ]
          },
          "metadata": {},
          "execution_count": 247
        }
      ],
      "source": [
        "df_copy.columns"
      ]
    },
    {
      "cell_type": "code",
      "execution_count": 248,
      "metadata": {
        "id": "GpOtvz7p1QWz"
      },
      "outputs": [],
      "source": [
        "# These are the following 6 columns that we do not need\n",
        "\n",
        "\n",
        "df_copy = df_copy.drop(['blue', 'dual_sim', 'four_g', 'three_g', 'touch_screen', 'wifi'], axis = 1)"
      ]
    },
    {
      "cell_type": "code",
      "execution_count": 249,
      "metadata": {
        "id": "QMj5KAzg-YKq",
        "colab": {
          "base_uri": "https://localhost:8080/",
          "height": 423
        },
        "outputId": "0b00b8ce-e531-4b25-a8dc-b4e1073ba3b1"
      },
      "outputs": [
        {
          "output_type": "execute_result",
          "data": {
            "text/html": [
              "\n",
              "  <div id=\"df-66e3bf6f-5345-4971-8e40-3d8f0a930a5a\">\n",
              "    <div class=\"colab-df-container\">\n",
              "      <div>\n",
              "<style scoped>\n",
              "    .dataframe tbody tr th:only-of-type {\n",
              "        vertical-align: middle;\n",
              "    }\n",
              "\n",
              "    .dataframe tbody tr th {\n",
              "        vertical-align: top;\n",
              "    }\n",
              "\n",
              "    .dataframe thead th {\n",
              "        text-align: right;\n",
              "    }\n",
              "</style>\n",
              "<table border=\"1\" class=\"dataframe\">\n",
              "  <thead>\n",
              "    <tr style=\"text-align: right;\">\n",
              "      <th></th>\n",
              "      <th>battery_power</th>\n",
              "      <th>clock_speed</th>\n",
              "      <th>fc</th>\n",
              "      <th>int_memory</th>\n",
              "      <th>m_dep</th>\n",
              "      <th>mobile_wt</th>\n",
              "      <th>n_cores</th>\n",
              "      <th>pc</th>\n",
              "      <th>px_height</th>\n",
              "      <th>px_width</th>\n",
              "      <th>ram</th>\n",
              "      <th>sc_h</th>\n",
              "      <th>sc_w</th>\n",
              "      <th>talk_time</th>\n",
              "      <th>price_range</th>\n",
              "    </tr>\n",
              "  </thead>\n",
              "  <tbody>\n",
              "    <tr>\n",
              "      <th>0</th>\n",
              "      <td>842</td>\n",
              "      <td>2.2</td>\n",
              "      <td>1</td>\n",
              "      <td>7</td>\n",
              "      <td>0.6</td>\n",
              "      <td>188</td>\n",
              "      <td>2</td>\n",
              "      <td>2</td>\n",
              "      <td>20</td>\n",
              "      <td>756</td>\n",
              "      <td>2549</td>\n",
              "      <td>9</td>\n",
              "      <td>7</td>\n",
              "      <td>19</td>\n",
              "      <td>1</td>\n",
              "    </tr>\n",
              "    <tr>\n",
              "      <th>1</th>\n",
              "      <td>1021</td>\n",
              "      <td>0.5</td>\n",
              "      <td>0</td>\n",
              "      <td>53</td>\n",
              "      <td>0.7</td>\n",
              "      <td>136</td>\n",
              "      <td>3</td>\n",
              "      <td>6</td>\n",
              "      <td>905</td>\n",
              "      <td>1988</td>\n",
              "      <td>2631</td>\n",
              "      <td>17</td>\n",
              "      <td>3</td>\n",
              "      <td>7</td>\n",
              "      <td>2</td>\n",
              "    </tr>\n",
              "    <tr>\n",
              "      <th>2</th>\n",
              "      <td>563</td>\n",
              "      <td>0.5</td>\n",
              "      <td>2</td>\n",
              "      <td>41</td>\n",
              "      <td>0.9</td>\n",
              "      <td>145</td>\n",
              "      <td>5</td>\n",
              "      <td>6</td>\n",
              "      <td>1263</td>\n",
              "      <td>1716</td>\n",
              "      <td>2603</td>\n",
              "      <td>11</td>\n",
              "      <td>2</td>\n",
              "      <td>9</td>\n",
              "      <td>2</td>\n",
              "    </tr>\n",
              "    <tr>\n",
              "      <th>3</th>\n",
              "      <td>615</td>\n",
              "      <td>2.5</td>\n",
              "      <td>0</td>\n",
              "      <td>10</td>\n",
              "      <td>0.8</td>\n",
              "      <td>131</td>\n",
              "      <td>6</td>\n",
              "      <td>9</td>\n",
              "      <td>1216</td>\n",
              "      <td>1786</td>\n",
              "      <td>2769</td>\n",
              "      <td>16</td>\n",
              "      <td>8</td>\n",
              "      <td>11</td>\n",
              "      <td>2</td>\n",
              "    </tr>\n",
              "    <tr>\n",
              "      <th>4</th>\n",
              "      <td>1821</td>\n",
              "      <td>1.2</td>\n",
              "      <td>13</td>\n",
              "      <td>44</td>\n",
              "      <td>0.6</td>\n",
              "      <td>141</td>\n",
              "      <td>2</td>\n",
              "      <td>14</td>\n",
              "      <td>1208</td>\n",
              "      <td>1212</td>\n",
              "      <td>1411</td>\n",
              "      <td>8</td>\n",
              "      <td>2</td>\n",
              "      <td>15</td>\n",
              "      <td>1</td>\n",
              "    </tr>\n",
              "    <tr>\n",
              "      <th>...</th>\n",
              "      <td>...</td>\n",
              "      <td>...</td>\n",
              "      <td>...</td>\n",
              "      <td>...</td>\n",
              "      <td>...</td>\n",
              "      <td>...</td>\n",
              "      <td>...</td>\n",
              "      <td>...</td>\n",
              "      <td>...</td>\n",
              "      <td>...</td>\n",
              "      <td>...</td>\n",
              "      <td>...</td>\n",
              "      <td>...</td>\n",
              "      <td>...</td>\n",
              "      <td>...</td>\n",
              "    </tr>\n",
              "    <tr>\n",
              "      <th>1995</th>\n",
              "      <td>794</td>\n",
              "      <td>0.5</td>\n",
              "      <td>0</td>\n",
              "      <td>2</td>\n",
              "      <td>0.8</td>\n",
              "      <td>106</td>\n",
              "      <td>6</td>\n",
              "      <td>14</td>\n",
              "      <td>1222</td>\n",
              "      <td>1890</td>\n",
              "      <td>668</td>\n",
              "      <td>13</td>\n",
              "      <td>4</td>\n",
              "      <td>19</td>\n",
              "      <td>0</td>\n",
              "    </tr>\n",
              "    <tr>\n",
              "      <th>1996</th>\n",
              "      <td>1965</td>\n",
              "      <td>2.6</td>\n",
              "      <td>0</td>\n",
              "      <td>39</td>\n",
              "      <td>0.2</td>\n",
              "      <td>187</td>\n",
              "      <td>4</td>\n",
              "      <td>3</td>\n",
              "      <td>915</td>\n",
              "      <td>1965</td>\n",
              "      <td>2032</td>\n",
              "      <td>11</td>\n",
              "      <td>10</td>\n",
              "      <td>16</td>\n",
              "      <td>2</td>\n",
              "    </tr>\n",
              "    <tr>\n",
              "      <th>1997</th>\n",
              "      <td>1911</td>\n",
              "      <td>0.9</td>\n",
              "      <td>1</td>\n",
              "      <td>36</td>\n",
              "      <td>0.7</td>\n",
              "      <td>108</td>\n",
              "      <td>8</td>\n",
              "      <td>3</td>\n",
              "      <td>868</td>\n",
              "      <td>1632</td>\n",
              "      <td>3057</td>\n",
              "      <td>9</td>\n",
              "      <td>1</td>\n",
              "      <td>5</td>\n",
              "      <td>3</td>\n",
              "    </tr>\n",
              "    <tr>\n",
              "      <th>1998</th>\n",
              "      <td>1512</td>\n",
              "      <td>0.9</td>\n",
              "      <td>4</td>\n",
              "      <td>46</td>\n",
              "      <td>0.1</td>\n",
              "      <td>145</td>\n",
              "      <td>5</td>\n",
              "      <td>5</td>\n",
              "      <td>336</td>\n",
              "      <td>670</td>\n",
              "      <td>869</td>\n",
              "      <td>18</td>\n",
              "      <td>10</td>\n",
              "      <td>19</td>\n",
              "      <td>0</td>\n",
              "    </tr>\n",
              "    <tr>\n",
              "      <th>1999</th>\n",
              "      <td>510</td>\n",
              "      <td>2.0</td>\n",
              "      <td>5</td>\n",
              "      <td>45</td>\n",
              "      <td>0.9</td>\n",
              "      <td>168</td>\n",
              "      <td>6</td>\n",
              "      <td>16</td>\n",
              "      <td>483</td>\n",
              "      <td>754</td>\n",
              "      <td>3919</td>\n",
              "      <td>19</td>\n",
              "      <td>4</td>\n",
              "      <td>2</td>\n",
              "      <td>3</td>\n",
              "    </tr>\n",
              "  </tbody>\n",
              "</table>\n",
              "<p>2000 rows × 15 columns</p>\n",
              "</div>\n",
              "      <button class=\"colab-df-convert\" onclick=\"convertToInteractive('df-66e3bf6f-5345-4971-8e40-3d8f0a930a5a')\"\n",
              "              title=\"Convert this dataframe to an interactive table.\"\n",
              "              style=\"display:none;\">\n",
              "        \n",
              "  <svg xmlns=\"http://www.w3.org/2000/svg\" height=\"24px\"viewBox=\"0 0 24 24\"\n",
              "       width=\"24px\">\n",
              "    <path d=\"M0 0h24v24H0V0z\" fill=\"none\"/>\n",
              "    <path d=\"M18.56 5.44l.94 2.06.94-2.06 2.06-.94-2.06-.94-.94-2.06-.94 2.06-2.06.94zm-11 1L8.5 8.5l.94-2.06 2.06-.94-2.06-.94L8.5 2.5l-.94 2.06-2.06.94zm10 10l.94 2.06.94-2.06 2.06-.94-2.06-.94-.94-2.06-.94 2.06-2.06.94z\"/><path d=\"M17.41 7.96l-1.37-1.37c-.4-.4-.92-.59-1.43-.59-.52 0-1.04.2-1.43.59L10.3 9.45l-7.72 7.72c-.78.78-.78 2.05 0 2.83L4 21.41c.39.39.9.59 1.41.59.51 0 1.02-.2 1.41-.59l7.78-7.78 2.81-2.81c.8-.78.8-2.07 0-2.86zM5.41 20L4 18.59l7.72-7.72 1.47 1.35L5.41 20z\"/>\n",
              "  </svg>\n",
              "      </button>\n",
              "      \n",
              "  <style>\n",
              "    .colab-df-container {\n",
              "      display:flex;\n",
              "      flex-wrap:wrap;\n",
              "      gap: 12px;\n",
              "    }\n",
              "\n",
              "    .colab-df-convert {\n",
              "      background-color: #E8F0FE;\n",
              "      border: none;\n",
              "      border-radius: 50%;\n",
              "      cursor: pointer;\n",
              "      display: none;\n",
              "      fill: #1967D2;\n",
              "      height: 32px;\n",
              "      padding: 0 0 0 0;\n",
              "      width: 32px;\n",
              "    }\n",
              "\n",
              "    .colab-df-convert:hover {\n",
              "      background-color: #E2EBFA;\n",
              "      box-shadow: 0px 1px 2px rgba(60, 64, 67, 0.3), 0px 1px 3px 1px rgba(60, 64, 67, 0.15);\n",
              "      fill: #174EA6;\n",
              "    }\n",
              "\n",
              "    [theme=dark] .colab-df-convert {\n",
              "      background-color: #3B4455;\n",
              "      fill: #D2E3FC;\n",
              "    }\n",
              "\n",
              "    [theme=dark] .colab-df-convert:hover {\n",
              "      background-color: #434B5C;\n",
              "      box-shadow: 0px 1px 3px 1px rgba(0, 0, 0, 0.15);\n",
              "      filter: drop-shadow(0px 1px 2px rgba(0, 0, 0, 0.3));\n",
              "      fill: #FFFFFF;\n",
              "    }\n",
              "  </style>\n",
              "\n",
              "      <script>\n",
              "        const buttonEl =\n",
              "          document.querySelector('#df-66e3bf6f-5345-4971-8e40-3d8f0a930a5a button.colab-df-convert');\n",
              "        buttonEl.style.display =\n",
              "          google.colab.kernel.accessAllowed ? 'block' : 'none';\n",
              "\n",
              "        async function convertToInteractive(key) {\n",
              "          const element = document.querySelector('#df-66e3bf6f-5345-4971-8e40-3d8f0a930a5a');\n",
              "          const dataTable =\n",
              "            await google.colab.kernel.invokeFunction('convertToInteractive',\n",
              "                                                     [key], {});\n",
              "          if (!dataTable) return;\n",
              "\n",
              "          const docLinkHtml = 'Like what you see? Visit the ' +\n",
              "            '<a target=\"_blank\" href=https://colab.research.google.com/notebooks/data_table.ipynb>data table notebook</a>'\n",
              "            + ' to learn more about interactive tables.';\n",
              "          element.innerHTML = '';\n",
              "          dataTable['output_type'] = 'display_data';\n",
              "          await google.colab.output.renderOutput(dataTable, element);\n",
              "          const docLink = document.createElement('div');\n",
              "          docLink.innerHTML = docLinkHtml;\n",
              "          element.appendChild(docLink);\n",
              "        }\n",
              "      </script>\n",
              "    </div>\n",
              "  </div>\n",
              "  "
            ],
            "text/plain": [
              "      battery_power  clock_speed  fc  ...  sc_w  talk_time  price_range\n",
              "0               842          2.2   1  ...     7         19            1\n",
              "1              1021          0.5   0  ...     3          7            2\n",
              "2               563          0.5   2  ...     2          9            2\n",
              "3               615          2.5   0  ...     8         11            2\n",
              "4              1821          1.2  13  ...     2         15            1\n",
              "...             ...          ...  ..  ...   ...        ...          ...\n",
              "1995            794          0.5   0  ...     4         19            0\n",
              "1996           1965          2.6   0  ...    10         16            2\n",
              "1997           1911          0.9   1  ...     1          5            3\n",
              "1998           1512          0.9   4  ...    10         19            0\n",
              "1999            510          2.0   5  ...     4          2            3\n",
              "\n",
              "[2000 rows x 15 columns]"
            ]
          },
          "metadata": {},
          "execution_count": 249
        }
      ],
      "source": [
        "# Last check before entring the modelling phase\n",
        "\n",
        "df_copy"
      ]
    },
    {
      "cell_type": "code",
      "execution_count": 250,
      "metadata": {
        "id": "tZSJVcgDC0xq",
        "colab": {
          "base_uri": "https://localhost:8080/"
        },
        "outputId": "1561ae7b-695d-4468-d3e8-2554fdddfb1d"
      },
      "outputs": [
        {
          "output_type": "execute_result",
          "data": {
            "text/plain": [
              "Index(['battery_power', 'clock_speed', 'fc', 'int_memory', 'm_dep',\n",
              "       'mobile_wt', 'n_cores', 'pc', 'px_height', 'px_width', 'ram', 'sc_h',\n",
              "       'sc_w', 'talk_time', 'price_range'],\n",
              "      dtype='object')"
            ]
          },
          "metadata": {},
          "execution_count": 250
        }
      ],
      "source": [
        "df_copy.columns"
      ]
    },
    {
      "cell_type": "code",
      "execution_count": 251,
      "metadata": {
        "id": "yLL6jjtYDH7c",
        "colab": {
          "base_uri": "https://localhost:8080/"
        },
        "outputId": "78bc89c4-5966-4f72-a9d4-1662c74fe25e"
      },
      "outputs": [
        {
          "output_type": "execute_result",
          "data": {
            "text/plain": [
              "(2000, 15)"
            ]
          },
          "metadata": {},
          "execution_count": 251
        }
      ],
      "source": [
        "df_copy.shape"
      ]
    },
    {
      "cell_type": "code",
      "execution_count": 252,
      "metadata": {
        "id": "ckcDmcDRT-PI",
        "colab": {
          "base_uri": "https://localhost:8080/",
          "height": 1000
        },
        "outputId": "14f32711-1812-4934-a14c-7866525642b6"
      },
      "outputs": [
        {
          "output_type": "display_data",
          "data": {
            "image/png": "[encoded data removed]",
            "text/plain": [
              "<Figure size 504x360 with 1 Axes>"
            ]
          },
          "metadata": {
            "needs_background": "light"
          }
        },
        {
          "output_type": "display_data",
          "data": {
            "image/png": "[encoded data removed]",
            "text/plain": [
              "<Figure size 504x360 with 1 Axes>"
            ]
          },
          "metadata": {
            "needs_background": "light"
          }
        },
        {
          "output_type": "display_data",
          "data": {
            "image/png": "[encoded data removed]",
            "text/plain": [
              "<Figure size 504x360 with 1 Axes>"
            ]
          },
          "metadata": {
            "needs_background": "light"
          }
        },
        {
          "output_type": "display_data",
          "data": {
            "image/png": "[encoded data removed]",
            "text/plain": [
              "<Figure size 504x360 with 1 Axes>"
            ]
          },
          "metadata": {
            "needs_background": "light"
          }
        },
        {
          "output_type": "display_data",
          "data": {
            "image/png": "[encoded data removed]",
            "text/plain": [
              "<Figure size 504x360 with 1 Axes>"
            ]
          },
          "metadata": {
            "needs_background": "light"
          }
        },
        {
          "output_type": "display_data",
          "data": {
            "image/png": "[encoded data removed]",
            "text/plain": [
              "<Figure size 504x360 with 1 Axes>"
            ]
          },
          "metadata": {
            "needs_background": "light"
          }
        },
        {
          "output_type": "display_data",
          "data": {
            "image/png": "[encoded data removed]",
            "text/plain": [
              "<Figure size 504x360 with 1 Axes>"
            ]
          },
          "metadata": {
            "needs_background": "light"
          }
        },
        {
          "output_type": "display_data",
          "data": {
            "image/png": "[encoded data removed]",
            "text/plain": [
              "<Figure size 504x360 with 1 Axes>"
            ]
          },
          "metadata": {
            "needs_background": "light"
          }
        },
        {
          "output_type": "display_data",
          "data": {
            "image/png": "[encoded data removed]",
            "text/plain": [
              "<Figure size 504x360 with 1 Axes>"
            ]
          },
          "metadata": {
            "needs_background": "light"
          }
        },
        {
          "output_type": "display_data",
          "data": {
            "image/png": "[encoded data removed]",
            "text/plain": [
              "<Figure size 504x360 with 1 Axes>"
            ]
          },
          "metadata": {
            "needs_background": "light"
          }
        },
        {
          "output_type": "display_data",
          "data": {
            "image/png": "[encoded data removed]",
            "text/plain": [
              "<Figure size 504x360 with 1 Axes>"
            ]
          },
          "metadata": {
            "needs_background": "light"
          }
        },
        {
          "output_type": "display_data",
          "data": {
            "image/png": "[encoded data removed]",
            "text/plain": [
              "<Figure size 504x360 with 1 Axes>"
            ]
          },
          "metadata": {
            "needs_background": "light"
          }
        },
        {
          "output_type": "display_data",
          "data": {
            "image/png": "[encoded data removed]",
            "text/plain": [
              "<Figure size 504x360 with 1 Axes>"
            ]
          },
          "metadata": {
            "needs_background": "light"
          }
        },
        {
          "output_type": "display_data",
          "data": {
            "image/png": "[encoded data removed]",
            "text/plain": [
              "<Figure size 504x360 with 1 Axes>"
            ]
          },
          "metadata": {
            "needs_background": "light"
          }
        },
        {
          "output_type": "display_data",
          "data": {
            "image/png": "[encoded data removed]",
            "text/plain": [
              "<Figure size 504x360 with 1 Axes>"
            ]
          },
          "metadata": {
            "needs_background": "light"
          }
        }
      ],
      "source": [
        "for col in df_copy:\n",
        "  plt.figure(figsize= (7,5))\n",
        "  sns.boxplot(y = df_copy[col])\n",
        "plt.show()"
      ]
    },
    {
      "cell_type": "markdown",
      "metadata": {
        "id": "p73Hy9xGaFjv"
      },
      "source": [
        "### No outliers, we don't need any more cleaning of the data"
      ]
    },
    {
      "cell_type": "markdown",
      "metadata": {
        "id": "M3wMEXd8XRff"
      },
      "source": [
        "## Everything seem fine. Let's Standardise the training data, because we already have removed the categorical features as their impact on the price of the mobile was lowest and did not affected much."
      ]
    },
    {
      "cell_type": "code",
      "execution_count": 253,
      "metadata": {
        "id": "eybPoZ9QXfim"
      },
      "outputs": [],
      "source": [
        "y = df_copy['price_range'].copy()\n",
        "df_copy = df_copy.drop('price_range',axis=1)"
      ]
    },
    {
      "cell_type": "code",
      "execution_count": 254,
      "metadata": {
        "id": "cKVyRKusZuWH"
      },
      "outputs": [],
      "source": [
        "stan_col = list(df_copy.columns)"
      ]
    },
    {
      "cell_type": "code",
      "execution_count": 255,
      "metadata": {
        "id": "MK3jdtVCXQlA"
      },
      "outputs": [],
      "source": [
        "# StandardScaler removes the mean and scales each feature/variable to unit variance.\n",
        "\n",
        "from sklearn.preprocessing import StandardScaler\n",
        "\n",
        "scaler = StandardScaler()\n",
        "df_copy[stan_col] = scaler.fit_transform(df_copy[stan_col])"
      ]
    },
    {
      "cell_type": "code",
      "execution_count": 256,
      "metadata": {
        "id": "c2A6YbdmXQnw",
        "colab": {
          "base_uri": "https://localhost:8080/",
          "height": 206
        },
        "outputId": "3e8ccb4f-7612-4f8b-e400-de457589c5ea"
      },
      "outputs": [
        {
          "output_type": "execute_result",
          "data": {
            "text/html": [
              "\n",
              "  <div id=\"df-5f32c6fb-48a6-4c9d-ae96-e6eb63c73df3\">\n",
              "    <div class=\"colab-df-container\">\n",
              "      <div>\n",
              "<style scoped>\n",
              "    .dataframe tbody tr th:only-of-type {\n",
              "        vertical-align: middle;\n",
              "    }\n",
              "\n",
              "    .dataframe tbody tr th {\n",
              "        vertical-align: top;\n",
              "    }\n",
              "\n",
              "    .dataframe thead th {\n",
              "        text-align: right;\n",
              "    }\n",
              "</style>\n",
              "<table border=\"1\" class=\"dataframe\">\n",
              "  <thead>\n",
              "    <tr style=\"text-align: right;\">\n",
              "      <th></th>\n",
              "      <th>battery_power</th>\n",
              "      <th>clock_speed</th>\n",
              "      <th>fc</th>\n",
              "      <th>int_memory</th>\n",
              "      <th>m_dep</th>\n",
              "      <th>mobile_wt</th>\n",
              "      <th>n_cores</th>\n",
              "      <th>pc</th>\n",
              "      <th>px_height</th>\n",
              "      <th>px_width</th>\n",
              "      <th>ram</th>\n",
              "      <th>sc_h</th>\n",
              "      <th>sc_w</th>\n",
              "      <th>talk_time</th>\n",
              "    </tr>\n",
              "  </thead>\n",
              "  <tbody>\n",
              "    <tr>\n",
              "      <th>0</th>\n",
              "      <td>-0.902597</td>\n",
              "      <td>0.830779</td>\n",
              "      <td>-0.762495</td>\n",
              "      <td>-1.380644</td>\n",
              "      <td>0.340740</td>\n",
              "      <td>1.349249</td>\n",
              "      <td>-1.101971</td>\n",
              "      <td>-1.305750</td>\n",
              "      <td>-1.408949</td>\n",
              "      <td>-1.146784</td>\n",
              "      <td>0.391703</td>\n",
              "      <td>-0.784983</td>\n",
              "      <td>0.283103</td>\n",
              "      <td>1.462493</td>\n",
              "    </tr>\n",
              "    <tr>\n",
              "      <th>1</th>\n",
              "      <td>-0.495139</td>\n",
              "      <td>-1.253064</td>\n",
              "      <td>-0.992890</td>\n",
              "      <td>1.155024</td>\n",
              "      <td>0.687548</td>\n",
              "      <td>-0.120059</td>\n",
              "      <td>-0.664768</td>\n",
              "      <td>-0.645989</td>\n",
              "      <td>0.585778</td>\n",
              "      <td>1.704465</td>\n",
              "      <td>0.467317</td>\n",
              "      <td>1.114266</td>\n",
              "      <td>-0.635317</td>\n",
              "      <td>-0.734267</td>\n",
              "    </tr>\n",
              "    <tr>\n",
              "      <th>2</th>\n",
              "      <td>-1.537686</td>\n",
              "      <td>-1.253064</td>\n",
              "      <td>-0.532099</td>\n",
              "      <td>0.493546</td>\n",
              "      <td>1.381165</td>\n",
              "      <td>0.134244</td>\n",
              "      <td>0.209639</td>\n",
              "      <td>-0.645989</td>\n",
              "      <td>1.392684</td>\n",
              "      <td>1.074968</td>\n",
              "      <td>0.441498</td>\n",
              "      <td>-0.310171</td>\n",
              "      <td>-0.864922</td>\n",
              "      <td>-0.368140</td>\n",
              "    </tr>\n",
              "    <tr>\n",
              "      <th>3</th>\n",
              "      <td>-1.419319</td>\n",
              "      <td>1.198517</td>\n",
              "      <td>-0.992890</td>\n",
              "      <td>-1.215274</td>\n",
              "      <td>1.034357</td>\n",
              "      <td>-0.261339</td>\n",
              "      <td>0.646842</td>\n",
              "      <td>-0.151168</td>\n",
              "      <td>1.286750</td>\n",
              "      <td>1.236971</td>\n",
              "      <td>0.594569</td>\n",
              "      <td>0.876859</td>\n",
              "      <td>0.512708</td>\n",
              "      <td>-0.002014</td>\n",
              "    </tr>\n",
              "    <tr>\n",
              "      <th>4</th>\n",
              "      <td>1.325906</td>\n",
              "      <td>-0.395011</td>\n",
              "      <td>2.002254</td>\n",
              "      <td>0.658915</td>\n",
              "      <td>0.340740</td>\n",
              "      <td>0.021220</td>\n",
              "      <td>-1.101971</td>\n",
              "      <td>0.673534</td>\n",
              "      <td>1.268718</td>\n",
              "      <td>-0.091452</td>\n",
              "      <td>-0.657666</td>\n",
              "      <td>-1.022389</td>\n",
              "      <td>-0.864922</td>\n",
              "      <td>0.730240</td>\n",
              "    </tr>\n",
              "  </tbody>\n",
              "</table>\n",
              "</div>\n",
              "      <button class=\"colab-df-convert\" onclick=\"convertToInteractive('df-5f32c6fb-48a6-4c9d-ae96-e6eb63c73df3')\"\n",
              "              title=\"Convert this dataframe to an interactive table.\"\n",
              "              style=\"display:none;\">\n",
              "        \n",
              "  <svg xmlns=\"http://www.w3.org/2000/svg\" height=\"24px\"viewBox=\"0 0 24 24\"\n",
              "       width=\"24px\">\n",
              "    <path d=\"M0 0h24v24H0V0z\" fill=\"none\"/>\n",
              "    <path d=\"M18.56 5.44l.94 2.06.94-2.06 2.06-.94-2.06-.94-.94-2.06-.94 2.06-2.06.94zm-11 1L8.5 8.5l.94-2.06 2.06-.94-2.06-.94L8.5 2.5l-.94 2.06-2.06.94zm10 10l.94 2.06.94-2.06 2.06-.94-2.06-.94-.94-2.06-.94 2.06-2.06.94z\"/><path d=\"M17.41 7.96l-1.37-1.37c-.4-.4-.92-.59-1.43-.59-.52 0-1.04.2-1.43.59L10.3 9.45l-7.72 7.72c-.78.78-.78 2.05 0 2.83L4 21.41c.39.39.9.59 1.41.59.51 0 1.02-.2 1.41-.59l7.78-7.78 2.81-2.81c.8-.78.8-2.07 0-2.86zM5.41 20L4 18.59l7.72-7.72 1.47 1.35L5.41 20z\"/>\n",
              "  </svg>\n",
              "      </button>\n",
              "      \n",
              "  <style>\n",
              "    .colab-df-container {\n",
              "      display:flex;\n",
              "      flex-wrap:wrap;\n",
              "      gap: 12px;\n",
              "    }\n",
              "\n",
              "    .colab-df-convert {\n",
              "      background-color: #E8F0FE;\n",
              "      border: none;\n",
              "      border-radius: 50%;\n",
              "      cursor: pointer;\n",
              "      display: none;\n",
              "      fill: #1967D2;\n",
              "      height: 32px;\n",
              "      padding: 0 0 0 0;\n",
              "      width: 32px;\n",
              "    }\n",
              "\n",
              "    .colab-df-convert:hover {\n",
              "      background-color: #E2EBFA;\n",
              "      box-shadow: 0px 1px 2px rgba(60, 64, 67, 0.3), 0px 1px 3px 1px rgba(60, 64, 67, 0.15);\n",
              "      fill: #174EA6;\n",
              "    }\n",
              "\n",
              "    [theme=dark] .colab-df-convert {\n",
              "      background-color: #3B4455;\n",
              "      fill: #D2E3FC;\n",
              "    }\n",
              "\n",
              "    [theme=dark] .colab-df-convert:hover {\n",
              "      background-color: #434B5C;\n",
              "      box-shadow: 0px 1px 3px 1px rgba(0, 0, 0, 0.15);\n",
              "      filter: drop-shadow(0px 1px 2px rgba(0, 0, 0, 0.3));\n",
              "      fill: #FFFFFF;\n",
              "    }\n",
              "  </style>\n",
              "\n",
              "      <script>\n",
              "        const buttonEl =\n",
              "          document.querySelector('#df-5f32c6fb-48a6-4c9d-ae96-e6eb63c73df3 button.colab-df-convert');\n",
              "        buttonEl.style.display =\n",
              "          google.colab.kernel.accessAllowed ? 'block' : 'none';\n",
              "\n",
              "        async function convertToInteractive(key) {\n",
              "          const element = document.querySelector('#df-5f32c6fb-48a6-4c9d-ae96-e6eb63c73df3');\n",
              "          const dataTable =\n",
              "            await google.colab.kernel.invokeFunction('convertToInteractive',\n",
              "                                                     [key], {});\n",
              "          if (!dataTable) return;\n",
              "\n",
              "          const docLinkHtml = 'Like what you see? Visit the ' +\n",
              "            '<a target=\"_blank\" href=https://colab.research.google.com/notebooks/data_table.ipynb>data table notebook</a>'\n",
              "            + ' to learn more about interactive tables.';\n",
              "          element.innerHTML = '';\n",
              "          dataTable['output_type'] = 'display_data';\n",
              "          await google.colab.output.renderOutput(dataTable, element);\n",
              "          const docLink = document.createElement('div');\n",
              "          docLink.innerHTML = docLinkHtml;\n",
              "          element.appendChild(docLink);\n",
              "        }\n",
              "      </script>\n",
              "    </div>\n",
              "  </div>\n",
              "  "
            ],
            "text/plain": [
              "   battery_power  clock_speed        fc  ...      sc_h      sc_w  talk_time\n",
              "0      -0.902597     0.830779 -0.762495  ... -0.784983  0.283103   1.462493\n",
              "1      -0.495139    -1.253064 -0.992890  ...  1.114266 -0.635317  -0.734267\n",
              "2      -1.537686    -1.253064 -0.532099  ... -0.310171 -0.864922  -0.368140\n",
              "3      -1.419319     1.198517 -0.992890  ...  0.876859  0.512708  -0.002014\n",
              "4       1.325906    -0.395011  2.002254  ... -1.022389 -0.864922   0.730240\n",
              "\n",
              "[5 rows x 14 columns]"
            ]
          },
          "metadata": {},
          "execution_count": 256
        }
      ],
      "source": [
        "df_copy.head()"
      ]
    },
    {
      "cell_type": "markdown",
      "metadata": {
        "id": "A-qDlRpqaMO_"
      },
      "source": [
        "### Now our data has been Standardised. Moving on to Modelling part"
      ]
    },
    {
      "cell_type": "markdown",
      "metadata": {
        "id": "dqX1_si3CNXb"
      },
      "source": [
        "## Splitting the data into Train test and Importing relevant libraries"
      ]
    },
    {
      "cell_type": "code",
      "execution_count": 257,
      "metadata": {
        "id": "m0VOOqbw_1cx"
      },
      "outputs": [],
      "source": [
        "from sklearn.model_selection import train_test_split \n",
        "\n",
        "X = df_copy[['battery_power', 'clock_speed', 'fc', 'int_memory', 'm_dep', 'mobile_wt', 'n_cores', 'pc', 'px_height', 'px_width', 'ram', 'sc_h', 'sc_w', 'talk_time']].copy()"
      ]
    },
    {
      "cell_type": "code",
      "execution_count": 258,
      "metadata": {
        "id": "jpSLNxKWDYfY",
        "colab": {
          "base_uri": "https://localhost:8080/"
        },
        "outputId": "f0e54a18-976d-43c7-99e7-1548b621c764"
      },
      "outputs": [
        {
          "output_type": "stream",
          "name": "stdout",
          "text": [
            "(2000, 14)\n",
            "(2000,)\n"
          ]
        }
      ],
      "source": [
        "print(X.shape)\n",
        "print(y.shape)"
      ]
    },
    {
      "cell_type": "code",
      "execution_count": 259,
      "metadata": {
        "id": "4J1HjioiDcPB",
        "colab": {
          "base_uri": "https://localhost:8080/"
        },
        "outputId": "d0eb49b4-1533-4adf-c891-256ce771bb9b"
      },
      "outputs": [
        {
          "output_type": "stream",
          "name": "stdout",
          "text": [
            "(1600, 14)\n",
            "(400, 14)\n"
          ]
        }
      ],
      "source": [
        "X_train, X_test, y_train, y_test = train_test_split( X, y , test_size = 0.2, random_state = 0) \n",
        "print(X_train.shape)\n",
        "print(X_test.shape)"
      ]
    },
    {
      "cell_type": "code",
      "execution_count": 260,
      "metadata": {
        "id": "hXXBzkSjDoZh",
        "colab": {
          "base_uri": "https://localhost:8080/"
        },
        "outputId": "a8c7b357-ef13-4f94-a655-818facfd06a1"
      },
      "outputs": [
        {
          "output_type": "execute_result",
          "data": {
            "text/plain": [
              "1    408\n",
              "0    405\n",
              "2    401\n",
              "3    386\n",
              "Name: price_range, dtype: int64"
            ]
          },
          "metadata": {},
          "execution_count": 260
        }
      ],
      "source": [
        "y_train.value_counts()"
      ]
    },
    {
      "cell_type": "code",
      "execution_count": 261,
      "metadata": {
        "id": "qedZi8o6DtVI",
        "colab": {
          "base_uri": "https://localhost:8080/"
        },
        "outputId": "f7dacdcb-ade5-4ba1-d723-64cdf343021f"
      },
      "outputs": [
        {
          "output_type": "execute_result",
          "data": {
            "text/plain": [
              "3    114\n",
              "2     99\n",
              "0     95\n",
              "1     92\n",
              "Name: price_range, dtype: int64"
            ]
          },
          "metadata": {},
          "execution_count": 261
        }
      ],
      "source": [
        "y_test.value_counts()"
      ]
    },
    {
      "cell_type": "markdown",
      "metadata": {
        "id": "QVzsVWsoEEri"
      },
      "source": [
        "# **Logistic** **Regression**"
      ]
    },
    {
      "cell_type": "markdown",
      "metadata": {
        "id": "107R7qOeEM8y"
      },
      "source": [
        "### Importing required Libraries and Fitting logistic regression on our train data"
      ]
    },
    {
      "cell_type": "code",
      "execution_count": 262,
      "metadata": {
        "id": "BMDTZ85QEDh_",
        "colab": {
          "base_uri": "https://localhost:8080/"
        },
        "outputId": "1100e006-d716-4771-b455-667c2f4ba424"
      },
      "outputs": [
        {
          "output_type": "execute_result",
          "data": {
            "text/plain": [
              "LogisticRegression(max_iter=10000)"
            ]
          },
          "metadata": {},
          "execution_count": 262
        }
      ],
      "source": [
        "from sklearn.linear_model import LogisticRegression\n",
        "\n",
        "clf = LogisticRegression(fit_intercept=True, max_iter=10000)\n",
        "clf.fit(X_train, y_train)"
      ]
    },
    {
      "cell_type": "code",
      "execution_count": 263,
      "metadata": {
        "id": "3ozgaiyzWBYV"
      },
      "outputs": [],
      "source": [
        "# Get the predicted classes\n",
        "\n",
        "\n",
        "train_class_preds = clf.predict(X_train)\n",
        "test_class_preds = clf.predict(X_test)"
      ]
    },
    {
      "cell_type": "code",
      "execution_count": 264,
      "metadata": {
        "id": "_coNdj34WD7v",
        "colab": {
          "base_uri": "https://localhost:8080/"
        },
        "outputId": "4c58584b-e1c1-41bd-d80d-c2837f765c45"
      },
      "outputs": [
        {
          "output_type": "execute_result",
          "data": {
            "text/plain": [
              "array([0, 1, 3, 0, 3, 3, 0, 2, 1, 3])"
            ]
          },
          "metadata": {},
          "execution_count": 264
        }
      ],
      "source": [
        "train_class_preds[:10]"
      ]
    },
    {
      "cell_type": "markdown",
      "metadata": {
        "id": "BD02x_ZIWlwc"
      },
      "source": [
        "### Evaluating metics for Logistic Regression"
      ]
    },
    {
      "cell_type": "code",
      "execution_count": 265,
      "metadata": {
        "id": "O5Wt_6kSWq66",
        "colab": {
          "base_uri": "https://localhost:8080/"
        },
        "outputId": "0b448835-f2e8-43a6-cc7f-01cecbf0acf2"
      },
      "outputs": [
        {
          "output_type": "stream",
          "name": "stdout",
          "text": [
            "The accuracy on train data is : 0.978125\n",
            "The accuracy on test data is : 0.955\n",
            "----------------------------------------\n",
            "----------------------------------------\n",
            "The confusion matrix on the train data is :\n",
            "[[403   7   0   0]\n",
            " [  2 395  10   0]\n",
            " [  0   6 384   3]\n",
            " [  0   0   7 383]]\n",
            "\n",
            "The confusion matrix on the train data is :\n",
            "[[ 93   2   0   0]\n",
            " [  2  88   5   0]\n",
            " [  0   2  90   3]\n",
            " [  0   0   4 111]]\n",
            "----------------------------------------\n",
            "----------------------------------------\n",
            "The classification report on the train data is :\n",
            "              precision    recall  f1-score   support\n",
            "\n",
            "           0       1.00      0.98      0.99       410\n",
            "           1       0.97      0.97      0.97       407\n",
            "           2       0.96      0.98      0.97       393\n",
            "           3       0.99      0.98      0.99       390\n",
            "\n",
            "    accuracy                           0.98      1600\n",
            "   macro avg       0.98      0.98      0.98      1600\n",
            "weighted avg       0.98      0.98      0.98      1600\n",
            "\n",
            "\n",
            "The classification report on the test data is :\n",
            "              precision    recall  f1-score   support\n",
            "\n",
            "           0       0.98      0.98      0.98        95\n",
            "           1       0.96      0.93      0.94        95\n",
            "           2       0.91      0.95      0.93        95\n",
            "           3       0.97      0.97      0.97       115\n",
            "\n",
            "    accuracy                           0.95       400\n",
            "   macro avg       0.95      0.95      0.95       400\n",
            "weighted avg       0.96      0.95      0.96       400\n",
            "\n",
            "----------------------------------------\n",
            "----------------------------------------\n",
            "The ROC AUC score on the train data is:  0.9993274256140114\n",
            "The ROC AUC score on the test data is:  0.9981845228815782\n"
          ]
        }
      ],
      "source": [
        "from sklearn.metrics import accuracy_score, confusion_matrix,roc_auc_score, classification_report\n",
        "\n",
        "# Get the accuracy scores\n",
        "\n",
        "train_accuracy = accuracy_score(train_class_preds,y_train)\n",
        "test_accuracy = accuracy_score(test_class_preds,y_test)\n",
        "\n",
        "print(\"The accuracy on train data is :\", train_accuracy)\n",
        "print(\"The accuracy on test data is :\", test_accuracy)\n",
        "print('--'*20)\n",
        "print('--'*20)\n",
        "\n",
        "cm_train = confusion_matrix(train_class_preds, y_train)\n",
        "cm_test = confusion_matrix(test_class_preds, y_test)\n",
        "\n",
        "print(\"The confusion matrix on the train data is :\")\n",
        "print(cm_train)\n",
        "print('')\n",
        "print(\"The confusion matrix on the train data is :\")\n",
        "print(cm_test)\n",
        "print('--'*20)\n",
        "print('--'*20)\n",
        "\n",
        "train_report = classification_report(train_class_preds, y_train)\n",
        "test_report = classification_report(test_class_preds, y_test)\n",
        "print(\"The classification report on the train data is :\")\n",
        "print(train_report)\n",
        "print('')\n",
        "print(\"The classification report on the test data is :\")\n",
        "print(test_report)\n",
        "print('--'*20)\n",
        "print('--'*20)\n",
        "\n",
        "train_roc_auc_score = roc_auc_score(y_train, clf.predict_proba(X_train), multi_class='ovr')\n",
        "test_roc_auc_score = roc_auc_score(y_test, clf.predict_proba(X_test), multi_class='ovr')\n",
        "print(\"The ROC AUC score on the train data is: \", train_roc_auc_score)\n",
        "print(\"The ROC AUC score on the test data is: \", test_roc_auc_score)"
      ]
    },
    {
      "cell_type": "markdown",
      "metadata": {
        "id": "afxRtCweEoWS"
      },
      "source": [
        "## Now there are two possibilities from here : \n",
        "\n",
        "### 1) Either the dataset is really good\n",
        "\n",
        "### 2) or the model is overfitting\n",
        "\n",
        "### To clear the above doubts let's continue applying different models"
      ]
    },
    {
      "cell_type": "code",
      "execution_count": 266,
      "metadata": {
        "id": "xMEoCfbc36vl"
      },
      "outputs": [],
      "source": [
        "\n",
        "def train_confusion_matrix(x):\n",
        "  '''\n",
        "  FUNCTION FOR PLOTTING TRAIN CONFUSION MATRIX \n",
        "  '''\n",
        "  plt.figure(figsize=(10,7))\n",
        "  labels = ['0', '1', '2', '3']\n",
        "  ax= plt.subplot()\n",
        "  sns.heatmap(x, annot=True, ax = ax) \n",
        "\n",
        "  # labels, title and ticks\n",
        "  ax.set_xlabel('Predicted labels')\n",
        "  ax.set_ylabel('True labels')\n",
        "  ax.set_title('Confusion Matrix')\n",
        "  ax.xaxis.set_ticklabels(labels)\n",
        "  ax.yaxis.set_ticklabels(labels)\n",
        "  plt.show()\n",
        "  "
      ]
    },
    {
      "cell_type": "code",
      "execution_count": 267,
      "metadata": {
        "id": "uaH3OHzW7bZY"
      },
      "outputs": [],
      "source": [
        "def test_confusion_matrix(x):\n",
        "  '''\n",
        "  FUNCTION FOR PLOTTING TEST CONFUSION MATRIX \n",
        "  '''\n",
        "  plt.figure(figsize=(10,7))\n",
        "  labels = ['0', '1', '2', '3']\n",
        "  ax= plt.subplot()\n",
        "  sns.heatmap(x, annot=True, ax = ax) \n",
        "\n",
        "  # labels, title and ticks\n",
        "  ax.set_xlabel('Predicted labels')\n",
        "  ax.set_ylabel('True labels')\n",
        "  ax.set_title('Confusion Matrix')\n",
        "  ax.xaxis.set_ticklabels(labels)\n",
        "  ax.yaxis.set_ticklabels(labels)\n",
        "  plt.show()\n",
        "  "
      ]
    },
    {
      "cell_type": "code",
      "execution_count": 268,
      "metadata": {
        "colab": {
          "base_uri": "https://localhost:8080/",
          "height": 458
        },
        "id": "Td3_AANS6_C7",
        "outputId": "ff8717dd-499c-450d-a92f-0613bd1e83c1"
      },
      "outputs": [
        {
          "output_type": "display_data",
          "data": {
            "image/png": "[encoded data removed]",
            "text/plain": [
              "<Figure size 720x504 with 2 Axes>"
            ]
          },
          "metadata": {
            "needs_background": "light"
          }
        }
      ],
      "source": [
        "train_confusion_matrix(cm_train)"
      ]
    },
    {
      "cell_type": "code",
      "execution_count": 269,
      "metadata": {
        "colab": {
          "base_uri": "https://localhost:8080/",
          "height": 458
        },
        "id": "4rOhm7BacmGB",
        "outputId": "cb7cdd69-3885-4947-a7d4-009a8ac0c072"
      },
      "outputs": [
        {
          "output_type": "display_data",
          "data": {
            "image/png": "[encoded data removed]",
            "text/plain": [
              "<Figure size 720x504 with 2 Axes>"
            ]
          },
          "metadata": {
            "needs_background": "light"
          }
        }
      ],
      "source": [
        "test_confusion_matrix(cm_test)"
      ]
    },
    {
      "cell_type": "markdown",
      "metadata": {
        "id": "WKHpwQ-ZeAoy"
      },
      "source": [
        "#**Decision Tree**"
      ]
    },
    {
      "cell_type": "markdown",
      "metadata": {
        "id": "YfkLwB4neHWD"
      },
      "source": [
        "###Importing required libraries and fitting the data"
      ]
    },
    {
      "cell_type": "code",
      "execution_count": 270,
      "metadata": {
        "id": "nbqUv9VheD8u"
      },
      "outputs": [],
      "source": [
        "from sklearn.tree import DecisionTreeClassifier"
      ]
    },
    {
      "cell_type": "code",
      "execution_count": 271,
      "metadata": {
        "colab": {
          "base_uri": "https://localhost:8080/"
        },
        "id": "Wx2riVN_eQTg",
        "outputId": "d742204c-8f1a-4812-ae82-cd8b6c51952f"
      },
      "outputs": [
        {
          "output_type": "execute_result",
          "data": {
            "text/plain": [
              "DecisionTreeClassifier(criterion='entropy', max_leaf_nodes=10, random_state=0)"
            ]
          },
          "metadata": {},
          "execution_count": 271
        }
      ],
      "source": [
        "Decision_classifier = DecisionTreeClassifier(criterion='entropy', max_leaf_nodes=10, random_state=0)\n",
        "Decision_classifier.fit(X_train, y_train)"
      ]
    },
    {
      "cell_type": "code",
      "execution_count": 272,
      "metadata": {
        "id": "terBotW_eftg"
      },
      "outputs": [],
      "source": [
        "# Get the predicted classes\n",
        "\n",
        "\n",
        "train_class_preds_DT = clf.predict(X_train)\n",
        "test_class_preds_DT = clf.predict(X_test)"
      ]
    },
    {
      "cell_type": "code",
      "execution_count": 273,
      "metadata": {
        "colab": {
          "base_uri": "https://localhost:8080/"
        },
        "id": "hMYDb4QNeyg_",
        "outputId": "6a156e14-98b9-4c40-c0a3-7f7bc4e18486"
      },
      "outputs": [
        {
          "output_type": "execute_result",
          "data": {
            "text/plain": [
              "array([3, 0, 2, 2, 3, 0, 0, 3, 3, 1])"
            ]
          },
          "metadata": {},
          "execution_count": 273
        }
      ],
      "source": [
        "test_class_preds_DT[:10]"
      ]
    },
    {
      "cell_type": "markdown",
      "metadata": {
        "id": "4XWPbmtniRWz"
      },
      "source": [
        "##**Visualizing Decision Tree**"
      ]
    },
    {
      "cell_type": "code",
      "execution_count": 274,
      "metadata": {
        "id": "grpO58YTiQ3b"
      },
      "outputs": [],
      "source": [
        "# Importing required libraries\n",
        "\n",
        "from sklearn.tree import DecisionTreeClassifier, export_graphviz\n",
        "from sklearn import tree\n",
        "from IPython.display import SVG\n",
        "from graphviz import Source\n",
        "from IPython.display import display"
      ]
    },
    {
      "cell_type": "code",
      "execution_count": 275,
      "metadata": {
        "colab": {
          "base_uri": "https://localhost:8080/",
          "height": 816
        },
        "id": "Qjn-AWT2iZ_Z",
        "outputId": "94ab6be7-200d-46f9-827d-6e0f26e21c3d"
      },
      "outputs": [
        {
          "output_type": "display_data",
          "data": {
            "text/plain": [
              "<IPython.core.display.SVG object>"
            ],
            "image/svg+xml": "<svg height=\"581pt\" viewBox=\"0.00 0.00 1109.00 581.00\" width=\"1109pt\" xmlns=\"http://www.w3.org/2000/svg\" xmlns:xlink=\"http://www.w3.org/1999/xlink\">\n<g class=\"graph\" id=\"graph0\" transform=\"scale(1 1) rotate(0) translate(4 577)\">\n<title>Tree</title>\n<polygon fill=\"#ffffff\" points=\"-4,4 -4,-577 1105,-577 1105,4 -4,4\" stroke=\"transparent\"/>\n<!-- 0 -->\n<g class=\"node\" id=\"node1\">\n<title>0</title>\n<polygon fill=\"#ffffff\" points=\"513,-573 316,-573 316,-505 513,-505 513,-573\" stroke=\"#000000\"/>\n<text fill=\"#000000\" font-family=\"Helvetica,sans-Serif\" font-size=\"14.00\" text-anchor=\"middle\" x=\"414.5\" y=\"-557.8\">ram &lt;= 0.103</text>\n<text fill=\"#000000\" font-family=\"Helvetica,sans-Serif\" font-size=\"14.00\" text-anchor=\"middle\" x=\"414.5\" y=\"-542.8\">entropy = 2.0</text>\n<text fill=\"#000000\" font-family=\"Helvetica,sans-Serif\" font-size=\"14.00\" text-anchor=\"middle\" x=\"414.5\" y=\"-527.8\">samples = 1600</text>\n<text fill=\"#000000\" font-family=\"Helvetica,sans-Serif\" font-size=\"14.00\" text-anchor=\"middle\" x=\"414.5\" y=\"-512.8\">value = [405, 408, 401, 386]</text>\n</g>\n<!-- 1 -->\n<g class=\"node\" id=\"node2\">\n<title>1</title>\n<polygon fill=\"#fdf4ed\" points=\"405.5,-469 233.5,-469 233.5,-401 405.5,-401 405.5,-469\" stroke=\"#000000\"/>\n<text fill=\"#000000\" font-family=\"Helvetica,sans-Serif\" font-size=\"14.00\" text-anchor=\"middle\" x=\"319.5\" y=\"-453.8\">ram &lt;= -0.875</text>\n<text fill=\"#000000\" font-family=\"Helvetica,sans-Serif\" font-size=\"14.00\" text-anchor=\"middle\" x=\"319.5\" y=\"-438.8\">entropy = 1.36</text>\n<text fill=\"#000000\" font-family=\"Helvetica,sans-Serif\" font-size=\"14.00\" text-anchor=\"middle\" x=\"319.5\" y=\"-423.8\">samples = 848</text>\n<text fill=\"#000000\" font-family=\"Helvetica,sans-Serif\" font-size=\"14.00\" text-anchor=\"middle\" x=\"319.5\" y=\"-408.8\">value = [405, 361, 82, 0]</text>\n</g>\n<!-- 0&#45;&gt;1 -->\n<g class=\"edge\" id=\"edge1\">\n<title>0-&gt;1</title>\n<path d=\"M383.3934,-504.9465C375.1099,-495.8782 366.0682,-485.9799 357.4621,-476.5585\" fill=\"none\" stroke=\"#000000\"/>\n<polygon fill=\"#000000\" points=\"360.005,-474.1528 350.6764,-469.13 354.8367,-478.8739 360.005,-474.1528\" stroke=\"#000000\"/>\n<text fill=\"#000000\" font-family=\"Helvetica,sans-Serif\" font-size=\"14.00\" text-anchor=\"middle\" x=\"349.5469\" y=\"-490.4045\">True</text>\n</g>\n<!-- 2 -->\n<g class=\"node\" id=\"node9\">\n<title>2</title>\n<polygon fill=\"#f9e0fb\" points=\"677.5,-469 505.5,-469 505.5,-401 677.5,-401 677.5,-469\" stroke=\"#000000\"/>\n<text fill=\"#000000\" font-family=\"Helvetica,sans-Serif\" font-size=\"14.00\" text-anchor=\"middle\" x=\"591.5\" y=\"-453.8\">ram &lt;= 0.82</text>\n<text fill=\"#000000\" font-family=\"Helvetica,sans-Serif\" font-size=\"14.00\" text-anchor=\"middle\" x=\"591.5\" y=\"-438.8\">entropy = 1.269</text>\n<text fill=\"#000000\" font-family=\"Helvetica,sans-Serif\" font-size=\"14.00\" text-anchor=\"middle\" x=\"591.5\" y=\"-423.8\">samples = 752</text>\n<text fill=\"#000000\" font-family=\"Helvetica,sans-Serif\" font-size=\"14.00\" text-anchor=\"middle\" x=\"591.5\" y=\"-408.8\">value = [0, 47, 319, 386]</text>\n</g>\n<!-- 0&#45;&gt;2 -->\n<g class=\"edge\" id=\"edge8\">\n<title>0-&gt;2</title>\n<path d=\"M472.4564,-504.9465C489.1125,-495.1599 507.4137,-484.4066 524.5644,-474.3294\" fill=\"none\" stroke=\"#000000\"/>\n<polygon fill=\"#000000\" points=\"526.5646,-477.2136 533.4134,-469.13 523.0184,-471.1783 526.5646,-477.2136\" stroke=\"#000000\"/>\n<text fill=\"#000000\" font-family=\"Helvetica,sans-Serif\" font-size=\"14.00\" text-anchor=\"middle\" x=\"527.1274\" y=\"-489.6268\">False</text>\n</g>\n<!-- 3 -->\n<g class=\"node\" id=\"node3\">\n<title>3</title>\n<polygon fill=\"#e99559\" points=\"214,-357.5 59,-357.5 59,-304.5 214,-304.5 214,-357.5\" stroke=\"#000000\"/>\n<text fill=\"#000000\" font-family=\"Helvetica,sans-Serif\" font-size=\"14.00\" text-anchor=\"middle\" x=\"136.5\" y=\"-342.3\">entropy = 0.58</text>\n<text fill=\"#000000\" font-family=\"Helvetica,sans-Serif\" font-size=\"14.00\" text-anchor=\"middle\" x=\"136.5\" y=\"-327.3\">samples = 390</text>\n<text fill=\"#000000\" font-family=\"Helvetica,sans-Serif\" font-size=\"14.00\" text-anchor=\"middle\" x=\"136.5\" y=\"-312.3\">value = [336, 54, 0, 0]</text>\n</g>\n<!-- 1&#45;&gt;3 -->\n<g class=\"edge\" id=\"edge2\">\n<title>1-&gt;3</title>\n<path d=\"M259.579,-400.9465C237.8711,-388.6098 213.4604,-374.7371 192.1368,-362.6187\" fill=\"none\" stroke=\"#000000\"/>\n<polygon fill=\"#000000\" points=\"193.6275,-359.4402 183.204,-357.5422 190.1688,-365.5261 193.6275,-359.4402\" stroke=\"#000000\"/>\n</g>\n<!-- 4 -->\n<g class=\"node\" id=\"node4\">\n<title>4</title>\n<polygon fill=\"#91ef89\" points=\"406.5,-365 232.5,-365 232.5,-297 406.5,-297 406.5,-365\" stroke=\"#000000\"/>\n<text fill=\"#000000\" font-family=\"Helvetica,sans-Serif\" font-size=\"14.00\" text-anchor=\"middle\" x=\"319.5\" y=\"-349.8\">battery_power &lt;= -0.301</text>\n<text fill=\"#000000\" font-family=\"Helvetica,sans-Serif\" font-size=\"14.00\" text-anchor=\"middle\" x=\"319.5\" y=\"-334.8\">entropy = 1.243</text>\n<text fill=\"#000000\" font-family=\"Helvetica,sans-Serif\" font-size=\"14.00\" text-anchor=\"middle\" x=\"319.5\" y=\"-319.8\">samples = 458</text>\n<text fill=\"#000000\" font-family=\"Helvetica,sans-Serif\" font-size=\"14.00\" text-anchor=\"middle\" x=\"319.5\" y=\"-304.8\">value = [69, 307, 82, 0]</text>\n</g>\n<!-- 1&#45;&gt;4 -->\n<g class=\"edge\" id=\"edge3\">\n<title>1-&gt;4</title>\n<path d=\"M319.5,-400.9465C319.5,-392.776 319.5,-383.9318 319.5,-375.3697\" fill=\"none\" stroke=\"#000000\"/>\n<polygon fill=\"#000000\" points=\"323.0001,-375.13 319.5,-365.13 316.0001,-375.13 323.0001,-375.13\" stroke=\"#000000\"/>\n</g>\n<!-- 7 -->\n<g class=\"node\" id=\"node5\">\n<title>7</title>\n<polygon fill=\"#a9f3a2\" points=\"224,-261 69,-261 69,-193 224,-193 224,-261\" stroke=\"#000000\"/>\n<text fill=\"#000000\" font-family=\"Helvetica,sans-Serif\" font-size=\"14.00\" text-anchor=\"middle\" x=\"146.5\" y=\"-245.8\">ram &lt;= -0.538</text>\n<text fill=\"#000000\" font-family=\"Helvetica,sans-Serif\" font-size=\"14.00\" text-anchor=\"middle\" x=\"146.5\" y=\"-230.8\">entropy = 1.071</text>\n<text fill=\"#000000\" font-family=\"Helvetica,sans-Serif\" font-size=\"14.00\" text-anchor=\"middle\" x=\"146.5\" y=\"-215.8\">samples = 197</text>\n<text fill=\"#000000\" font-family=\"Helvetica,sans-Serif\" font-size=\"14.00\" text-anchor=\"middle\" x=\"146.5\" y=\"-200.8\">value = [65, 127, 5, 0]</text>\n</g>\n<!-- 4&#45;&gt;7 -->\n<g class=\"edge\" id=\"edge4\">\n<title>4-&gt;7</title>\n<path d=\"M262.8533,-296.9465C246.5737,-287.1599 228.686,-276.4066 211.923,-266.3294\" fill=\"none\" stroke=\"#000000\"/>\n<polygon fill=\"#000000\" points=\"213.6478,-263.2826 203.2739,-261.13 210.0412,-269.282 213.6478,-263.2826\" stroke=\"#000000\"/>\n</g>\n<!-- 8 -->\n<g class=\"node\" id=\"node8\">\n<title>8</title>\n<polygon fill=\"#98f090\" points=\"397,-253.5 242,-253.5 242,-200.5 397,-200.5 397,-253.5\" stroke=\"#000000\"/>\n<text fill=\"#000000\" font-family=\"Helvetica,sans-Serif\" font-size=\"14.00\" text-anchor=\"middle\" x=\"319.5\" y=\"-238.3\">entropy = 0.982</text>\n<text fill=\"#000000\" font-family=\"Helvetica,sans-Serif\" font-size=\"14.00\" text-anchor=\"middle\" x=\"319.5\" y=\"-223.3\">samples = 261</text>\n<text fill=\"#000000\" font-family=\"Helvetica,sans-Serif\" font-size=\"14.00\" text-anchor=\"middle\" x=\"319.5\" y=\"-208.3\">value = [4, 180, 77, 0]</text>\n</g>\n<!-- 4&#45;&gt;8 -->\n<g class=\"edge\" id=\"edge7\">\n<title>4-&gt;8</title>\n<path d=\"M319.5,-296.9465C319.5,-286.2621 319.5,-274.4254 319.5,-263.5742\" fill=\"none\" stroke=\"#000000\"/>\n<polygon fill=\"#000000\" points=\"323.0001,-263.5421 319.5,-253.5422 316.0001,-263.5422 323.0001,-263.5421\" stroke=\"#000000\"/>\n</g>\n<!-- 9 -->\n<g class=\"node\" id=\"node6\">\n<title>9</title>\n<polygon fill=\"#eca16b\" points=\"147,-149.5 0,-149.5 0,-96.5 147,-96.5 147,-149.5\" stroke=\"#000000\"/>\n<text fill=\"#000000\" font-family=\"Helvetica,sans-Serif\" font-size=\"14.00\" text-anchor=\"middle\" x=\"73.5\" y=\"-134.3\">entropy = 0.728</text>\n<text fill=\"#000000\" font-family=\"Helvetica,sans-Serif\" font-size=\"14.00\" text-anchor=\"middle\" x=\"73.5\" y=\"-119.3\">samples = 69</text>\n<text fill=\"#000000\" font-family=\"Helvetica,sans-Serif\" font-size=\"14.00\" text-anchor=\"middle\" x=\"73.5\" y=\"-104.3\">value = [55, 14, 0, 0]</text>\n</g>\n<!-- 7&#45;&gt;9 -->\n<g class=\"edge\" id=\"edge5\">\n<title>7-&gt;9</title>\n<path d=\"M122.5971,-192.9465C114.7108,-181.7113 105.9303,-169.2021 98.0002,-157.9043\" fill=\"none\" stroke=\"#000000\"/>\n<polygon fill=\"#000000\" points=\"100.7405,-155.7163 92.1306,-149.5422 95.0111,-159.7379 100.7405,-155.7163\" stroke=\"#000000\"/>\n</g>\n<!-- 10 -->\n<g class=\"node\" id=\"node7\">\n<title>10</title>\n<polygon fill=\"#5ee852\" points=\"320,-149.5 165,-149.5 165,-96.5 320,-96.5 320,-149.5\" stroke=\"#000000\"/>\n<text fill=\"#000000\" font-family=\"Helvetica,sans-Serif\" font-size=\"14.00\" text-anchor=\"middle\" x=\"242.5\" y=\"-134.3\">entropy = 0.629</text>\n<text fill=\"#000000\" font-family=\"Helvetica,sans-Serif\" font-size=\"14.00\" text-anchor=\"middle\" x=\"242.5\" y=\"-119.3\">samples = 128</text>\n<text fill=\"#000000\" font-family=\"Helvetica,sans-Serif\" font-size=\"14.00\" text-anchor=\"middle\" x=\"242.5\" y=\"-104.3\">value = [10, 113, 5, 0]</text>\n</g>\n<!-- 7&#45;&gt;10 -->\n<g class=\"edge\" id=\"edge6\">\n<title>7-&gt;10</title>\n<path d=\"M177.934,-192.9465C188.61,-181.3809 200.5322,-168.4652 211.1978,-156.9107\" fill=\"none\" stroke=\"#000000\"/>\n<polygon fill=\"#000000\" points=\"213.7885,-159.2642 217.9995,-149.5422 208.6449,-154.5162 213.7885,-159.2642\" stroke=\"#000000\"/>\n</g>\n<!-- 5 -->\n<g class=\"node\" id=\"node10\">\n<title>5</title>\n<polygon fill=\"#7ebfee\" points=\"673.5,-365 509.5,-365 509.5,-297 673.5,-297 673.5,-365\" stroke=\"#000000\"/>\n<text fill=\"#000000\" font-family=\"Helvetica,sans-Serif\" font-size=\"14.00\" text-anchor=\"middle\" x=\"591.5\" y=\"-349.8\">px_width &lt;= 0.117</text>\n<text fill=\"#000000\" font-family=\"Helvetica,sans-Serif\" font-size=\"14.00\" text-anchor=\"middle\" x=\"591.5\" y=\"-334.8\">entropy = 1.162</text>\n<text fill=\"#000000\" font-family=\"Helvetica,sans-Serif\" font-size=\"14.00\" text-anchor=\"middle\" x=\"591.5\" y=\"-319.8\">samples = 359</text>\n<text fill=\"#000000\" font-family=\"Helvetica,sans-Serif\" font-size=\"14.00\" text-anchor=\"middle\" x=\"591.5\" y=\"-304.8\">value = [0, 47, 254, 58]</text>\n</g>\n<!-- 2&#45;&gt;5 -->\n<g class=\"edge\" id=\"edge9\">\n<title>2-&gt;5</title>\n<path d=\"M591.5,-400.9465C591.5,-392.776 591.5,-383.9318 591.5,-375.3697\" fill=\"none\" stroke=\"#000000\"/>\n<polygon fill=\"#000000\" points=\"595.0001,-375.13 591.5,-365.13 588.0001,-375.13 595.0001,-375.13\" stroke=\"#000000\"/>\n</g>\n<!-- 6 -->\n<g class=\"node\" id=\"node17\">\n<title>6</title>\n<polygon fill=\"#df60ea\" points=\"943.5,-365 773.5,-365 773.5,-297 943.5,-297 943.5,-365\" stroke=\"#000000\"/>\n<text fill=\"#000000\" font-family=\"Helvetica,sans-Serif\" font-size=\"14.00\" text-anchor=\"middle\" x=\"858.5\" y=\"-349.8\">battery_power &lt;= 0.063</text>\n<text fill=\"#000000\" font-family=\"Helvetica,sans-Serif\" font-size=\"14.00\" text-anchor=\"middle\" x=\"858.5\" y=\"-334.8\">entropy = 0.647</text>\n<text fill=\"#000000\" font-family=\"Helvetica,sans-Serif\" font-size=\"14.00\" text-anchor=\"middle\" x=\"858.5\" y=\"-319.8\">samples = 393</text>\n<text fill=\"#000000\" font-family=\"Helvetica,sans-Serif\" font-size=\"14.00\" text-anchor=\"middle\" x=\"858.5\" y=\"-304.8\">value = [0, 0, 65, 328]</text>\n</g>\n<!-- 2&#45;&gt;6 -->\n<g class=\"edge\" id=\"edge16\">\n<title>2-&gt;6</title>\n<path d=\"M677.8185,-401.3778C705.3324,-390.6608 735.9148,-378.7485 763.9784,-367.8174\" fill=\"none\" stroke=\"#000000\"/>\n<polygon fill=\"#000000\" points=\"765.3432,-371.042 773.3909,-364.1511 762.8025,-364.5194 765.3432,-371.042\" stroke=\"#000000\"/>\n</g>\n<!-- 11 -->\n<g class=\"node\" id=\"node11\">\n<title>11</title>\n<polygon fill=\"#7dbfee\" points=\"589.5,-261 415.5,-261 415.5,-193 589.5,-193 589.5,-261\" stroke=\"#000000\"/>\n<text fill=\"#000000\" font-family=\"Helvetica,sans-Serif\" font-size=\"14.00\" text-anchor=\"middle\" x=\"502.5\" y=\"-245.8\">battery_power &lt;= -0.492</text>\n<text fill=\"#000000\" font-family=\"Helvetica,sans-Serif\" font-size=\"14.00\" text-anchor=\"middle\" x=\"502.5\" y=\"-230.8\">entropy = 0.971</text>\n<text fill=\"#000000\" font-family=\"Helvetica,sans-Serif\" font-size=\"14.00\" text-anchor=\"middle\" x=\"502.5\" y=\"-215.8\">samples = 193</text>\n<text fill=\"#000000\" font-family=\"Helvetica,sans-Serif\" font-size=\"14.00\" text-anchor=\"middle\" x=\"502.5\" y=\"-200.8\">value = [0, 45, 142, 6]</text>\n</g>\n<!-- 5&#45;&gt;11 -->\n<g class=\"edge\" id=\"edge10\">\n<title>5-&gt;11</title>\n<path d=\"M562.3581,-296.9465C554.6745,-287.968 546.2947,-278.1758 538.3041,-268.8385\" fill=\"none\" stroke=\"#000000\"/>\n<polygon fill=\"#000000\" points=\"540.8685,-266.4521 531.7074,-261.13 535.5501,-271.0034 540.8685,-266.4521\" stroke=\"#000000\"/>\n</g>\n<!-- 12 -->\n<g class=\"node\" id=\"node16\">\n<title>12</title>\n<polygon fill=\"#97cbf1\" points=\"763,-253.5 608,-253.5 608,-200.5 763,-200.5 763,-253.5\" stroke=\"#000000\"/>\n<text fill=\"#000000\" font-family=\"Helvetica,sans-Serif\" font-size=\"14.00\" text-anchor=\"middle\" x=\"685.5\" y=\"-238.3\">entropy = 0.984</text>\n<text fill=\"#000000\" font-family=\"Helvetica,sans-Serif\" font-size=\"14.00\" text-anchor=\"middle\" x=\"685.5\" y=\"-223.3\">samples = 166</text>\n<text fill=\"#000000\" font-family=\"Helvetica,sans-Serif\" font-size=\"14.00\" text-anchor=\"middle\" x=\"685.5\" y=\"-208.3\">value = [0, 2, 112, 52]</text>\n</g>\n<!-- 5&#45;&gt;12 -->\n<g class=\"edge\" id=\"edge15\">\n<title>5-&gt;12</title>\n<path d=\"M622.2791,-296.9465C632.6331,-285.491 644.1842,-272.711 654.5513,-261.2412\" fill=\"none\" stroke=\"#000000\"/>\n<polygon fill=\"#000000\" points=\"657.4011,-263.3078 661.51,-253.5422 652.208,-258.614 657.4011,-263.3078\" stroke=\"#000000\"/>\n</g>\n<!-- 15 -->\n<g class=\"node\" id=\"node12\">\n<title>15</title>\n<polygon fill=\"#f6fef5\" points=\"530,-157 383,-157 383,-89 530,-89 530,-157\" stroke=\"#000000\"/>\n<text fill=\"#000000\" font-family=\"Helvetica,sans-Serif\" font-size=\"14.00\" text-anchor=\"middle\" x=\"456.5\" y=\"-141.8\">ram &lt;= 0.543</text>\n<text fill=\"#000000\" font-family=\"Helvetica,sans-Serif\" font-size=\"14.00\" text-anchor=\"middle\" x=\"456.5\" y=\"-126.8\">entropy = 1.0</text>\n<text fill=\"#000000\" font-family=\"Helvetica,sans-Serif\" font-size=\"14.00\" text-anchor=\"middle\" x=\"456.5\" y=\"-111.8\">samples = 76</text>\n<text fill=\"#000000\" font-family=\"Helvetica,sans-Serif\" font-size=\"14.00\" text-anchor=\"middle\" x=\"456.5\" y=\"-96.8\">value = [0, 39, 37, 0]</text>\n</g>\n<!-- 11&#45;&gt;15 -->\n<g class=\"edge\" id=\"edge11\">\n<title>11-&gt;15</title>\n<path d=\"M487.4379,-192.9465C483.7049,-184.5067 479.6539,-175.3479 475.7509,-166.5239\" fill=\"none\" stroke=\"#000000\"/>\n<polygon fill=\"#000000\" points=\"478.842,-164.8596 471.596,-157.13 472.4402,-167.6911 478.842,-164.8596\" stroke=\"#000000\"/>\n</g>\n<!-- 16 -->\n<g class=\"node\" id=\"node15\">\n<title>16</title>\n<polygon fill=\"#4ea8e8\" points=\"695,-149.5 548,-149.5 548,-96.5 695,-96.5 695,-149.5\" stroke=\"#000000\"/>\n<text fill=\"#000000\" font-family=\"Helvetica,sans-Serif\" font-size=\"14.00\" text-anchor=\"middle\" x=\"621.5\" y=\"-134.3\">entropy = 0.58</text>\n<text fill=\"#000000\" font-family=\"Helvetica,sans-Serif\" font-size=\"14.00\" text-anchor=\"middle\" x=\"621.5\" y=\"-119.3\">samples = 117</text>\n<text fill=\"#000000\" font-family=\"Helvetica,sans-Serif\" font-size=\"14.00\" text-anchor=\"middle\" x=\"621.5\" y=\"-104.3\">value = [0, 6, 105, 6]</text>\n</g>\n<!-- 11&#45;&gt;16 -->\n<g class=\"edge\" id=\"edge14\">\n<title>11-&gt;16</title>\n<path d=\"M541.4651,-192.9465C554.9509,-181.1606 570.0409,-167.9726 583.4521,-156.2519\" fill=\"none\" stroke=\"#000000\"/>\n<polygon fill=\"#000000\" points=\"585.9031,-158.7582 591.1296,-149.5422 581.2967,-153.4874 585.9031,-158.7582\" stroke=\"#000000\"/>\n</g>\n<!-- 17 -->\n<g class=\"node\" id=\"node13\">\n<title>17</title>\n<polygon fill=\"#65e959\" points=\"448,-53 309,-53 309,0 448,0 448,-53\" stroke=\"#000000\"/>\n<text fill=\"#000000\" font-family=\"Helvetica,sans-Serif\" font-size=\"14.00\" text-anchor=\"middle\" x=\"378.5\" y=\"-37.8\">entropy = 0.583</text>\n<text fill=\"#000000\" font-family=\"Helvetica,sans-Serif\" font-size=\"14.00\" text-anchor=\"middle\" x=\"378.5\" y=\"-22.8\">samples = 43</text>\n<text fill=\"#000000\" font-family=\"Helvetica,sans-Serif\" font-size=\"14.00\" text-anchor=\"middle\" x=\"378.5\" y=\"-7.8\">value = [0, 37, 6, 0]</text>\n</g>\n<!-- 15&#45;&gt;17 -->\n<g class=\"edge\" id=\"edge12\">\n<title>15-&gt;17</title>\n<path d=\"M429.0001,-88.9777C421.7467,-80.0039 413.9103,-70.3089 406.6244,-61.295\" fill=\"none\" stroke=\"#000000\"/>\n<polygon fill=\"#000000\" points=\"409.1288,-58.8255 400.1205,-53.2485 403.6847,-63.2258 409.1288,-58.8255\" stroke=\"#000000\"/>\n</g>\n<!-- 18 -->\n<g class=\"node\" id=\"node14\">\n<title>18</title>\n<polygon fill=\"#46a3e7\" points=\"605,-53 466,-53 466,0 605,0 605,-53\" stroke=\"#000000\"/>\n<text fill=\"#000000\" font-family=\"Helvetica,sans-Serif\" font-size=\"14.00\" text-anchor=\"middle\" x=\"535.5\" y=\"-37.8\">entropy = 0.33</text>\n<text fill=\"#000000\" font-family=\"Helvetica,sans-Serif\" font-size=\"14.00\" text-anchor=\"middle\" x=\"535.5\" y=\"-22.8\">samples = 33</text>\n<text fill=\"#000000\" font-family=\"Helvetica,sans-Serif\" font-size=\"14.00\" text-anchor=\"middle\" x=\"535.5\" y=\"-7.8\">value = [0, 2, 31, 0]</text>\n</g>\n<!-- 15&#45;&gt;18 -->\n<g class=\"edge\" id=\"edge13\">\n<title>15-&gt;18</title>\n<path d=\"M484.3524,-88.9777C491.7739,-79.9123 499.7977,-70.111 507.2407,-61.0192\" fill=\"none\" stroke=\"#000000\"/>\n<polygon fill=\"#000000\" points=\"509.9759,-63.2034 513.6023,-53.2485 504.5595,-58.7692 509.9759,-63.2034\" stroke=\"#000000\"/>\n</g>\n<!-- 13 -->\n<g class=\"node\" id=\"node18\">\n<title>13</title>\n<polygon fill=\"#ea98f1\" points=\"936,-253.5 781,-253.5 781,-200.5 936,-200.5 936,-253.5\" stroke=\"#000000\"/>\n<text fill=\"#000000\" font-family=\"Helvetica,sans-Serif\" font-size=\"14.00\" text-anchor=\"middle\" x=\"858.5\" y=\"-238.3\">entropy = 0.909</text>\n<text fill=\"#000000\" font-family=\"Helvetica,sans-Serif\" font-size=\"14.00\" text-anchor=\"middle\" x=\"858.5\" y=\"-223.3\">samples = 191</text>\n<text fill=\"#000000\" font-family=\"Helvetica,sans-Serif\" font-size=\"14.00\" text-anchor=\"middle\" x=\"858.5\" y=\"-208.3\">value = [0, 0, 62, 129]</text>\n</g>\n<!-- 6&#45;&gt;13 -->\n<g class=\"edge\" id=\"edge17\">\n<title>6-&gt;13</title>\n<path d=\"M858.5,-296.9465C858.5,-286.2621 858.5,-274.4254 858.5,-263.5742\" fill=\"none\" stroke=\"#000000\"/>\n<polygon fill=\"#000000\" points=\"862.0001,-263.5421 858.5,-253.5422 855.0001,-263.5422 862.0001,-263.5421\" stroke=\"#000000\"/>\n</g>\n<!-- 14 -->\n<g class=\"node\" id=\"node19\">\n<title>14</title>\n<polygon fill=\"#d83ce5\" points=\"1101,-253.5 954,-253.5 954,-200.5 1101,-200.5 1101,-253.5\" stroke=\"#000000\"/>\n<text fill=\"#000000\" font-family=\"Helvetica,sans-Serif\" font-size=\"14.00\" text-anchor=\"middle\" x=\"1027.5\" y=\"-238.3\">entropy = 0.111</text>\n<text fill=\"#000000\" font-family=\"Helvetica,sans-Serif\" font-size=\"14.00\" text-anchor=\"middle\" x=\"1027.5\" y=\"-223.3\">samples = 202</text>\n<text fill=\"#000000\" font-family=\"Helvetica,sans-Serif\" font-size=\"14.00\" text-anchor=\"middle\" x=\"1027.5\" y=\"-208.3\">value = [0, 0, 3, 199]</text>\n</g>\n<!-- 6&#45;&gt;14 -->\n<g class=\"edge\" id=\"edge18\">\n<title>6-&gt;14</title>\n<path d=\"M913.8369,-296.9465C933.7051,-284.72 956.0249,-270.9847 975.5914,-258.9437\" fill=\"none\" stroke=\"#000000\"/>\n<polygon fill=\"#000000\" points=\"977.6867,-261.764 984.369,-253.5422 974.018,-255.8024 977.6867,-261.764\" stroke=\"#000000\"/>\n</g>\n</g>\n</svg>"
          },
          "metadata": {}
        }
      ],
      "source": [
        "graph = Source(tree.export_graphviz(Decision_classifier, out_file=None\n",
        "   , feature_names=X_train.columns,filled= True))\n",
        "display(SVG(graph.pipe(format='svg')))"
      ]
    },
    {
      "cell_type": "markdown",
      "metadata": {
        "id": "3-5RV16QfNni"
      },
      "source": [
        "### Evaluation metrics for Decision Tree"
      ]
    },
    {
      "cell_type": "code",
      "execution_count": 276,
      "metadata": {
        "colab": {
          "base_uri": "https://localhost:8080/"
        },
        "id": "pcoL68J5e9BI",
        "outputId": "8b4c6c08-0e90-409c-e922-0efa7468b1f0"
      },
      "outputs": [
        {
          "output_type": "execute_result",
          "data": {
            "text/plain": [
              "95.5"
            ]
          },
          "metadata": {},
          "execution_count": 276
        }
      ],
      "source": [
        "accuracy_score(y_test, test_class_preds_DT) * 100"
      ]
    },
    {
      "cell_type": "code",
      "execution_count": 277,
      "metadata": {
        "colab": {
          "base_uri": "https://localhost:8080/"
        },
        "id": "vR6qzHDDfTcY",
        "outputId": "ba7a6a02-9ef2-4e06-8490-f41ce4425261"
      },
      "outputs": [
        {
          "output_type": "stream",
          "name": "stdout",
          "text": [
            "The accuracy on train data is : 0.978125\n",
            "The accuracy on test data is : 0.955\n",
            "----------------------------------------\n",
            "----------------------------------------\n",
            "The confusion matrix on the train data is :\n",
            "[[403   7   0   0]\n",
            " [  2 395  10   0]\n",
            " [  0   6 384   3]\n",
            " [  0   0   7 383]]\n",
            "\n",
            "The confusion matrix on the train data is :\n",
            "[[ 93   2   0   0]\n",
            " [  2  88   5   0]\n",
            " [  0   2  90   3]\n",
            " [  0   0   4 111]]\n",
            "----------------------------------------\n",
            "----------------------------------------\n",
            "The classification report on the train data is :\n",
            "              precision    recall  f1-score   support\n",
            "\n",
            "           0       1.00      0.98      0.99       410\n",
            "           1       0.97      0.97      0.97       407\n",
            "           2       0.96      0.98      0.97       393\n",
            "           3       0.99      0.98      0.99       390\n",
            "\n",
            "    accuracy                           0.98      1600\n",
            "   macro avg       0.98      0.98      0.98      1600\n",
            "weighted avg       0.98      0.98      0.98      1600\n",
            "\n",
            "\n",
            "The classification report on the test data is :\n",
            "              precision    recall  f1-score   support\n",
            "\n",
            "           0       0.98      0.98      0.98        95\n",
            "           1       0.96      0.93      0.94        95\n",
            "           2       0.91      0.95      0.93        95\n",
            "           3       0.97      0.97      0.97       115\n",
            "\n",
            "    accuracy                           0.95       400\n",
            "   macro avg       0.95      0.95      0.95       400\n",
            "weighted avg       0.96      0.95      0.96       400\n",
            "\n",
            "----------------------------------------\n",
            "----------------------------------------\n",
            "The ROC AUC score on the train data is:  0.9439962037061125\n",
            "The ROC AUC score on the test data is:  0.915255038868303\n"
          ]
        }
      ],
      "source": [
        "from sklearn.metrics import accuracy_score, confusion_matrix,roc_auc_score, classification_report\n",
        "\n",
        "# Get the accuracy scores\n",
        "\n",
        "train_accuracy = accuracy_score(train_class_preds_DT,y_train)\n",
        "test_accuracy = accuracy_score(test_class_preds_DT,y_test)\n",
        "\n",
        "print(\"The accuracy on train data is :\", train_accuracy)\n",
        "print(\"The accuracy on test data is :\", test_accuracy)\n",
        "print('--'*20)\n",
        "print('--'*20)\n",
        "\n",
        "cm_train = confusion_matrix(train_class_preds_DT, y_train)\n",
        "cm_test = confusion_matrix(test_class_preds_DT, y_test)\n",
        "\n",
        "print(\"The confusion matrix on the train data is :\")\n",
        "print(cm_train)\n",
        "print('')\n",
        "print(\"The confusion matrix on the train data is :\")\n",
        "print(cm_test)\n",
        "print('--'*20)\n",
        "print('--'*20)\n",
        "\n",
        "train_report = classification_report(train_class_preds_DT, y_train)\n",
        "test_report = classification_report(test_class_preds_DT, y_test)\n",
        "print(\"The classification report on the train data is :\")\n",
        "print(train_report)\n",
        "print('')\n",
        "print(\"The classification report on the test data is :\")\n",
        "print(test_report)\n",
        "print('--'*20)\n",
        "print('--'*20)\n",
        "\n",
        "train_roc_auc_score = roc_auc_score(y_train, Decision_classifier.predict_proba(X_train), multi_class='ovr')\n",
        "test_roc_auc_score = roc_auc_score(y_test, Decision_classifier.predict_proba(X_test), multi_class='ovr')\n",
        "print(\"The ROC AUC score on the train data is: \", train_roc_auc_score)\n",
        "print(\"The ROC AUC score on the test data is: \", test_roc_auc_score)"
      ]
    },
    {
      "cell_type": "markdown",
      "metadata": {
        "id": "4mrUTywhjiVJ"
      },
      "source": [
        "## Since we are seeing the same results from Decision Tree as that of the Logistic Regression. We don't see the need for confusion matrix visulaization"
      ]
    },
    {
      "cell_type": "markdown",
      "metadata": {
        "id": "Y3MMMft2mWVD"
      },
      "source": [
        "# **Cross validation and Hyperparameter tunning**\n"
      ]
    },
    {
      "cell_type": "code",
      "execution_count": 278,
      "metadata": {
        "id": "yJ1gAsU1miYT"
      },
      "outputs": [],
      "source": [
        "#defining parameter for model\n",
        "parameters={\"max_depth\" : [1,2,3,5,7,9,11,12,15,20,25,50,100],\n",
        "           \"min_samples_leaf\":[1,2,3,4,5,10,15,20,40,60,80,100],\n",
        "           \"max_leaf_nodes\":[None,10,20,30,40,50,70,100,140,150]}"
      ]
    },
    {
      "cell_type": "code",
      "execution_count": 279,
      "metadata": {
        "colab": {
          "base_uri": "https://localhost:8080/"
        },
        "id": "9ue1aUaRmibN",
        "outputId": "3e0cd97a-f9ae-4bd2-cfb3-f03f6651ffbe"
      },
      "outputs": [
        {
          "output_type": "execute_result",
          "data": {
            "text/plain": [
              "GridSearchCV(cv=3, estimator=DecisionTreeClassifier(),\n",
              "             param_grid={'max_depth': [1, 2, 3, 5, 7, 9, 11, 12, 15, 20, 25, 50,\n",
              "                                       100],\n",
              "                         'max_leaf_nodes': [None, 10, 20, 30, 40, 50, 70, 100,\n",
              "                                            140, 150],\n",
              "                         'min_samples_leaf': [1, 2, 3, 4, 5, 10, 15, 20, 40, 60,\n",
              "                                              80, 100]},\n",
              "             scoring='neg_mean_squared_error')"
            ]
          },
          "metadata": {},
          "execution_count": 279
        }
      ],
      "source": [
        "#building decision tree regression model with cross validation and hyper parameter tunning\n",
        "from sklearn.model_selection import GridSearchCV\n",
        "\n",
        "class_decision_model = DecisionTreeClassifier()\n",
        "tuning_Decision_classifier = GridSearchCV(class_decision_model,param_grid=parameters,scoring='neg_mean_squared_error',cv=3)\n",
        "tuning_Decision_classifier.fit(X_train, y_train)"
      ]
    },
    {
      "cell_type": "code",
      "execution_count": 280,
      "metadata": {
        "colab": {
          "base_uri": "https://localhost:8080/"
        },
        "id": "KhzyAWY5midl",
        "outputId": "d8c14570-a3a0-477c-b617-ddc11ee602e4"
      },
      "outputs": [
        {
          "output_type": "execute_result",
          "data": {
            "text/plain": [
              "{'max_depth': 12, 'max_leaf_nodes': 50, 'min_samples_leaf': 5}"
            ]
          },
          "metadata": {},
          "execution_count": 280
        }
      ],
      "source": [
        "#gettting best hyperparameter\n",
        "\n",
        "tuning_Decision_classifier.best_params_"
      ]
    },
    {
      "cell_type": "code",
      "execution_count": 281,
      "metadata": {
        "id": "MIlans9smif5"
      },
      "outputs": [],
      "source": [
        "#prediction on train and test data\n",
        "\n",
        "tune_y_train_pred = tuning_Decision_classifier.predict(X_train)\n",
        "tune_y_test_pred = tuning_Decision_classifier.predict(X_test)"
      ]
    },
    {
      "cell_type": "markdown",
      "metadata": {
        "id": "TQ34e6Pzn6Wj"
      },
      "source": [
        "### Evalation metrics for Decision Tree using GridSearchCV"
      ]
    },
    {
      "cell_type": "code",
      "execution_count": 282,
      "metadata": {
        "colab": {
          "base_uri": "https://localhost:8080/"
        },
        "id": "mUsEJUpMmik0",
        "outputId": "59faad10-7fc2-41e5-faea-4ff5a42d9a5b"
      },
      "outputs": [
        {
          "output_type": "stream",
          "name": "stdout",
          "text": [
            "The accuracy on train data is : 0.93125\n",
            "The accuracy on test data is : 0.8525\n",
            "----------------------------------------\n",
            "----------------------------------------\n",
            "The confusion matrix on the train data is :\n",
            "[[386  18   0   0]\n",
            " [ 19 372  18   0]\n",
            " [  0  18 361  15]\n",
            " [  0   0  22 371]]\n",
            "\n",
            "The confusion matrix on the train data is :\n",
            "[[ 86   6   0   0]\n",
            " [  9  71   8   0]\n",
            " [  0  15  81  11]\n",
            " [  0   0  10 103]]\n",
            "----------------------------------------\n",
            "----------------------------------------\n",
            "The classification report on the train data is :\n",
            "              precision    recall  f1-score   support\n",
            "\n",
            "           0       0.95      0.96      0.95       404\n",
            "           1       0.91      0.91      0.91       409\n",
            "           2       0.90      0.92      0.91       394\n",
            "           3       0.96      0.94      0.95       393\n",
            "\n",
            "    accuracy                           0.93      1600\n",
            "   macro avg       0.93      0.93      0.93      1600\n",
            "weighted avg       0.93      0.93      0.93      1600\n",
            "\n",
            "\n",
            "The classification report on the test data is :\n",
            "              precision    recall  f1-score   support\n",
            "\n",
            "           0       0.91      0.93      0.92        92\n",
            "           1       0.77      0.81      0.79        88\n",
            "           2       0.82      0.76      0.79       107\n",
            "           3       0.90      0.91      0.91       113\n",
            "\n",
            "    accuracy                           0.85       400\n",
            "   macro avg       0.85      0.85      0.85       400\n",
            "weighted avg       0.85      0.85      0.85       400\n",
            "\n",
            "----------------------------------------\n",
            "----------------------------------------\n",
            "The ROC AUC score on the train data is:  0.9853059509329544\n",
            "The ROC AUC score on the test data is:  0.9583923322592267\n"
          ]
        }
      ],
      "source": [
        "from sklearn.metrics import accuracy_score, confusion_matrix,roc_auc_score, classification_report\n",
        "\n",
        "# Get the accuracy scores\n",
        "\n",
        "train_accuracy = accuracy_score(tune_y_train_pred,y_train)\n",
        "test_accuracy = accuracy_score(tune_y_test_pred,y_test)\n",
        "\n",
        "print(\"The accuracy on train data is :\", train_accuracy)\n",
        "print(\"The accuracy on test data is :\", test_accuracy)\n",
        "print('--'*20)\n",
        "print('--'*20)\n",
        "\n",
        "cm_train = confusion_matrix(tune_y_train_pred, y_train)\n",
        "cm_test = confusion_matrix(tune_y_test_pred, y_test)\n",
        "\n",
        "print(\"The confusion matrix on the train data is :\")\n",
        "print(cm_train)\n",
        "print('')\n",
        "print(\"The confusion matrix on the train data is :\")\n",
        "print(cm_test)\n",
        "print('--'*20)\n",
        "print('--'*20)\n",
        "\n",
        "train_report = classification_report(tune_y_train_pred, y_train)\n",
        "test_report = classification_report(tune_y_test_pred, y_test)\n",
        "print(\"The classification report on the train data is :\")\n",
        "print(train_report)\n",
        "print('')\n",
        "print(\"The classification report on the test data is :\")\n",
        "print(test_report)\n",
        "print('--'*20)\n",
        "print('--'*20)\n",
        "\n",
        "train_roc_auc_score = roc_auc_score(y_train, tuning_Decision_classifier.predict_proba(X_train), multi_class='ovr')\n",
        "test_roc_auc_score = roc_auc_score(y_test, tuning_Decision_classifier.predict_proba(X_test), multi_class='ovr')\n",
        "print(\"The ROC AUC score on the train data is: \", train_roc_auc_score)\n",
        "print(\"The ROC AUC score on the test data is: \", test_roc_auc_score)"
      ]
    },
    {
      "cell_type": "markdown",
      "metadata": {
        "id": "Zu0NE8g0o6uD"
      },
      "source": [
        "## Plotting the confusion matrix"
      ]
    },
    {
      "cell_type": "code",
      "execution_count": 283,
      "metadata": {
        "colab": {
          "base_uri": "https://localhost:8080/",
          "height": 458
        },
        "id": "AZd6xCDeoD_L",
        "outputId": "273c73d0-0e96-43b9-b35d-4552fea1b61e"
      },
      "outputs": [
        {
          "output_type": "display_data",
          "data": {
            "image/png": "[encoded data removed]",
            "text/plain": [
              "<Figure size 720x504 with 2 Axes>"
            ]
          },
          "metadata": {
            "needs_background": "light"
          }
        }
      ],
      "source": [
        "# Trian Matrix\n",
        "\n",
        "train_confusion_matrix(cm_train)"
      ]
    },
    {
      "cell_type": "code",
      "execution_count": 284,
      "metadata": {
        "colab": {
          "base_uri": "https://localhost:8080/",
          "height": 458
        },
        "id": "CBesqJARoEBz",
        "outputId": "d8d73607-2ea9-4331-f1b0-86f68844ccb2"
      },
      "outputs": [
        {
          "output_type": "display_data",
          "data": {
            "image/png": "[encoded data removed]",
            "text/plain": [
              "<Figure size 720x504 with 2 Axes>"
            ]
          },
          "metadata": {
            "needs_background": "light"
          }
        }
      ],
      "source": [
        "# Test Matrix\n",
        "\n",
        "test_confusion_matrix(cm_test)"
      ]
    },
    {
      "cell_type": "markdown",
      "metadata": {
        "id": "C2ha3tWrlsPL"
      },
      "source": [
        "#**Random Forest**"
      ]
    },
    {
      "cell_type": "markdown",
      "metadata": {
        "id": "w0zIDeiEsXRn"
      },
      "source": [
        "### Importing required libraries and implementing"
      ]
    },
    {
      "cell_type": "code",
      "execution_count": 285,
      "metadata": {
        "colab": {
          "base_uri": "https://localhost:8080/"
        },
        "id": "oOnYAmhXqbma",
        "outputId": "9480ea59-db24-43b6-8e5f-6e9cbe1ec6bf"
      },
      "outputs": [
        {
          "output_type": "execute_result",
          "data": {
            "text/plain": [
              "RandomForestClassifier(random_state=0)"
            ]
          },
          "metadata": {},
          "execution_count": 285
        }
      ],
      "source": [
        "#fitting data to model\n",
        "\n",
        "from sklearn.ensemble import RandomForestClassifier\n",
        "rfc = RandomForestClassifier(n_estimators = 100, random_state = 0)\n",
        "rfc.fit(X_train, y_train)"
      ]
    },
    {
      "cell_type": "code",
      "execution_count": 286,
      "metadata": {
        "id": "R41HNUP6lcxG"
      },
      "outputs": [],
      "source": [
        "#prediction on train and test data\n",
        "\n",
        "random_y_train_pred=rfc.predict(X_train)\n",
        "random_y_test_pred=rfc.predict(X_test)"
      ]
    },
    {
      "cell_type": "markdown",
      "metadata": {
        "id": "3EFBGwuczwf_"
      },
      "source": [
        "### **Evaluation metrics**"
      ]
    },
    {
      "cell_type": "code",
      "execution_count": 287,
      "metadata": {
        "colab": {
          "base_uri": "https://localhost:8080/"
        },
        "id": "2pYGuTvrzvM8",
        "outputId": "b4a87b4b-7174-457a-d903-ea9c111ecc45"
      },
      "outputs": [
        {
          "output_type": "stream",
          "name": "stdout",
          "text": [
            "The accuracy on train data is : 1.0\n",
            "The accuracy on test data is : 0.8875\n",
            "----------------------------------------\n",
            "----------------------------------------\n",
            "The confusion matrix on the train data is :\n",
            "[[405   0   0   0]\n",
            " [  0 408   0   0]\n",
            " [  0   0 401   0]\n",
            " [  0   0   0 386]]\n",
            "\n",
            "The confusion matrix on the train data is :\n",
            "[[ 94   5   0   0]\n",
            " [  1  77  13   0]\n",
            " [  0  10  79   9]\n",
            " [  0   0   7 105]]\n",
            "----------------------------------------\n",
            "----------------------------------------\n",
            "The classification report on the train data is :\n",
            "              precision    recall  f1-score   support\n",
            "\n",
            "           0       1.00      1.00      1.00       405\n",
            "           1       1.00      1.00      1.00       408\n",
            "           2       1.00      1.00      1.00       401\n",
            "           3       1.00      1.00      1.00       386\n",
            "\n",
            "    accuracy                           1.00      1600\n",
            "   macro avg       1.00      1.00      1.00      1600\n",
            "weighted avg       1.00      1.00      1.00      1600\n",
            "\n",
            "\n",
            "The classification report on the test data is :\n",
            "              precision    recall  f1-score   support\n",
            "\n",
            "           0       0.99      0.95      0.97        99\n",
            "           1       0.84      0.85      0.84        91\n",
            "           2       0.80      0.81      0.80        98\n",
            "           3       0.92      0.94      0.93       112\n",
            "\n",
            "    accuracy                           0.89       400\n",
            "   macro avg       0.89      0.88      0.89       400\n",
            "weighted avg       0.89      0.89      0.89       400\n",
            "\n",
            "----------------------------------------\n",
            "----------------------------------------\n",
            "The ROC AUC score on the train data is:  1.0\n",
            "The ROC AUC score on the test data is:  0.9810143031485314\n"
          ]
        }
      ],
      "source": [
        "from sklearn.metrics import accuracy_score, confusion_matrix,roc_auc_score, classification_report\n",
        "\n",
        "# Get the accuracy scores\n",
        "\n",
        "train_accuracy = accuracy_score(random_y_train_pred,y_train)\n",
        "test_accuracy = accuracy_score(random_y_test_pred,y_test)\n",
        "\n",
        "print(\"The accuracy on train data is :\", train_accuracy)\n",
        "print(\"The accuracy on test data is :\", test_accuracy)\n",
        "print('--'*20)\n",
        "print('--'*20)\n",
        "\n",
        "cm_train = confusion_matrix(random_y_train_pred, y_train)\n",
        "cm_test = confusion_matrix(random_y_test_pred, y_test)\n",
        "\n",
        "print(\"The confusion matrix on the train data is :\")\n",
        "print(cm_train)\n",
        "print('')\n",
        "print(\"The confusion matrix on the train data is :\")\n",
        "print(cm_test)\n",
        "print('--'*20)\n",
        "print('--'*20)\n",
        "\n",
        "train_report = classification_report(random_y_train_pred, y_train)\n",
        "test_report = classification_report(random_y_test_pred, y_test)\n",
        "print(\"The classification report on the train data is :\")\n",
        "print(train_report)\n",
        "print('')\n",
        "print(\"The classification report on the test data is :\")\n",
        "print(test_report)\n",
        "print('--'*20)\n",
        "print('--'*20)\n",
        "\n",
        "train_roc_auc_score = roc_auc_score(y_train, rfc.predict_proba(X_train), multi_class='ovr')\n",
        "test_roc_auc_score = roc_auc_score(y_test, rfc.predict_proba(X_test), multi_class='ovr')\n",
        "print(\"The ROC AUC score on the train data is: \", train_roc_auc_score)\n",
        "print(\"The ROC AUC score on the test data is: \", test_roc_auc_score)"
      ]
    },
    {
      "cell_type": "markdown",
      "metadata": {
        "id": "1oZwhoqYI7Lz"
      },
      "source": [
        "## Moving on to the next model as we can we see our training data is getting overfitted "
      ]
    },
    {
      "cell_type": "markdown",
      "metadata": {
        "id": "cCN7c0Nt-TE6"
      },
      "source": [
        "# **XGBoost Model**"
      ]
    },
    {
      "cell_type": "code",
      "execution_count": 288,
      "metadata": {
        "id": "n3q-LHvA9eXV"
      },
      "outputs": [],
      "source": [
        "# Importing required libraries\n",
        "\n",
        "from xgboost import XGBClassifier\n",
        "from sklearn.metrics import accuracy_score\n",
        "import xgboost as xgb\n",
        "from sklearn.model_selection import GridSearchCV"
      ]
    },
    {
      "cell_type": "code",
      "execution_count": 289,
      "metadata": {
        "colab": {
          "base_uri": "https://localhost:8080/"
        },
        "id": "b8bKBkFXLZ48",
        "outputId": "dc56255e-7e8b-47fb-aa65-3abed2e9457d"
      },
      "outputs": [
        {
          "output_type": "execute_result",
          "data": {
            "text/plain": [
              "{'max_depth': [6, 8, 10],\n",
              " 'min_child_weight': [8, 10, 12],\n",
              " 'n_estimators': [200, 250]}"
            ]
          },
          "metadata": {},
          "execution_count": 289
        }
      ],
      "source": [
        "# Number of trees\n",
        "n_estimators = [200,250]\n",
        "\n",
        "# Maximum depth of trees\n",
        "max_depth = [6,8,10]\n",
        "\n",
        "# Child weight\n",
        "min_child_weight= [8,10,12]\n",
        "\n",
        "# HYperparameter Grid\n",
        "param_dict = {'n_estimators' : n_estimators,\n",
        "              'max_depth' : max_depth,'min_child_weight': min_child_weight }\n",
        "\n",
        "param_dict"
      ]
    },
    {
      "cell_type": "code",
      "execution_count": 290,
      "metadata": {
        "colab": {
          "base_uri": "https://localhost:8080/"
        },
        "id": "tgmnwfDANFTE",
        "outputId": "9eac3a29-6e66-4dc5-ee12-11d0d4665e08"
      },
      "outputs": [
        {
          "output_type": "stream",
          "name": "stdout",
          "text": [
            "Fitting 3 folds for each of 18 candidates, totalling 54 fits\n"
          ]
        },
        {
          "output_type": "execute_result",
          "data": {
            "text/plain": [
              "GridSearchCV(cv=3, estimator=XGBClassifier(), n_jobs=-1,\n",
              "             param_grid={'max_depth': [6, 8, 10],\n",
              "                         'min_child_weight': [8, 10, 12],\n",
              "                         'n_estimators': [200, 250]},\n",
              "             scoring='r2', verbose=2)"
            ]
          },
          "metadata": {},
          "execution_count": 290
        }
      ],
      "source": [
        "XGB = xgb.XGBClassifier()\n",
        "\n",
        "# Grid search\n",
        "XGB_grid = GridSearchCV(estimator = XGB,\n",
        "                       param_grid = param_dict,\n",
        "                       cv = 3, verbose=2, n_jobs=-1, scoring = 'r2' )\n",
        "XGB_grid.fit(X_train, y_train)"
      ]
    },
    {
      "cell_type": "code",
      "execution_count": 291,
      "metadata": {
        "colab": {
          "base_uri": "https://localhost:8080/"
        },
        "id": "baM9YdyQOa2c",
        "outputId": "86f11b34-f9ce-4bb5-fcd7-50760125bd7b"
      },
      "outputs": [
        {
          "output_type": "execute_result",
          "data": {
            "text/plain": [
              "0.9187570246387958"
            ]
          },
          "metadata": {},
          "execution_count": 291
        }
      ],
      "source": [
        "XGB_grid.best_score_"
      ]
    },
    {
      "cell_type": "code",
      "execution_count": 292,
      "metadata": {
        "colab": {
          "base_uri": "https://localhost:8080/"
        },
        "id": "6ILlgHj0Of47",
        "outputId": "197f7fa4-e917-44a2-ec1b-da5eaf8f0547"
      },
      "outputs": [
        {
          "output_type": "execute_result",
          "data": {
            "text/plain": [
              "{'max_depth': 6, 'min_child_weight': 10, 'n_estimators': 250}"
            ]
          },
          "metadata": {},
          "execution_count": 292
        }
      ],
      "source": [
        "XGB_grid.best_params_"
      ]
    },
    {
      "cell_type": "code",
      "execution_count": 293,
      "metadata": {
        "colab": {
          "base_uri": "https://localhost:8080/"
        },
        "id": "5HSUQkdxOhO8",
        "outputId": "692ed319-270f-491b-ebdc-714dc9ea94ab"
      },
      "outputs": [
        {
          "output_type": "execute_result",
          "data": {
            "text/plain": [
              "XGBClassifier(max_depth=6, min_child_weight=10, n_estimators=250,\n",
              "              objective='multi:softprob')"
            ]
          },
          "metadata": {},
          "execution_count": 293
        }
      ],
      "source": [
        "XGB_optimal_model = XGB_grid.best_estimator_\n",
        "XGB_optimal_model"
      ]
    },
    {
      "cell_type": "code",
      "execution_count": 294,
      "metadata": {
        "id": "Q-86sQV5OkeM"
      },
      "outputs": [],
      "source": [
        "XGB_y_pred_train = XGB_optimal_model.predict(X_train)   # Prediction for train dataset\n",
        "XGB_y_pred_test = XGB_optimal_model.predict(X_test)     # Predictionfor test dataset"
      ]
    },
    {
      "cell_type": "markdown",
      "metadata": {
        "id": "r1GjvMwLPL9y"
      },
      "source": [
        "### **Evaluating metrices**"
      ]
    },
    {
      "cell_type": "code",
      "execution_count": 295,
      "metadata": {
        "colab": {
          "base_uri": "https://localhost:8080/"
        },
        "id": "h59UgtC2OoLs",
        "outputId": "9715638b-82d6-4bca-e29d-e80e1056ff21"
      },
      "outputs": [
        {
          "output_type": "stream",
          "name": "stdout",
          "text": [
            "The accuracy on train data is : 1.0\n",
            "The accuracy on test data is : 0.9175\n",
            "----------------------------------------\n",
            "----------------------------------------\n",
            "The confusion matrix on the train data is :\n",
            "[[405   0   0   0]\n",
            " [  0 408   0   0]\n",
            " [  0   0 401   0]\n",
            " [  0   0   0 386]]\n",
            "\n",
            "The confusion matrix on the train data is :\n",
            "[[ 94   5   0   0]\n",
            " [  1  79   6   0]\n",
            " [  0   8  87   7]\n",
            " [  0   0   6 107]]\n",
            "----------------------------------------\n",
            "----------------------------------------\n",
            "The classification report on the train data is :\n",
            "              precision    recall  f1-score   support\n",
            "\n",
            "           0       1.00      1.00      1.00       405\n",
            "           1       1.00      1.00      1.00       408\n",
            "           2       1.00      1.00      1.00       401\n",
            "           3       1.00      1.00      1.00       386\n",
            "\n",
            "    accuracy                           1.00      1600\n",
            "   macro avg       1.00      1.00      1.00      1600\n",
            "weighted avg       1.00      1.00      1.00      1600\n",
            "\n",
            "\n",
            "The classification report on the test data is :\n",
            "              precision    recall  f1-score   support\n",
            "\n",
            "           0       0.99      0.95      0.97        99\n",
            "           1       0.86      0.92      0.89        86\n",
            "           2       0.88      0.85      0.87       102\n",
            "           3       0.94      0.95      0.94       113\n",
            "\n",
            "    accuracy                           0.92       400\n",
            "   macro avg       0.92      0.92      0.92       400\n",
            "weighted avg       0.92      0.92      0.92       400\n",
            "\n",
            "----------------------------------------\n",
            "----------------------------------------\n",
            "The ROC AUC score on the train data is:  1.0\n",
            "The ROC AUC score on the test data is:  0.9913799342893914\n"
          ]
        }
      ],
      "source": [
        "# Get the accuracy scores\n",
        "\n",
        "train_accuracy = accuracy_score(XGB_y_pred_train,y_train)\n",
        "test_accuracy = accuracy_score(XGB_y_pred_test,y_test)\n",
        "\n",
        "print(\"The accuracy on train data is :\", train_accuracy)\n",
        "print(\"The accuracy on test data is :\", test_accuracy)\n",
        "print('--'*20)\n",
        "print('--'*20)\n",
        "\n",
        "cm_train = confusion_matrix(XGB_y_pred_train, y_train)\n",
        "cm_test = confusion_matrix(XGB_y_pred_test, y_test)\n",
        "\n",
        "print(\"The confusion matrix on the train data is :\")\n",
        "print(cm_train)\n",
        "print('')\n",
        "print(\"The confusion matrix on the train data is :\")\n",
        "print(cm_test)\n",
        "print('--'*20)\n",
        "print('--'*20)\n",
        "\n",
        "train_report = classification_report(XGB_y_pred_train, y_train)\n",
        "test_report = classification_report(XGB_y_pred_test, y_test)\n",
        "print(\"The classification report on the train data is :\")\n",
        "print(train_report)\n",
        "print('')\n",
        "print(\"The classification report on the test data is :\")\n",
        "print(test_report)\n",
        "print('--'*20)\n",
        "print('--'*20)\n",
        "\n",
        "train_roc_auc_score = roc_auc_score(y_train,  XGB_optimal_model.predict_proba(X_train), multi_class='ovr')\n",
        "test_roc_auc_score = roc_auc_score(y_test,  XGB_optimal_model.predict_proba(X_test), multi_class='ovr')\n",
        "print(\"The ROC AUC score on the train data is: \", train_roc_auc_score)\n",
        "print(\"The ROC AUC score on the test data is: \", test_roc_auc_score)"
      ]
    },
    {
      "cell_type": "markdown",
      "metadata": {
        "id": "KTWe0a6KPhsA"
      },
      "source": [
        "## The data is being over-fitted in case og XGB-Classifier"
      ]
    },
    {
      "cell_type": "markdown",
      "metadata": {
        "id": "qPPjJbNv4fnQ"
      },
      "source": [
        "## **K Nearest Neighbour Model**"
      ]
    },
    {
      "cell_type": "code",
      "execution_count": 296,
      "metadata": {
        "id": "56Ot_DnM4ak6"
      },
      "outputs": [],
      "source": [
        "from sklearn.neighbors import KNeighborsClassifier\n",
        "kn = KNeighborsClassifier(n_neighbors=20)\n",
        "kn.fit(X_train,y_train)\n",
        "\n",
        "# Predict the test set\n",
        "y_train_pred = kn.predict(X_train)\n",
        "\n",
        "y_test_pred = kn.predict(X_test)"
      ]
    },
    {
      "cell_type": "markdown",
      "metadata": {
        "id": "JYMiGKH45Gv6"
      },
      "source": [
        "### **Evaluating metrices**"
      ]
    },
    {
      "cell_type": "code",
      "execution_count": 297,
      "metadata": {
        "colab": {
          "base_uri": "https://localhost:8080/"
        },
        "id": "GysAfoGC4auq",
        "outputId": "0f6e3a5d-3242-45d7-f343-eb1d2d0d9c49"
      },
      "outputs": [
        {
          "output_type": "stream",
          "name": "stdout",
          "text": [
            "The accuracy on train data is : 0.731875\n",
            "The accuracy on test data is : 0.635\n",
            "----------------------------------------\n",
            "----------------------------------------\n",
            "The confusion matrix on the train data is :\n",
            "[[346  73   4   0]\n",
            " [ 58 266  84   6]\n",
            " [  1  65 271  92]\n",
            " [  0   4  42 288]]\n",
            "\n",
            "The confusion matrix on the train data is :\n",
            "[[76 25  0  0]\n",
            " [18 46 32  3]\n",
            " [ 1 20 59 38]\n",
            " [ 0  1  8 73]]\n",
            "----------------------------------------\n",
            "----------------------------------------\n",
            "The classification report on the train data is :\n",
            "              precision    recall  f1-score   support\n",
            "\n",
            "           0       0.85      0.82      0.84       423\n",
            "           1       0.65      0.64      0.65       414\n",
            "           2       0.68      0.63      0.65       429\n",
            "           3       0.75      0.86      0.80       334\n",
            "\n",
            "    accuracy                           0.73      1600\n",
            "   macro avg       0.73      0.74      0.73      1600\n",
            "weighted avg       0.73      0.73      0.73      1600\n",
            "\n",
            "\n",
            "The classification report on the test data is :\n",
            "              precision    recall  f1-score   support\n",
            "\n",
            "           0       0.80      0.75      0.78       101\n",
            "           1       0.50      0.46      0.48        99\n",
            "           2       0.60      0.50      0.54       118\n",
            "           3       0.64      0.89      0.74        82\n",
            "\n",
            "    accuracy                           0.64       400\n",
            "   macro avg       0.63      0.65      0.64       400\n",
            "weighted avg       0.63      0.64      0.63       400\n",
            "\n",
            "----------------------------------------\n",
            "----------------------------------------\n",
            "The ROC AUC score on the train data is:  0.9079378331105588\n",
            "The ROC AUC score on the test data is:  0.8681535501721691\n"
          ]
        }
      ],
      "source": [
        "# Get the accuracy scores\n",
        "\n",
        "train_accuracy = accuracy_score(y_train_pred,y_train)\n",
        "test_accuracy = accuracy_score(y_test_pred,y_test)\n",
        "\n",
        "print(\"The accuracy on train data is :\", train_accuracy)\n",
        "print(\"The accuracy on test data is :\", test_accuracy)\n",
        "print('--'*20)\n",
        "print('--'*20)\n",
        "\n",
        "cm_train = confusion_matrix(y_train_pred, y_train)\n",
        "cm_test = confusion_matrix(y_test_pred, y_test)\n",
        "\n",
        "print(\"The confusion matrix on the train data is :\")\n",
        "print(cm_train)\n",
        "print('')\n",
        "print(\"The confusion matrix on the train data is :\")\n",
        "print(cm_test)\n",
        "print('--'*20)\n",
        "print('--'*20)\n",
        "\n",
        "train_report = classification_report(y_train_pred, y_train)\n",
        "test_report = classification_report(y_test_pred, y_test)\n",
        "print(\"The classification report on the train data is :\")\n",
        "print(train_report)\n",
        "print('')\n",
        "print(\"The classification report on the test data is :\")\n",
        "print(test_report)\n",
        "print('--'*20)\n",
        "print('--'*20)\n",
        "\n",
        "train_roc_auc_score = roc_auc_score(y_train,  kn.predict_proba(X_train), multi_class='ovr')\n",
        "test_roc_auc_score = roc_auc_score(y_test,  kn.predict_proba(X_test), multi_class='ovr')\n",
        "print(\"The ROC AUC score on the train data is: \", train_roc_auc_score)\n",
        "print(\"The ROC AUC score on the test data is: \", test_roc_auc_score)"
      ]
    },
    {
      "cell_type": "code",
      "execution_count": 298,
      "metadata": {
        "colab": {
          "base_uri": "https://localhost:8080/",
          "height": 458
        },
        "id": "LGeV4qAw4axl",
        "outputId": "c4fc6552-ec57-436f-ea57-6af9bc37a652"
      },
      "outputs": [
        {
          "output_type": "display_data",
          "data": {
            "image/png": "[encoded data removed]",
            "text/plain": [
              "<Figure size 720x504 with 2 Axes>"
            ]
          },
          "metadata": {
            "needs_background": "light"
          }
        }
      ],
      "source": [
        "# Trian Matrix\n",
        "\n",
        "train_confusion_matrix(cm_train)"
      ]
    },
    {
      "cell_type": "code",
      "execution_count": 299,
      "metadata": {
        "colab": {
          "base_uri": "https://localhost:8080/",
          "height": 458
        },
        "id": "SQIouo9A4a0t",
        "outputId": "6d75a7ad-d206-4c9e-e1a1-40ab0dce655a"
      },
      "outputs": [
        {
          "output_type": "display_data",
          "data": {
            "image/png": "[encoded data removed]",
            "text/plain": [
              "<Figure size 720x504 with 2 Axes>"
            ]
          },
          "metadata": {
            "needs_background": "light"
          }
        }
      ],
      "source": [
        "# Test matrix\n",
        "\n",
        "test_confusion_matrix(cm_test)"
      ]
    },
    {
      "cell_type": "markdown",
      "metadata": {
        "id": "k49qtUAtPqA4"
      },
      "source": [
        "#**Support Vector Classifier (SVC) Implementation**"
      ]
    },
    {
      "cell_type": "code",
      "execution_count": 300,
      "metadata": {
        "id": "Q7IF3s3VPbgU"
      },
      "outputs": [],
      "source": [
        "# Importing Required files and implementing \n",
        "\n",
        "from sklearn import svm\n",
        "svm_clf = svm.SVC(probability=True)"
      ]
    },
    {
      "cell_type": "code",
      "execution_count": 301,
      "metadata": {
        "colab": {
          "base_uri": "https://localhost:8080/"
        },
        "id": "wmZOSJkLQmml",
        "outputId": "7bcc04ba-d46e-4b31-df10-e80df83dcf94"
      },
      "outputs": [
        {
          "output_type": "execute_result",
          "data": {
            "text/plain": [
              "SVC(probability=True)"
            ]
          },
          "metadata": {},
          "execution_count": 301
        }
      ],
      "source": [
        "svm_clf.fit(X_train, y_train)"
      ]
    },
    {
      "cell_type": "code",
      "execution_count": 302,
      "metadata": {
        "id": "AATSdEyEQv9s"
      },
      "outputs": [],
      "source": [
        "svm_y_pred_train = svm_clf.predict(X_train)   # Prediction for train dataset\n",
        "svm_y_pred_test = svm_clf.predict(X_test)     # Predictionfor test dataset"
      ]
    },
    {
      "cell_type": "markdown",
      "metadata": {
        "id": "QaCTTj6VQ-qj"
      },
      "source": [
        "### **Evaluating metrices**"
      ]
    },
    {
      "cell_type": "code",
      "execution_count": 303,
      "metadata": {
        "colab": {
          "base_uri": "https://localhost:8080/"
        },
        "id": "BaiCFxXwQ9e9",
        "outputId": "0f254260-9ddd-4f5a-a04c-8cc3172fae3d"
      },
      "outputs": [
        {
          "output_type": "stream",
          "name": "stdout",
          "text": [
            "The accuracy on train data is : 0.981875\n",
            "The accuracy on test data is : 0.9175\n",
            "----------------------------------------\n",
            "----------------------------------------\n",
            "The confusion matrix on the train data is :\n",
            "[[400   3   0   0]\n",
            " [  5 397   7   0]\n",
            " [  0   8 393   5]\n",
            " [  0   0   1 381]]\n",
            "\n",
            "The confusion matrix on the train data is :\n",
            "[[ 92   4   0   0]\n",
            " [  3  82   7   0]\n",
            " [  0   6  89  10]\n",
            " [  0   0   3 104]]\n",
            "----------------------------------------\n",
            "----------------------------------------\n",
            "The classification report on the train data is :\n",
            "              precision    recall  f1-score   support\n",
            "\n",
            "           0       0.99      0.99      0.99       403\n",
            "           1       0.97      0.97      0.97       409\n",
            "           2       0.98      0.97      0.97       406\n",
            "           3       0.99      1.00      0.99       382\n",
            "\n",
            "    accuracy                           0.98      1600\n",
            "   macro avg       0.98      0.98      0.98      1600\n",
            "weighted avg       0.98      0.98      0.98      1600\n",
            "\n",
            "\n",
            "The classification report on the test data is :\n",
            "              precision    recall  f1-score   support\n",
            "\n",
            "           0       0.97      0.96      0.96        96\n",
            "           1       0.89      0.89      0.89        92\n",
            "           2       0.90      0.85      0.87       105\n",
            "           3       0.91      0.97      0.94       107\n",
            "\n",
            "    accuracy                           0.92       400\n",
            "   macro avg       0.92      0.92      0.92       400\n",
            "weighted avg       0.92      0.92      0.92       400\n",
            "\n",
            "----------------------------------------\n",
            "----------------------------------------\n",
            "The ROC AUC score on the train data is:  0.9994170720109833\n",
            "The ROC AUC score on the test data is:  0.9908073522924732\n"
          ]
        }
      ],
      "source": [
        "train_accuracy = accuracy_score(svm_y_pred_train,y_train)\n",
        "test_accuracy = accuracy_score(svm_y_pred_test,y_test)\n",
        "\n",
        "print(\"The accuracy on train data is :\", train_accuracy)\n",
        "print(\"The accuracy on test data is :\", test_accuracy)\n",
        "print('--'*20)\n",
        "print('--'*20)\n",
        "\n",
        "cm_train = confusion_matrix(svm_y_pred_train, y_train)\n",
        "cm_test = confusion_matrix(svm_y_pred_test, y_test)\n",
        "\n",
        "print(\"The confusion matrix on the train data is :\")\n",
        "print(cm_train)\n",
        "print('')\n",
        "print(\"The confusion matrix on the train data is :\")\n",
        "print(cm_test)\n",
        "print('--'*20)\n",
        "print('--'*20)\n",
        "\n",
        "train_report = classification_report(svm_y_pred_train, y_train)\n",
        "test_report = classification_report(svm_y_pred_test, y_test)\n",
        "print(\"The classification report on the train data is :\")\n",
        "print(train_report)\n",
        "print('')\n",
        "print(\"The classification report on the test data is :\")\n",
        "print(test_report)\n",
        "print('--'*20)\n",
        "print('--'*20)\n",
        "\n",
        "train_roc_auc_score = roc_auc_score(y_train,  svm_clf.predict_proba(X_train), multi_class='ovr')\n",
        "test_roc_auc_score = roc_auc_score(y_test,  svm_clf.predict_proba(X_test), multi_class='ovr')\n",
        "print(\"The ROC AUC score on the train data is: \", train_roc_auc_score)\n",
        "print(\"The ROC AUC score on the test data is: \", test_roc_auc_score)"
      ]
    },
    {
      "cell_type": "code",
      "execution_count": 304,
      "metadata": {
        "colab": {
          "base_uri": "https://localhost:8080/",
          "height": 458
        },
        "id": "MJmp5X0XRpY8",
        "outputId": "8e2a123d-9803-4338-b495-d1b02f7997e5"
      },
      "outputs": [
        {
          "output_type": "display_data",
          "data": {
            "image/png": "[encoded data removed]",
            "text/plain": [
              "<Figure size 720x504 with 2 Axes>"
            ]
          },
          "metadata": {
            "needs_background": "light"
          }
        }
      ],
      "source": [
        "# Plotting the train confusion matrix\n",
        "\n",
        "train_confusion_matrix(cm_train)"
      ]
    },
    {
      "cell_type": "code",
      "execution_count": 305,
      "metadata": {
        "colab": {
          "base_uri": "https://localhost:8080/",
          "height": 458
        },
        "id": "kMyClNK8DjgD",
        "outputId": "281086a9-7450-44b2-ea33-f7d205a2edaa"
      },
      "outputs": [
        {
          "output_type": "display_data",
          "data": {
            "image/png": "[encoded data removed]",
            "text/plain": [
              "<Figure size 720x504 with 2 Axes>"
            ]
          },
          "metadata": {
            "needs_background": "light"
          }
        }
      ],
      "source": [
        "# Plotting the test confusion matrix\n",
        "\n",
        "test_confusion_matrix(cm_test)"
      ]
    },
    {
      "cell_type": "markdown",
      "metadata": {
        "id": "EYZM701GLn5Y"
      },
      "source": [
        "\n",
        "## SVM always lives up to expectations. Excellent results obtained using SVM "
      ]
    },
    {
      "cell_type": "markdown",
      "metadata": {
        "id": "2pxSrOwsCc2x"
      },
      "source": [
        "# **Applying NEURAL NETWORKS**"
      ]
    },
    {
      "cell_type": "code",
      "execution_count": 306,
      "metadata": {
        "id": "V62CaXz4CcAw"
      },
      "outputs": [],
      "source": [
        "#Importing MinMaxScaler to scale the inputs\n",
        "\n",
        "from sklearn.preprocessing import MinMaxScaler\n",
        "scaler = MinMaxScaler()\n",
        "\n",
        "# Scaling features matrix\n",
        "from sklearn.metrics import accuracy_score\n",
        "from sklearn.preprocessing import StandardScaler\n",
        "\n",
        "std_sc = StandardScaler()\n",
        "X1 = std_sc.fit_transform(X=X)\n",
        "\n",
        "# Splitting the data into train and test\n",
        "from sklearn.model_selection import train_test_split,cross_val_score,GridSearchCV\n",
        "\n",
        "X_train, X_test,y_train,y_test = train_test_split(X1,y,test_size=0.2)"
      ]
    },
    {
      "cell_type": "code",
      "execution_count": 307,
      "metadata": {
        "id": "eqs1xzBGCcDr"
      },
      "outputs": [],
      "source": [
        "# Importing MLPClassifier  -------- This model optimizes the log-loss function using LBFGS or stochastic gradient descent.\n",
        "\n",
        "from sklearn.neural_network import MLPClassifier"
      ]
    },
    {
      "cell_type": "code",
      "execution_count": 308,
      "metadata": {
        "id": "LZ78c1sLCcGz"
      },
      "outputs": [],
      "source": [
        "nn = MLPClassifier(solver='lbfgs', alpha= 1e-5, hidden_layer_sizes=(5,2), random_state=0, max_iter = 1000)"
      ]
    },
    {
      "cell_type": "code",
      "execution_count": 309,
      "metadata": {
        "colab": {
          "base_uri": "https://localhost:8080/"
        },
        "id": "0YjI5lcWCcId",
        "outputId": "ef3dc3f5-f043-4d03-d7d9-f90855277fd6"
      },
      "outputs": [
        {
          "output_type": "execute_result",
          "data": {
            "text/plain": [
              "MLPClassifier(alpha=1e-05, hidden_layer_sizes=(5, 2), max_iter=1000,\n",
              "              random_state=0, solver='lbfgs')"
            ]
          },
          "metadata": {},
          "execution_count": 309
        }
      ],
      "source": [
        "nn.fit(X_train, y_train)"
      ]
    },
    {
      "cell_type": "code",
      "execution_count": 310,
      "metadata": {
        "colab": {
          "base_uri": "https://localhost:8080/"
        },
        "id": "7dMO3mHwCcL5",
        "outputId": "33924a95-a19c-45e1-b2e9-e2e9040c6802"
      },
      "outputs": [
        {
          "output_type": "execute_result",
          "data": {
            "text/plain": [
              "0.7225"
            ]
          },
          "metadata": {},
          "execution_count": 310
        }
      ],
      "source": [
        "nn.score(X_test, y_test)"
      ]
    },
    {
      "cell_type": "code",
      "execution_count": 311,
      "metadata": {
        "id": "bM9UVXagCcN3"
      },
      "outputs": [],
      "source": [
        "parameter = {\n",
        "    'hidden_layer_sizes':[(5,2),(10,),(20,)],\n",
        "    'activation' : ['tanh', 'relu'],\n",
        "    'solver':['lbfgs','sgd','adam'],\n",
        "    'alpha':[0.0001,0.05, 1e-5],\n",
        "    'max_iter':[10,100,1000,10000]\n",
        "}"
      ]
    },
    {
      "cell_type": "code",
      "execution_count": 312,
      "metadata": {
        "colab": {
          "base_uri": "https://localhost:8080/"
        },
        "id": "077ff6oWCcQF",
        "outputId": "50c65e09-435e-4c03-e427-3bf8fb7f552a"
      },
      "outputs": [
        {
          "output_type": "execute_result",
          "data": {
            "text/plain": [
              "GridSearchCV(cv=2,\n",
              "             estimator=MLPClassifier(alpha=1e-05, hidden_layer_sizes=(5, 2),\n",
              "                                     max_iter=1000, random_state=0,\n",
              "                                     solver='lbfgs'),\n",
              "             n_jobs=-1,\n",
              "             param_grid={'activation': ['tanh', 'relu'],\n",
              "                         'alpha': [0.0001, 0.05, 1e-05],\n",
              "                         'hidden_layer_sizes': [(5, 2), (10,), (20,)],\n",
              "                         'max_iter': [10, 100, 1000, 10000],\n",
              "                         'solver': ['lbfgs', 'sgd', 'adam']})"
            ]
          },
          "metadata": {},
          "execution_count": 312
        }
      ],
      "source": [
        "from sklearn.model_selection import GridSearchCV\n",
        "nn_clf = GridSearchCV(nn,parameter, n_jobs=-1, cv=2)\n",
        "nn_clf.fit(X_train, y_train)"
      ]
    },
    {
      "cell_type": "code",
      "execution_count": 313,
      "metadata": {
        "colab": {
          "base_uri": "https://localhost:8080/"
        },
        "id": "znnGwsVdEy_g",
        "outputId": "e5bb9737-f362-47f1-ca30-444e5ea26b4e"
      },
      "outputs": [
        {
          "output_type": "execute_result",
          "data": {
            "text/plain": [
              "{'activation': 'tanh',\n",
              " 'alpha': 0.0001,\n",
              " 'hidden_layer_sizes': (10,),\n",
              " 'max_iter': 10000,\n",
              " 'solver': 'adam'}"
            ]
          },
          "metadata": {},
          "execution_count": 313
        }
      ],
      "source": [
        "nn_clf.best_params_"
      ]
    },
    {
      "cell_type": "code",
      "execution_count": 314,
      "metadata": {
        "colab": {
          "base_uri": "https://localhost:8080/"
        },
        "id": "rb3QQpZBEzCQ",
        "outputId": "c1650492-07b9-4a9c-a3ee-1ffa3ef233ab"
      },
      "outputs": [
        {
          "output_type": "execute_result",
          "data": {
            "text/plain": [
              "0.9675"
            ]
          },
          "metadata": {},
          "execution_count": 314
        }
      ],
      "source": [
        "nn_clf.score(X_test,y_test)"
      ]
    },
    {
      "cell_type": "code",
      "execution_count": 315,
      "metadata": {
        "id": "FbSZMSDZFDuE"
      },
      "outputs": [],
      "source": [
        "nn_y_pred_train = nn_clf.predict(X_train)   # Prediction for train dataset\n",
        "nn_y_pred_test = nn_clf.predict(X_test)     # Predictionfor test dataset"
      ]
    },
    {
      "cell_type": "markdown",
      "metadata": {
        "id": "0BLVRSb7E5Mx"
      },
      "source": [
        "## **Evaluation Metrics**"
      ]
    },
    {
      "cell_type": "code",
      "execution_count": 316,
      "metadata": {
        "colab": {
          "base_uri": "https://localhost:8080/"
        },
        "id": "NnZSolKUEzEs",
        "outputId": "5299aca1-6525-4675-a442-55f99537f4be"
      },
      "outputs": [
        {
          "output_type": "stream",
          "name": "stdout",
          "text": [
            "The accuracy on train data is : 0.991875\n",
            "The accuracy on test data is : 0.9675\n",
            "----------------------------------------\n",
            "----------------------------------------\n",
            "The confusion matrix on the train data is :\n",
            "[[407   1   0   0]\n",
            " [  0 389   2   0]\n",
            " [  0   3 387   3]\n",
            " [  0   0   4 404]]\n",
            "\n",
            "The confusion matrix on the train data is :\n",
            "[[ 92   2   0   0]\n",
            " [  1 100   3   0]\n",
            " [  0   5 103   1]\n",
            " [  0   0   1  92]]\n",
            "----------------------------------------\n",
            "----------------------------------------\n",
            "The classification report on the train data is :\n",
            "              precision    recall  f1-score   support\n",
            "\n",
            "           0       1.00      1.00      1.00       408\n",
            "           1       0.99      0.99      0.99       391\n",
            "           2       0.98      0.98      0.98       393\n",
            "           3       0.99      0.99      0.99       408\n",
            "\n",
            "    accuracy                           0.99      1600\n",
            "   macro avg       0.99      0.99      0.99      1600\n",
            "weighted avg       0.99      0.99      0.99      1600\n",
            "\n",
            "\n",
            "The classification report on the test data is :\n",
            "              precision    recall  f1-score   support\n",
            "\n",
            "           0       0.99      0.98      0.98        94\n",
            "           1       0.93      0.96      0.95       104\n",
            "           2       0.96      0.94      0.95       109\n",
            "           3       0.99      0.99      0.99        93\n",
            "\n",
            "    accuracy                           0.97       400\n",
            "   macro avg       0.97      0.97      0.97       400\n",
            "weighted avg       0.97      0.97      0.97       400\n",
            "\n",
            "----------------------------------------\n",
            "----------------------------------------\n",
            "The ROC AUC score on the train data is:  0.9999081820548765\n",
            "The ROC AUC score on the test data is:  0.9983282200468593\n"
          ]
        }
      ],
      "source": [
        "train_accuracy = accuracy_score(nn_y_pred_train,y_train)\n",
        "test_accuracy = accuracy_score(nn_y_pred_test,y_test)\n",
        "\n",
        "print(\"The accuracy on train data is :\", train_accuracy)\n",
        "print(\"The accuracy on test data is :\", test_accuracy)\n",
        "print('--'*20)\n",
        "print('--'*20)\n",
        "\n",
        "cm_train = confusion_matrix(nn_y_pred_train, y_train)\n",
        "cm_test = confusion_matrix(nn_y_pred_test, y_test)\n",
        "\n",
        "print(\"The confusion matrix on the train data is :\")\n",
        "print(cm_train)\n",
        "print('')\n",
        "print(\"The confusion matrix on the train data is :\")\n",
        "print(cm_test)\n",
        "print('--'*20)\n",
        "print('--'*20)\n",
        "\n",
        "train_report = classification_report(nn_y_pred_train, y_train)\n",
        "test_report = classification_report(nn_y_pred_test, y_test)\n",
        "print(\"The classification report on the train data is :\")\n",
        "print(train_report)\n",
        "print('')\n",
        "print(\"The classification report on the test data is :\")\n",
        "print(test_report)\n",
        "print('--'*20)\n",
        "print('--'*20)\n",
        "\n",
        "train_roc_auc_score = roc_auc_score(y_train,  nn_clf.predict_proba(X_train), multi_class='ovr')\n",
        "test_roc_auc_score = roc_auc_score(y_test,  nn_clf.predict_proba(X_test), multi_class='ovr')\n",
        "print(\"The ROC AUC score on the train data is: \", train_roc_auc_score)\n",
        "print(\"The ROC AUC score on the test data is: \", test_roc_auc_score)"
      ]
    },
    {
      "cell_type": "markdown",
      "metadata": {
        "id": "7qYMZyd0X40H"
      },
      "source": [
        "## **Our Neural-Network outperformed all the other algorithms.**"
      ]
    },
    {
      "cell_type": "code",
      "execution_count": 317,
      "metadata": {
        "colab": {
          "base_uri": "https://localhost:8080/",
          "height": 458
        },
        "id": "qIW1uJ1qEzIe",
        "outputId": "19eb71c6-b009-4380-9b9d-1de7840af42e"
      },
      "outputs": [
        {
          "output_type": "display_data",
          "data": {
            "image/png": "[encoded data removed]",
            "text/plain": [
              "<Figure size 720x504 with 2 Axes>"
            ]
          },
          "metadata": {
            "needs_background": "light"
          }
        }
      ],
      "source": [
        "# Plotting the train confusion matrix\n",
        "\n",
        "train_confusion_matrix(cm_train)"
      ]
    },
    {
      "cell_type": "code",
      "execution_count": 318,
      "metadata": {
        "colab": {
          "base_uri": "https://localhost:8080/",
          "height": 458
        },
        "id": "ZVWrlm8oEzKX",
        "outputId": "86128f04-722b-4325-b79e-b8cfdc9dca94"
      },
      "outputs": [
        {
          "output_type": "display_data",
          "data": {
            "image/png": "[encoded data removed]",
            "text/plain": [
              "<Figure size 720x504 with 2 Axes>"
            ]
          },
          "metadata": {
            "needs_background": "light"
          }
        }
      ],
      "source": [
        "# Plotting the test confusion matrix\n",
        "\n",
        "test_confusion_matrix(cm_test)"
      ]
    },
    {
      "cell_type": "markdown",
      "metadata": {
        "id": "Oq1ji4AbFQ7A"
      },
      "source": [
        "# **COMPARISON**"
      ]
    },
    {
      "cell_type": "code",
      "execution_count": 319,
      "metadata": {
        "id": "CwjIzYdeLnao"
      },
      "outputs": [],
      "source": [
        "Comparision_dict={'Model_Name':['Logistic Regression','Decision Tree','KNN', 'Support Vector Machine', 'Neural-Network'],\n",
        "                  'Training_accuracy':[0.978,0.941,0.731,0.980,0.983],\n",
        "                  'Test_accuracy':[0.955,0.855,0.635,0.917,0.975],\n",
        "                  'Train_roc_auc_score':[0.999,0.996,0.907,0.999,0.999],\n",
        "                  'Test_roc_auc_score':[0.998,0.944,0.868,0.990,0.998]} "
      ]
    },
    {
      "cell_type": "markdown",
      "metadata": {
        "id": "jUfpsIzFg33I"
      },
      "source": [
        "## Removing 'Random Forest' & 'XGBoost' from our model comparsion as they were overfitting the data, also we had other model working so perfectly that we don't need them in the comparsion."
      ]
    },
    {
      "cell_type": "code",
      "execution_count": 320,
      "metadata": {
        "id": "3QOkUyd5aS_w"
      },
      "outputs": [],
      "source": [
        "Comparisione_df=pd.DataFrame(Comparision_dict)"
      ]
    },
    {
      "cell_type": "code",
      "execution_count": 321,
      "metadata": {
        "colab": {
          "base_uri": "https://localhost:8080/",
          "height": 206
        },
        "id": "TwyVO6sJaTDj",
        "outputId": "52a0a024-843a-468c-dfdb-13f1de9a13a0"
      },
      "outputs": [
        {
          "output_type": "execute_result",
          "data": {
            "text/html": [
              "\n",
              "  <div id=\"df-08b8a357-a893-4195-9037-323dcecda302\">\n",
              "    <div class=\"colab-df-container\">\n",
              "      <div>\n",
              "<style scoped>\n",
              "    .dataframe tbody tr th:only-of-type {\n",
              "        vertical-align: middle;\n",
              "    }\n",
              "\n",
              "    .dataframe tbody tr th {\n",
              "        vertical-align: top;\n",
              "    }\n",
              "\n",
              "    .dataframe thead th {\n",
              "        text-align: right;\n",
              "    }\n",
              "</style>\n",
              "<table border=\"1\" class=\"dataframe\">\n",
              "  <thead>\n",
              "    <tr style=\"text-align: right;\">\n",
              "      <th></th>\n",
              "      <th>Model_Name</th>\n",
              "      <th>Training_accuracy</th>\n",
              "      <th>Test_accuracy</th>\n",
              "      <th>Train_roc_auc_score</th>\n",
              "      <th>Test_roc_auc_score</th>\n",
              "    </tr>\n",
              "  </thead>\n",
              "  <tbody>\n",
              "    <tr>\n",
              "      <th>0</th>\n",
              "      <td>Logistic Regression</td>\n",
              "      <td>0.978</td>\n",
              "      <td>0.955</td>\n",
              "      <td>0.999</td>\n",
              "      <td>0.998</td>\n",
              "    </tr>\n",
              "    <tr>\n",
              "      <th>1</th>\n",
              "      <td>Decision Tree</td>\n",
              "      <td>0.941</td>\n",
              "      <td>0.855</td>\n",
              "      <td>0.996</td>\n",
              "      <td>0.944</td>\n",
              "    </tr>\n",
              "    <tr>\n",
              "      <th>2</th>\n",
              "      <td>KNN</td>\n",
              "      <td>0.731</td>\n",
              "      <td>0.635</td>\n",
              "      <td>0.907</td>\n",
              "      <td>0.868</td>\n",
              "    </tr>\n",
              "    <tr>\n",
              "      <th>3</th>\n",
              "      <td>Support Vector Machine</td>\n",
              "      <td>0.980</td>\n",
              "      <td>0.917</td>\n",
              "      <td>0.999</td>\n",
              "      <td>0.990</td>\n",
              "    </tr>\n",
              "    <tr>\n",
              "      <th>4</th>\n",
              "      <td>Neural-Network</td>\n",
              "      <td>0.983</td>\n",
              "      <td>0.975</td>\n",
              "      <td>0.999</td>\n",
              "      <td>0.998</td>\n",
              "    </tr>\n",
              "  </tbody>\n",
              "</table>\n",
              "</div>\n",
              "      <button class=\"colab-df-convert\" onclick=\"convertToInteractive('df-08b8a357-a893-4195-9037-323dcecda302')\"\n",
              "              title=\"Convert this dataframe to an interactive table.\"\n",
              "              style=\"display:none;\">\n",
              "        \n",
              "  <svg xmlns=\"http://www.w3.org/2000/svg\" height=\"24px\"viewBox=\"0 0 24 24\"\n",
              "       width=\"24px\">\n",
              "    <path d=\"M0 0h24v24H0V0z\" fill=\"none\"/>\n",
              "    <path d=\"M18.56 5.44l.94 2.06.94-2.06 2.06-.94-2.06-.94-.94-2.06-.94 2.06-2.06.94zm-11 1L8.5 8.5l.94-2.06 2.06-.94-2.06-.94L8.5 2.5l-.94 2.06-2.06.94zm10 10l.94 2.06.94-2.06 2.06-.94-2.06-.94-.94-2.06-.94 2.06-2.06.94z\"/><path d=\"M17.41 7.96l-1.37-1.37c-.4-.4-.92-.59-1.43-.59-.52 0-1.04.2-1.43.59L10.3 9.45l-7.72 7.72c-.78.78-.78 2.05 0 2.83L4 21.41c.39.39.9.59 1.41.59.51 0 1.02-.2 1.41-.59l7.78-7.78 2.81-2.81c.8-.78.8-2.07 0-2.86zM5.41 20L4 18.59l7.72-7.72 1.47 1.35L5.41 20z\"/>\n",
              "  </svg>\n",
              "      </button>\n",
              "      \n",
              "  <style>\n",
              "    .colab-df-container {\n",
              "      display:flex;\n",
              "      flex-wrap:wrap;\n",
              "      gap: 12px;\n",
              "    }\n",
              "\n",
              "    .colab-df-convert {\n",
              "      background-color: #E8F0FE;\n",
              "      border: none;\n",
              "      border-radius: 50%;\n",
              "      cursor: pointer;\n",
              "      display: none;\n",
              "      fill: #1967D2;\n",
              "      height: 32px;\n",
              "      padding: 0 0 0 0;\n",
              "      width: 32px;\n",
              "    }\n",
              "\n",
              "    .colab-df-convert:hover {\n",
              "      background-color: #E2EBFA;\n",
              "      box-shadow: 0px 1px 2px rgba(60, 64, 67, 0.3), 0px 1px 3px 1px rgba(60, 64, 67, 0.15);\n",
              "      fill: #174EA6;\n",
              "    }\n",
              "\n",
              "    [theme=dark] .colab-df-convert {\n",
              "      background-color: #3B4455;\n",
              "      fill: #D2E3FC;\n",
              "    }\n",
              "\n",
              "    [theme=dark] .colab-df-convert:hover {\n",
              "      background-color: #434B5C;\n",
              "      box-shadow: 0px 1px 3px 1px rgba(0, 0, 0, 0.15);\n",
              "      filter: drop-shadow(0px 1px 2px rgba(0, 0, 0, 0.3));\n",
              "      fill: #FFFFFF;\n",
              "    }\n",
              "  </style>\n",
              "\n",
              "      <script>\n",
              "        const buttonEl =\n",
              "          document.querySelector('#df-08b8a357-a893-4195-9037-323dcecda302 button.colab-df-convert');\n",
              "        buttonEl.style.display =\n",
              "          google.colab.kernel.accessAllowed ? 'block' : 'none';\n",
              "\n",
              "        async function convertToInteractive(key) {\n",
              "          const element = document.querySelector('#df-08b8a357-a893-4195-9037-323dcecda302');\n",
              "          const dataTable =\n",
              "            await google.colab.kernel.invokeFunction('convertToInteractive',\n",
              "                                                     [key], {});\n",
              "          if (!dataTable) return;\n",
              "\n",
              "          const docLinkHtml = 'Like what you see? Visit the ' +\n",
              "            '<a target=\"_blank\" href=https://colab.research.google.com/notebooks/data_table.ipynb>data table notebook</a>'\n",
              "            + ' to learn more about interactive tables.';\n",
              "          element.innerHTML = '';\n",
              "          dataTable['output_type'] = 'display_data';\n",
              "          await google.colab.output.renderOutput(dataTable, element);\n",
              "          const docLink = document.createElement('div');\n",
              "          docLink.innerHTML = docLinkHtml;\n",
              "          element.appendChild(docLink);\n",
              "        }\n",
              "      </script>\n",
              "    </div>\n",
              "  </div>\n",
              "  "
            ],
            "text/plain": [
              "               Model_Name  ...  Test_roc_auc_score\n",
              "0     Logistic Regression  ...               0.998\n",
              "1           Decision Tree  ...               0.944\n",
              "2                     KNN  ...               0.868\n",
              "3  Support Vector Machine  ...               0.990\n",
              "4          Neural-Network  ...               0.998\n",
              "\n",
              "[5 rows x 5 columns]"
            ]
          },
          "metadata": {},
          "execution_count": 321
        }
      ],
      "source": [
        "Comparisione_df"
      ]
    },
    {
      "cell_type": "code",
      "execution_count": 322,
      "metadata": {
        "id": "1gqOhYcmaTFY"
      },
      "outputs": [],
      "source": [
        "def barplots(x,y):\n",
        "    plt.figure(figsize=(10,5))\n",
        "    sns.barplot(data=Comparisione_df, x='Model_Name', y=y, palette='ch:s=-.2,r=.6')"
      ]
    },
    {
      "cell_type": "code",
      "execution_count": 323,
      "metadata": {
        "colab": {
          "base_uri": "https://localhost:8080/",
          "height": 1000
        },
        "id": "bZNie8w1Dsp1",
        "outputId": "5fb18bb5-0d93-43ba-9c40-4cd1da0c6296"
      },
      "outputs": [
        {
          "output_type": "display_data",
          "data": {
            "image/png": "[encoded data removed]",
            "text/plain": [
              "<Figure size 720x360 with 1 Axes>"
            ]
          },
          "metadata": {
            "needs_background": "light"
          }
        },
        {
          "output_type": "display_data",
          "data": {
            "image/png": "[encoded data removed]",
            "text/plain": [
              "<Figure size 720x360 with 1 Axes>"
            ]
          },
          "metadata": {
            "needs_background": "light"
          }
        },
        {
          "output_type": "display_data",
          "data": {
            "image/png": "[encoded data removed]",
            "text/plain": [
              "<Figure size 720x360 with 1 Axes>"
            ]
          },
          "metadata": {
            "needs_background": "light"
          }
        },
        {
          "output_type": "display_data",
          "data": {
            "image/png": "[encoded data removed]",
            "text/plain": [
              "<Figure size 720x360 with 1 Axes>"
            ]
          },
          "metadata": {
            "needs_background": "light"
          }
        }
      ],
      "source": [
        "y=['Training_accuracy','Test_accuracy','Train_roc_auc_score','Test_roc_auc_score']\n",
        "for i in y:\n",
        "    barplots('Model_Name',i)\n",
        "    plt.show()\n"
      ]
    },
    {
      "cell_type": "markdown",
      "metadata": {
        "id": "zBBRS63NhRNX"
      },
      "source": [
        "# **Conclusion**"
      ]
    },
    {
      "cell_type": "markdown",
      "metadata": {
        "id": "HnKHAWmxj6zP"
      },
      "source": [
        "## Logistic regression and Support Vector Machine have a really tough competition but were surpassed by Neural Networks.\n",
        "\n",
        "# Thus; for production we will go with our **Neural Network Model** "
      ]
    },
    {
      "cell_type": "markdown",
      "source": [
        "* As observed Logistic Regression and decision tree model performs well along with support vector machine and neural network model.\n",
        "* Out of all the model we have tried Neural Network is performing well on overall classes.\n",
        "* **Ram, Battery power, Mobile weight, Screen size** and **Pixels** are key features in predicting the mobile price range.\n"
      ],
      "metadata": {
        "id": "J7kfim63FcUz"
      }
    },
    {
      "cell_type": "code",
      "execution_count": 323,
      "metadata": {
        "id": "Vrd2KoJjegsc"
      },
      "outputs": [],
      "source": [
        ""
      ]
    }
  ],
  "metadata": {
    "colab": {
      "collapsed_sections": [],
      "name": "Capstone-3 Mobile_Price_Prediction.ipynb",
      "provenance": [],
      "include_colab_link": true
    },
    "kernelspec": {
      "display_name": "Python 3",
      "name": "python3"
    },
    "language_info": {
      "name": "python"
    }
  },
  "nbformat": 4,
  "nbformat_minor": 0
}